{
  "nbformat": 4,
  "nbformat_minor": 0,
  "metadata": {
    "colab": {
      "provenance": [],
      "mount_file_id": "1_rUSouy7Jj5JzUNQQBcunU5udhgoJw0z",
      "authorship_tag": "ABX9TyNV3cGu22npJYQs8e9GZab/",
      "include_colab_link": true
    },
    "kernelspec": {
      "name": "python3",
      "display_name": "Python 3"
    },
    "language_info": {
      "name": "python"
    }
  },
  "cells": [
    {
      "cell_type": "markdown",
      "metadata": {
        "id": "view-in-github",
        "colab_type": "text"
      },
      "source": [
        "<a href=\"https://colab.research.google.com/github/Confierka/pythonProject_HSE/blob/main/Project.ipynb\" target=\"_parent\"><img src=\"https://colab.research.google.com/assets/colab-badge.svg\" alt=\"Open In Colab\"/></a>"
      ]
    },
    {
      "cell_type": "markdown",
      "source": [
        "# Reading dataframes"
      ],
      "metadata": {
        "id": "M_VQ7Na00jZ2"
      }
    },
    {
      "cell_type": "code",
      "source": [
        "import numpy as np\n",
        "import plotly.graph_objects as go\n",
        "import pandas as pd\n",
        "import plotly.express as px\n",
        "from plotly import subplots"
      ],
      "metadata": {
        "id": "657OtWtOE-8x"
      },
      "execution_count": null,
      "outputs": []
    },
    {
      "cell_type": "code",
      "source": [
        "df = pd.read_csv ('/content/drive/MyDrive/Collab1/imdb_top_1000.csv')"
      ],
      "metadata": {
        "id": "39ibwruoGE8V"
      },
      "execution_count": null,
      "outputs": []
    },
    {
      "cell_type": "code",
      "source": [
        "df_inflation = pd.read_csv('/content/drive/MyDrive/Collab1/inflation_data_1701-2022.csv')"
      ],
      "metadata": {
        "id": "CRlP9OQQM0qG"
      },
      "execution_count": null,
      "outputs": []
    },
    {
      "cell_type": "markdown",
      "source": [
        "# Data Clenup"
      ],
      "metadata": {
        "id": "XhVo4-YMTE7o"
      }
    },
    {
      "cell_type": "code",
      "source": [
        "df_inflation.amount = df_inflation.iloc[-1].amount / df_inflation.amount"
      ],
      "metadata": {
        "id": "sNBGHLBGQAJD"
      },
      "execution_count": null,
      "outputs": []
    },
    {
      "cell_type": "code",
      "source": [
        "df.drop(['Poster_Link', 'Overview','Star1','Star2','Star3','Star4'], axis=1, inplace=True)"
      ],
      "metadata": {
        "id": "A05y2Km89v-a"
      },
      "execution_count": null,
      "outputs": []
    },
    {
      "cell_type": "code",
      "source": [
        "df.drop(df[df.Released_Year.str.isnumeric() == False].index, inplace=True)"
      ],
      "metadata": {
        "id": "mDBqkFZOScTp"
      },
      "execution_count": null,
      "outputs": []
    },
    {
      "cell_type": "code",
      "source": [
        "df.Released_Year = df.Released_Year.apply(int)"
      ],
      "metadata": {
        "id": "LEOyd-rKH61_"
      },
      "execution_count": null,
      "outputs": []
    },
    {
      "cell_type": "code",
      "source": [
        "df = df[df[\"Gross\"].isna() != True]\n",
        "df = df[df[\"Meta_score\"].isna() != True]\n",
        "df = df[df[\"Certificate\"].isna() != True]"
      ],
      "metadata": {
        "id": "orxVCxOIP74n"
      },
      "execution_count": null,
      "outputs": []
    },
    {
      "cell_type": "code",
      "source": [
        "def cleanRuntime (s):\n",
        "  return int(s.split()[0])\n",
        "\n",
        "df['Runtime'] = df['Runtime'].apply(cleanRuntime)"
      ],
      "metadata": {
        "id": "sCHra5tINf6X"
      },
      "execution_count": null,
      "outputs": []
    },
    {
      "cell_type": "code",
      "source": [
        "def clean_genre(genre):\n",
        "  return set(\n",
        "      g.strip().strip(',').lower() for g in genre.split()\n",
        "  )\n",
        "df['Genre'] = df['Genre'].apply(clean_genre)"
      ],
      "metadata": {
        "id": "f_9d9qNFEQts"
      },
      "execution_count": null,
      "outputs": []
    },
    {
      "cell_type": "code",
      "source": [
        "df['Gross'] = df[\"Gross\"].apply(str)\n",
        "def cleanGross2(s):\n",
        "  return s.replace(\",\", \"\")\n",
        "df['Gross'] = df[\"Gross\"].apply(cleanGross2)\n",
        "df['Gross'] = df['Gross'].apply(int)"
      ],
      "metadata": {
        "id": "T_COB46iBqSq"
      },
      "execution_count": null,
      "outputs": []
    },
    {
      "cell_type": "code",
      "source": [
        "df['Dollar_price'] = pd.merge (\n",
        "    left = df.reset_index(),\n",
        "    right=df_inflation,\n",
        "    how='left',\n",
        "    left_on =\"Released_Year\",\n",
        "    right_on='year'\n",
        ").set_index('index')['amount']"
      ],
      "metadata": {
        "id": "F8Y8oVKMWoPs"
      },
      "execution_count": null,
      "outputs": []
    },
    {
      "cell_type": "code",
      "source": [
        "df['Indexed_Gross'] = df['Gross']*df['Dollar_price']"
      ],
      "metadata": {
        "id": "oZZ7-DppW209"
      },
      "execution_count": null,
      "outputs": []
    },
    {
      "cell_type": "code",
      "source": [
        "df.isna().sum().sum()"
      ],
      "metadata": {
        "colab": {
          "base_uri": "https://localhost:8080/"
        },
        "id": "l3YvE479NG0D",
        "outputId": "773c7002-6227-4f0e-92ae-48cce379c496"
      },
      "execution_count": null,
      "outputs": [
        {
          "output_type": "execute_result",
          "data": {
            "text/plain": [
              "0"
            ]
          },
          "metadata": {},
          "execution_count": 14
        }
      ]
    },
    {
      "cell_type": "markdown",
      "source": [
        "# Statistics"
      ],
      "metadata": {
        "id": "fND_xJe3U_5G"
      }
    },
    {
      "cell_type": "code",
      "source": [
        "MeanRating = df['IMDB_Rating'].mean()\n",
        "MedianRating = df['IMDB_Rating'].median()\n",
        "StdRating = df['IMDB_Rating'].std()\n",
        "\n",
        "MeanRuntime = df['Runtime'].mean()\n",
        "MedianRuntime = df['Runtime'].median()\n",
        "StdRuntime = df['Runtime'].std()\n",
        "\n",
        "MeanGross = df['Indexed_Gross'].mean()\n",
        "MedianGross = df['Indexed_Gross'].median()\n",
        "StdGross = df['Indexed_Gross'].std()\n"
      ],
      "metadata": {
        "id": "YDIois30Gyjt"
      },
      "execution_count": null,
      "outputs": []
    },
    {
      "cell_type": "code",
      "source": [
        "print('Rating:','Mean =',MeanRating,'Median =',MedianRating,'Std =',StdRating)\n",
        "print('Runtime:','Mean =',MeanRuntime,'Median =',MedianRuntime,'Std =',StdRuntime)\n",
        "print('Indexed_Gross:','Mean =',MeanGross,'Median =',MedianGross,'Std =',StdGross)"
      ],
      "metadata": {
        "id": "mUjUTykZDdvm",
        "colab": {
          "base_uri": "https://localhost:8080/"
        },
        "outputId": "d90f11a4-efc4-4817-a4f4-8afc8545b353"
      },
      "execution_count": null,
      "outputs": [
        {
          "output_type": "stream",
          "name": "stdout",
          "text": [
            "Rating: Mean = 7.937587657784011 Median = 7.9 Std = 0.29321122781557785\n",
            "Runtime: Mean = 123.69284712482468 Median = 120.0 Std = 25.89850906516098\n",
            "Indexed_Gross: Mean = 161824289.5830974 Median = 79005959.25056434 Std = 265738666.37202737\n"
          ]
        }
      ]
    },
    {
      "cell_type": "code",
      "source": [
        "df['IMDB_Rating']  = df[\"IMDB_Rating\"]*10.0"
      ],
      "metadata": {
        "id": "kL9ZVBRrCedd"
      },
      "execution_count": null,
      "outputs": []
    },
    {
      "cell_type": "code",
      "source": [
        "df['OverallRating'] = (df['IMDB_Rating'] +df['Meta_score'])/2\n"
      ],
      "metadata": {
        "id": "_gJxzhkkG47_"
      },
      "execution_count": null,
      "outputs": []
    },
    {
      "cell_type": "markdown",
      "source": [
        "\n",
        "OverallRating is mean from IMDB_rating and Meta_score"
      ],
      "metadata": {
        "id": "b-O2jNtcQleT"
      }
    },
    {
      "cell_type": "code",
      "source": [
        "df.sort_values(by='Indexed_Gross', ascending=False)"
      ],
      "metadata": {
        "id": "Q-8vXUXgHDeR",
        "colab": {
          "base_uri": "https://localhost:8080/",
          "height": 423
        },
        "outputId": "af83c9c3-838c-4280-ca75-2dbeaae70a75"
      },
      "execution_count": null,
      "outputs": [
        {
          "output_type": "execute_result",
          "data": {
            "text/plain": [
              "            Series_Title  Released_Year Certificate  Runtime  \\\n",
              "314   Gone with the Wind           1939           U      238   \n",
              "875             Fantasia           1940           G      125   \n",
              "29             Star Wars           1977          UA      121   \n",
              "419         The Exorcist           1973           A      122   \n",
              "429   The Sound of Music           1965           U      172   \n",
              "..                   ...            ...         ...      ...   \n",
              "648  The Boondock Saints           1999           R      108   \n",
              "239       Salinui chueok           2003          UA      131   \n",
              "356       Tropa de Elite           2007           R      115   \n",
              "624           Mr. Nobody           2009           R      141   \n",
              "630          Adams æbler           2005           R       94   \n",
              "\n",
              "                            Genre  IMDB_Rating  Meta_score  \\\n",
              "314     {history, drama, romance}         81.0        97.0   \n",
              "875  {animation, fantasy, family}         77.0        96.0   \n",
              "29   {action, fantasy, adventure}         86.0        90.0   \n",
              "419                      {horror}         80.0        81.0   \n",
              "429    {drama, family, biography}         80.0        63.0   \n",
              "..                            ...          ...         ...   \n",
              "648     {action, crime, thriller}         78.0        44.0   \n",
              "239       {crime, drama, mystery}         81.0        82.0   \n",
              "356        {action, crime, drama}         80.0        33.0   \n",
              "624     {drama, romance, fantasy}         78.0        63.0   \n",
              "630        {crime, drama, comedy}         78.0        51.0   \n",
              "\n",
              "                 Director  No_of_Votes      Gross  Dollar_price  \\\n",
              "314        Victor Fleming       290074  198676459     20.074303   \n",
              "875           James Algar        88662   76408097     19.889571   \n",
              "29           George Lucas      1231473  322740140      4.601845   \n",
              "419      William Friedkin       362393  232906145      6.276864   \n",
              "429           Robert Wise       205425  163214286      8.845839   \n",
              "..                    ...          ...        ...           ...   \n",
              "648            Troy Duffy       227143      25812      1.673722   \n",
              "239          Bong Joon Ho       139558      14131      1.515307   \n",
              "356          José Padilha        98097       8060      1.344670   \n",
              "624      Jaco Van Dormael       216421       3600      1.299659   \n",
              "630  Anders Thomas Jensen        45717       1305      1.427565   \n",
              "\n",
              "     Indexed_Gross  OverallRating  \n",
              "314   3.988292e+09           89.0  \n",
              "875   1.519724e+09           86.5  \n",
              "29    1.485200e+09           88.0  \n",
              "419   1.461920e+09           80.5  \n",
              "429   1.443767e+09           71.5  \n",
              "..             ...            ...  \n",
              "648   4.320212e+04           61.0  \n",
              "239   2.141281e+04           81.5  \n",
              "356   1.083804e+04           56.5  \n",
              "624   4.678773e+03           70.5  \n",
              "630   1.862972e+03           64.5  \n",
              "\n",
              "[713 rows x 13 columns]"
            ],
            "text/html": [
              "\n",
              "  <div id=\"df-57cc8c03-d0c8-485b-84a9-77cb857d1dc4\" class=\"colab-df-container\">\n",
              "    <div>\n",
              "<style scoped>\n",
              "    .dataframe tbody tr th:only-of-type {\n",
              "        vertical-align: middle;\n",
              "    }\n",
              "\n",
              "    .dataframe tbody tr th {\n",
              "        vertical-align: top;\n",
              "    }\n",
              "\n",
              "    .dataframe thead th {\n",
              "        text-align: right;\n",
              "    }\n",
              "</style>\n",
              "<table border=\"1\" class=\"dataframe\">\n",
              "  <thead>\n",
              "    <tr style=\"text-align: right;\">\n",
              "      <th></th>\n",
              "      <th>Series_Title</th>\n",
              "      <th>Released_Year</th>\n",
              "      <th>Certificate</th>\n",
              "      <th>Runtime</th>\n",
              "      <th>Genre</th>\n",
              "      <th>IMDB_Rating</th>\n",
              "      <th>Meta_score</th>\n",
              "      <th>Director</th>\n",
              "      <th>No_of_Votes</th>\n",
              "      <th>Gross</th>\n",
              "      <th>Dollar_price</th>\n",
              "      <th>Indexed_Gross</th>\n",
              "      <th>OverallRating</th>\n",
              "    </tr>\n",
              "  </thead>\n",
              "  <tbody>\n",
              "    <tr>\n",
              "      <th>314</th>\n",
              "      <td>Gone with the Wind</td>\n",
              "      <td>1939</td>\n",
              "      <td>U</td>\n",
              "      <td>238</td>\n",
              "      <td>{history, drama, romance}</td>\n",
              "      <td>81.0</td>\n",
              "      <td>97.0</td>\n",
              "      <td>Victor Fleming</td>\n",
              "      <td>290074</td>\n",
              "      <td>198676459</td>\n",
              "      <td>20.074303</td>\n",
              "      <td>3.988292e+09</td>\n",
              "      <td>89.0</td>\n",
              "    </tr>\n",
              "    <tr>\n",
              "      <th>875</th>\n",
              "      <td>Fantasia</td>\n",
              "      <td>1940</td>\n",
              "      <td>G</td>\n",
              "      <td>125</td>\n",
              "      <td>{animation, fantasy, family}</td>\n",
              "      <td>77.0</td>\n",
              "      <td>96.0</td>\n",
              "      <td>James Algar</td>\n",
              "      <td>88662</td>\n",
              "      <td>76408097</td>\n",
              "      <td>19.889571</td>\n",
              "      <td>1.519724e+09</td>\n",
              "      <td>86.5</td>\n",
              "    </tr>\n",
              "    <tr>\n",
              "      <th>29</th>\n",
              "      <td>Star Wars</td>\n",
              "      <td>1977</td>\n",
              "      <td>UA</td>\n",
              "      <td>121</td>\n",
              "      <td>{action, fantasy, adventure}</td>\n",
              "      <td>86.0</td>\n",
              "      <td>90.0</td>\n",
              "      <td>George Lucas</td>\n",
              "      <td>1231473</td>\n",
              "      <td>322740140</td>\n",
              "      <td>4.601845</td>\n",
              "      <td>1.485200e+09</td>\n",
              "      <td>88.0</td>\n",
              "    </tr>\n",
              "    <tr>\n",
              "      <th>419</th>\n",
              "      <td>The Exorcist</td>\n",
              "      <td>1973</td>\n",
              "      <td>A</td>\n",
              "      <td>122</td>\n",
              "      <td>{horror}</td>\n",
              "      <td>80.0</td>\n",
              "      <td>81.0</td>\n",
              "      <td>William Friedkin</td>\n",
              "      <td>362393</td>\n",
              "      <td>232906145</td>\n",
              "      <td>6.276864</td>\n",
              "      <td>1.461920e+09</td>\n",
              "      <td>80.5</td>\n",
              "    </tr>\n",
              "    <tr>\n",
              "      <th>429</th>\n",
              "      <td>The Sound of Music</td>\n",
              "      <td>1965</td>\n",
              "      <td>U</td>\n",
              "      <td>172</td>\n",
              "      <td>{drama, family, biography}</td>\n",
              "      <td>80.0</td>\n",
              "      <td>63.0</td>\n",
              "      <td>Robert Wise</td>\n",
              "      <td>205425</td>\n",
              "      <td>163214286</td>\n",
              "      <td>8.845839</td>\n",
              "      <td>1.443767e+09</td>\n",
              "      <td>71.5</td>\n",
              "    </tr>\n",
              "    <tr>\n",
              "      <th>...</th>\n",
              "      <td>...</td>\n",
              "      <td>...</td>\n",
              "      <td>...</td>\n",
              "      <td>...</td>\n",
              "      <td>...</td>\n",
              "      <td>...</td>\n",
              "      <td>...</td>\n",
              "      <td>...</td>\n",
              "      <td>...</td>\n",
              "      <td>...</td>\n",
              "      <td>...</td>\n",
              "      <td>...</td>\n",
              "      <td>...</td>\n",
              "    </tr>\n",
              "    <tr>\n",
              "      <th>648</th>\n",
              "      <td>The Boondock Saints</td>\n",
              "      <td>1999</td>\n",
              "      <td>R</td>\n",
              "      <td>108</td>\n",
              "      <td>{action, crime, thriller}</td>\n",
              "      <td>78.0</td>\n",
              "      <td>44.0</td>\n",
              "      <td>Troy Duffy</td>\n",
              "      <td>227143</td>\n",
              "      <td>25812</td>\n",
              "      <td>1.673722</td>\n",
              "      <td>4.320212e+04</td>\n",
              "      <td>61.0</td>\n",
              "    </tr>\n",
              "    <tr>\n",
              "      <th>239</th>\n",
              "      <td>Salinui chueok</td>\n",
              "      <td>2003</td>\n",
              "      <td>UA</td>\n",
              "      <td>131</td>\n",
              "      <td>{crime, drama, mystery}</td>\n",
              "      <td>81.0</td>\n",
              "      <td>82.0</td>\n",
              "      <td>Bong Joon Ho</td>\n",
              "      <td>139558</td>\n",
              "      <td>14131</td>\n",
              "      <td>1.515307</td>\n",
              "      <td>2.141281e+04</td>\n",
              "      <td>81.5</td>\n",
              "    </tr>\n",
              "    <tr>\n",
              "      <th>356</th>\n",
              "      <td>Tropa de Elite</td>\n",
              "      <td>2007</td>\n",
              "      <td>R</td>\n",
              "      <td>115</td>\n",
              "      <td>{action, crime, drama}</td>\n",
              "      <td>80.0</td>\n",
              "      <td>33.0</td>\n",
              "      <td>José Padilha</td>\n",
              "      <td>98097</td>\n",
              "      <td>8060</td>\n",
              "      <td>1.344670</td>\n",
              "      <td>1.083804e+04</td>\n",
              "      <td>56.5</td>\n",
              "    </tr>\n",
              "    <tr>\n",
              "      <th>624</th>\n",
              "      <td>Mr. Nobody</td>\n",
              "      <td>2009</td>\n",
              "      <td>R</td>\n",
              "      <td>141</td>\n",
              "      <td>{drama, romance, fantasy}</td>\n",
              "      <td>78.0</td>\n",
              "      <td>63.0</td>\n",
              "      <td>Jaco Van Dormael</td>\n",
              "      <td>216421</td>\n",
              "      <td>3600</td>\n",
              "      <td>1.299659</td>\n",
              "      <td>4.678773e+03</td>\n",
              "      <td>70.5</td>\n",
              "    </tr>\n",
              "    <tr>\n",
              "      <th>630</th>\n",
              "      <td>Adams æbler</td>\n",
              "      <td>2005</td>\n",
              "      <td>R</td>\n",
              "      <td>94</td>\n",
              "      <td>{crime, drama, comedy}</td>\n",
              "      <td>78.0</td>\n",
              "      <td>51.0</td>\n",
              "      <td>Anders Thomas Jensen</td>\n",
              "      <td>45717</td>\n",
              "      <td>1305</td>\n",
              "      <td>1.427565</td>\n",
              "      <td>1.862972e+03</td>\n",
              "      <td>64.5</td>\n",
              "    </tr>\n",
              "  </tbody>\n",
              "</table>\n",
              "<p>713 rows × 13 columns</p>\n",
              "</div>\n",
              "    <div class=\"colab-df-buttons\">\n",
              "\n",
              "  <div class=\"colab-df-container\">\n",
              "    <button class=\"colab-df-convert\" onclick=\"convertToInteractive('df-57cc8c03-d0c8-485b-84a9-77cb857d1dc4')\"\n",
              "            title=\"Convert this dataframe to an interactive table.\"\n",
              "            style=\"display:none;\">\n",
              "\n",
              "  <svg xmlns=\"http://www.w3.org/2000/svg\" height=\"24px\" viewBox=\"0 -960 960 960\">\n",
              "    <path d=\"M120-120v-720h720v720H120Zm60-500h600v-160H180v160Zm220 220h160v-160H400v160Zm0 220h160v-160H400v160ZM180-400h160v-160H180v160Zm440 0h160v-160H620v160ZM180-180h160v-160H180v160Zm440 0h160v-160H620v160Z\"/>\n",
              "  </svg>\n",
              "    </button>\n",
              "\n",
              "  <style>\n",
              "    .colab-df-container {\n",
              "      display:flex;\n",
              "      gap: 12px;\n",
              "    }\n",
              "\n",
              "    .colab-df-convert {\n",
              "      background-color: #E8F0FE;\n",
              "      border: none;\n",
              "      border-radius: 50%;\n",
              "      cursor: pointer;\n",
              "      display: none;\n",
              "      fill: #1967D2;\n",
              "      height: 32px;\n",
              "      padding: 0 0 0 0;\n",
              "      width: 32px;\n",
              "    }\n",
              "\n",
              "    .colab-df-convert:hover {\n",
              "      background-color: #E2EBFA;\n",
              "      box-shadow: 0px 1px 2px rgba(60, 64, 67, 0.3), 0px 1px 3px 1px rgba(60, 64, 67, 0.15);\n",
              "      fill: #174EA6;\n",
              "    }\n",
              "\n",
              "    .colab-df-buttons div {\n",
              "      margin-bottom: 4px;\n",
              "    }\n",
              "\n",
              "    [theme=dark] .colab-df-convert {\n",
              "      background-color: #3B4455;\n",
              "      fill: #D2E3FC;\n",
              "    }\n",
              "\n",
              "    [theme=dark] .colab-df-convert:hover {\n",
              "      background-color: #434B5C;\n",
              "      box-shadow: 0px 1px 3px 1px rgba(0, 0, 0, 0.15);\n",
              "      filter: drop-shadow(0px 1px 2px rgba(0, 0, 0, 0.3));\n",
              "      fill: #FFFFFF;\n",
              "    }\n",
              "  </style>\n",
              "\n",
              "    <script>\n",
              "      const buttonEl =\n",
              "        document.querySelector('#df-57cc8c03-d0c8-485b-84a9-77cb857d1dc4 button.colab-df-convert');\n",
              "      buttonEl.style.display =\n",
              "        google.colab.kernel.accessAllowed ? 'block' : 'none';\n",
              "\n",
              "      async function convertToInteractive(key) {\n",
              "        const element = document.querySelector('#df-57cc8c03-d0c8-485b-84a9-77cb857d1dc4');\n",
              "        const dataTable =\n",
              "          await google.colab.kernel.invokeFunction('convertToInteractive',\n",
              "                                                    [key], {});\n",
              "        if (!dataTable) return;\n",
              "\n",
              "        const docLinkHtml = 'Like what you see? Visit the ' +\n",
              "          '<a target=\"_blank\" href=https://colab.research.google.com/notebooks/data_table.ipynb>data table notebook</a>'\n",
              "          + ' to learn more about interactive tables.';\n",
              "        element.innerHTML = '';\n",
              "        dataTable['output_type'] = 'display_data';\n",
              "        await google.colab.output.renderOutput(dataTable, element);\n",
              "        const docLink = document.createElement('div');\n",
              "        docLink.innerHTML = docLinkHtml;\n",
              "        element.appendChild(docLink);\n",
              "      }\n",
              "    </script>\n",
              "  </div>\n",
              "\n",
              "\n",
              "<div id=\"df-56db564c-4523-4b1a-8576-a0d221fc2d5e\">\n",
              "  <button class=\"colab-df-quickchart\" onclick=\"quickchart('df-56db564c-4523-4b1a-8576-a0d221fc2d5e')\"\n",
              "            title=\"Suggest charts\"\n",
              "            style=\"display:none;\">\n",
              "\n",
              "<svg xmlns=\"http://www.w3.org/2000/svg\" height=\"24px\"viewBox=\"0 0 24 24\"\n",
              "     width=\"24px\">\n",
              "    <g>\n",
              "        <path d=\"M19 3H5c-1.1 0-2 .9-2 2v14c0 1.1.9 2 2 2h14c1.1 0 2-.9 2-2V5c0-1.1-.9-2-2-2zM9 17H7v-7h2v7zm4 0h-2V7h2v10zm4 0h-2v-4h2v4z\"/>\n",
              "    </g>\n",
              "</svg>\n",
              "  </button>\n",
              "\n",
              "<style>\n",
              "  .colab-df-quickchart {\n",
              "      --bg-color: #E8F0FE;\n",
              "      --fill-color: #1967D2;\n",
              "      --hover-bg-color: #E2EBFA;\n",
              "      --hover-fill-color: #174EA6;\n",
              "      --disabled-fill-color: #AAA;\n",
              "      --disabled-bg-color: #DDD;\n",
              "  }\n",
              "\n",
              "  [theme=dark] .colab-df-quickchart {\n",
              "      --bg-color: #3B4455;\n",
              "      --fill-color: #D2E3FC;\n",
              "      --hover-bg-color: #434B5C;\n",
              "      --hover-fill-color: #FFFFFF;\n",
              "      --disabled-bg-color: #3B4455;\n",
              "      --disabled-fill-color: #666;\n",
              "  }\n",
              "\n",
              "  .colab-df-quickchart {\n",
              "    background-color: var(--bg-color);\n",
              "    border: none;\n",
              "    border-radius: 50%;\n",
              "    cursor: pointer;\n",
              "    display: none;\n",
              "    fill: var(--fill-color);\n",
              "    height: 32px;\n",
              "    padding: 0;\n",
              "    width: 32px;\n",
              "  }\n",
              "\n",
              "  .colab-df-quickchart:hover {\n",
              "    background-color: var(--hover-bg-color);\n",
              "    box-shadow: 0 1px 2px rgba(60, 64, 67, 0.3), 0 1px 3px 1px rgba(60, 64, 67, 0.15);\n",
              "    fill: var(--button-hover-fill-color);\n",
              "  }\n",
              "\n",
              "  .colab-df-quickchart-complete:disabled,\n",
              "  .colab-df-quickchart-complete:disabled:hover {\n",
              "    background-color: var(--disabled-bg-color);\n",
              "    fill: var(--disabled-fill-color);\n",
              "    box-shadow: none;\n",
              "  }\n",
              "\n",
              "  .colab-df-spinner {\n",
              "    border: 2px solid var(--fill-color);\n",
              "    border-color: transparent;\n",
              "    border-bottom-color: var(--fill-color);\n",
              "    animation:\n",
              "      spin 1s steps(1) infinite;\n",
              "  }\n",
              "\n",
              "  @keyframes spin {\n",
              "    0% {\n",
              "      border-color: transparent;\n",
              "      border-bottom-color: var(--fill-color);\n",
              "      border-left-color: var(--fill-color);\n",
              "    }\n",
              "    20% {\n",
              "      border-color: transparent;\n",
              "      border-left-color: var(--fill-color);\n",
              "      border-top-color: var(--fill-color);\n",
              "    }\n",
              "    30% {\n",
              "      border-color: transparent;\n",
              "      border-left-color: var(--fill-color);\n",
              "      border-top-color: var(--fill-color);\n",
              "      border-right-color: var(--fill-color);\n",
              "    }\n",
              "    40% {\n",
              "      border-color: transparent;\n",
              "      border-right-color: var(--fill-color);\n",
              "      border-top-color: var(--fill-color);\n",
              "    }\n",
              "    60% {\n",
              "      border-color: transparent;\n",
              "      border-right-color: var(--fill-color);\n",
              "    }\n",
              "    80% {\n",
              "      border-color: transparent;\n",
              "      border-right-color: var(--fill-color);\n",
              "      border-bottom-color: var(--fill-color);\n",
              "    }\n",
              "    90% {\n",
              "      border-color: transparent;\n",
              "      border-bottom-color: var(--fill-color);\n",
              "    }\n",
              "  }\n",
              "</style>\n",
              "\n",
              "  <script>\n",
              "    async function quickchart(key) {\n",
              "      const quickchartButtonEl =\n",
              "        document.querySelector('#' + key + ' button');\n",
              "      quickchartButtonEl.disabled = true;  // To prevent multiple clicks.\n",
              "      quickchartButtonEl.classList.add('colab-df-spinner');\n",
              "      try {\n",
              "        const charts = await google.colab.kernel.invokeFunction(\n",
              "            'suggestCharts', [key], {});\n",
              "      } catch (error) {\n",
              "        console.error('Error during call to suggestCharts:', error);\n",
              "      }\n",
              "      quickchartButtonEl.classList.remove('colab-df-spinner');\n",
              "      quickchartButtonEl.classList.add('colab-df-quickchart-complete');\n",
              "    }\n",
              "    (() => {\n",
              "      let quickchartButtonEl =\n",
              "        document.querySelector('#df-56db564c-4523-4b1a-8576-a0d221fc2d5e button');\n",
              "      quickchartButtonEl.style.display =\n",
              "        google.colab.kernel.accessAllowed ? 'block' : 'none';\n",
              "    })();\n",
              "  </script>\n",
              "</div>\n",
              "    </div>\n",
              "  </div>\n"
            ],
            "application/vnd.google.colaboratory.intrinsic+json": {
              "type": "dataframe",
              "summary": "{\n  \"name\": \"df\",\n  \"rows\": 713,\n  \"fields\": [\n    {\n      \"column\": \"Series_Title\",\n      \"properties\": {\n        \"dtype\": \"string\",\n        \"num_unique_values\": 713,\n        \"samples\": [\n          \"The Matrix\",\n          \"The Wild Bunch\",\n          \"Fiddler on the Roof\"\n        ],\n        \"semantic_type\": \"\",\n        \"description\": \"\"\n      }\n    },\n    {\n      \"column\": \"Released_Year\",\n      \"properties\": {\n        \"dtype\": \"number\",\n        \"std\": 18,\n        \"min\": 1930,\n        \"max\": 2019,\n        \"num_unique_values\": 82,\n        \"samples\": [\n          1971,\n          1939,\n          1959\n        ],\n        \"semantic_type\": \"\",\n        \"description\": \"\"\n      }\n    },\n    {\n      \"column\": \"Certificate\",\n      \"properties\": {\n        \"dtype\": \"category\",\n        \"num_unique_values\": 12,\n        \"samples\": [\n          \"GP\",\n          \"U/A\",\n          \"U\"\n        ],\n        \"semantic_type\": \"\",\n        \"description\": \"\"\n      }\n    },\n    {\n      \"column\": \"Runtime\",\n      \"properties\": {\n        \"dtype\": \"number\",\n        \"std\": 25,\n        \"min\": 72,\n        \"max\": 238,\n        \"num_unique_values\": 118,\n        \"samples\": [\n          146,\n          174,\n          172\n        ],\n        \"semantic_type\": \"\",\n        \"description\": \"\"\n      }\n    },\n    {\n      \"column\": \"Genre\",\n      \"properties\": {\n        \"dtype\": \"object\",\n        \"semantic_type\": \"\",\n        \"description\": \"\"\n      }\n    },\n    {\n      \"column\": \"IMDB_Rating\",\n      \"properties\": {\n        \"dtype\": \"number\",\n        \"std\": 2.9321122781557785,\n        \"min\": 76.0,\n        \"max\": 93.0,\n        \"num_unique_values\": 17,\n        \"samples\": [\n          81.0,\n          77.0,\n          76.0\n        ],\n        \"semantic_type\": \"\",\n        \"description\": \"\"\n      }\n    },\n    {\n      \"column\": \"Meta_score\",\n      \"properties\": {\n        \"dtype\": \"number\",\n        \"std\": 12.409848569688748,\n        \"min\": 28.0,\n        \"max\": 100.0,\n        \"num_unique_values\": 63,\n        \"samples\": [\n          44.0,\n          28.0,\n          97.0\n        ],\n        \"semantic_type\": \"\",\n        \"description\": \"\"\n      }\n    },\n    {\n      \"column\": \"Director\",\n      \"properties\": {\n        \"dtype\": \"string\",\n        \"num_unique_values\": 402,\n        \"samples\": [\n          \"Hayao Miyazaki\",\n          \"James Foley\",\n          \"Lee Unkrich\"\n        ],\n        \"semantic_type\": \"\",\n        \"description\": \"\"\n      }\n    },\n    {\n      \"column\": \"No_of_Votes\",\n      \"properties\": {\n        \"dtype\": \"number\",\n        \"std\": 354134,\n        \"min\": 25229,\n        \"max\": 2343110,\n        \"num_unique_values\": 713,\n        \"samples\": [\n          1676426,\n          77401,\n          39491\n        ],\n        \"semantic_type\": \"\",\n        \"description\": \"\"\n      }\n    },\n    {\n      \"column\": \"Gross\",\n      \"properties\": {\n        \"dtype\": \"number\",\n        \"std\": 115003113,\n        \"min\": 1305,\n        \"max\": 936662225,\n        \"num_unique_values\": 709,\n        \"samples\": [\n          75331600,\n          106954678,\n          1999955\n        ],\n        \"semantic_type\": \"\",\n        \"description\": \"\"\n      }\n    },\n    {\n      \"column\": \"Dollar_price\",\n      \"properties\": {\n        \"dtype\": \"number\",\n        \"std\": 3.4265474924503323,\n        \"min\": 1.0904809956273125,\n        \"max\": 21.47019867549669,\n        \"num_unique_values\": 80,\n        \"samples\": [\n          6.8832271762208075,\n          20.074303405572756,\n          9.57754800590842\n        ],\n        \"semantic_type\": \"\",\n        \"description\": \"\"\n      }\n    },\n    {\n      \"column\": \"Indexed_Gross\",\n      \"properties\": {\n        \"dtype\": \"number\",\n        \"std\": 265738666.37202737,\n        \"min\": 1862.9722589167768,\n        \"max\": 3988291517.510836,\n        \"num_unique_values\": 713,\n        \"samples\": [\n          287009774.4243676,\n          91706959.49355218,\n          554099787.685775\n        ],\n        \"semantic_type\": \"\",\n        \"description\": \"\"\n      }\n    },\n    {\n      \"column\": \"OverallRating\",\n      \"properties\": {\n        \"dtype\": \"number\",\n        \"std\": 6.765001228404161,\n        \"min\": 52.5,\n        \"max\": 96.0,\n        \"num_unique_values\": 72,\n        \"samples\": [\n          71.5,\n          53.0,\n          87.0\n        ],\n        \"semantic_type\": \"\",\n        \"description\": \"\"\n      }\n    }\n  ]\n}"
            }
          },
          "metadata": {},
          "execution_count": 19
        }
      ]
    },
    {
      "cell_type": "markdown",
      "source": [
        "# Simple plots"
      ],
      "metadata": {
        "id": "XUIXCuQWS9j0"
      }
    },
    {
      "cell_type": "code",
      "source": [
        "fig = px.scatter(df, x='IMDB_Rating',y=\"Meta_score\",range_x=(1,100),range_y=(1,100),color='Indexed_Gross',trendline='ols',title = 'Movies Rating corelation')\n",
        "fig2 = px.line(x=[1,10],y=[1,100])\n",
        "fig.show()"
      ],
      "metadata": {
        "id": "i9irYtzZOLPs",
        "colab": {
          "base_uri": "https://localhost:8080/",
          "height": 542
        },
        "outputId": "ce10c871-8068-440b-fadb-e817e80232c4"
      },
      "execution_count": null,
      "outputs": [
        {
          "output_type": "display_data",
          "data": {
            "text/html": [
              "<html>\n",
              "<head><meta charset=\"utf-8\" /></head>\n",
              "<body>\n",
              "    <div>            <script src=\"https://cdnjs.cloudflare.com/ajax/libs/mathjax/2.7.5/MathJax.js?config=TeX-AMS-MML_SVG\"></script><script type=\"text/javascript\">if (window.MathJax && window.MathJax.Hub && window.MathJax.Hub.Config) {window.MathJax.Hub.Config({SVG: {font: \"STIX-Web\"}});}</script>                <script type=\"text/javascript\">window.PlotlyConfig = {MathJaxConfig: 'local'};</script>\n",
              "        <script charset=\"utf-8\" src=\"https://cdn.plot.ly/plotly-2.24.1.min.js\"></script>                <div id=\"1d7fba3d-e535-48c6-b4f7-a6aeb75ec83a\" class=\"plotly-graph-div\" style=\"height:525px; width:100%;\"></div>            <script type=\"text/javascript\">                                    window.PLOTLYENV=window.PLOTLYENV || {};                                    if (document.getElementById(\"1d7fba3d-e535-48c6-b4f7-a6aeb75ec83a\")) {                    Plotly.newPlot(                        \"1d7fba3d-e535-48c6-b4f7-a6aeb75ec83a\",                        [{\"hovertemplate\":\"IMDB_Rating=%{x}\\u003cbr\\u003eMeta_score=%{y}\\u003cbr\\u003eIndexed_Gross=%{marker.color}\\u003cextra\\u003e\\u003c\\u002fextra\\u003e\",\"legendgroup\":\"\",\"marker\":{\"color\":[53311890.048157826,900331490.6625514,692634741.5410426,323917349.6076722,43292863.70597243,572552663.7111475,203020044.3307224,186991647.59285715,374100581.4198383,61978105.67062468,496720601.8451081,621222845.3983175,52526427.62284196,530856369.66061187,287009774.4243676,99897098.25526316,983006437.592902,580501998.401279,58196619.6596031,221457182.60272482,11721096.115678776,15829616.352512747,370364350.81930894,228967503.61796594,100044745.12402894,183186983.4119639,267678277.94379538,1485200190.0354862,2786887.418530352,365803279.6037672,15420259.40054496,16339879.56490155,73428936.2721843,183101514.17662117,50478152.31070746,303890633.87465674,11493431.331047218,42705058.38374718,36682920.56628953,795279956.5036265,419388784.7805494,28260908.790985096,545800838.0527577,42650998.60568603,301581395.34883726,17528356.3060686,3277029.6594427247,352321.8243626063,1843324.7413999657,5827986.933715514,211111527.30446687,936039443.6596031,753284200.8023276,238572540.57192987,197720628.21801838,544246847.3339577,8490554.31389056,289828666.94148195,15609886.989761092,1072051.134377191,41356533.73982523,4125769.3736940804,761149125.8107852,148960674.85177454,320633458.1303318,303073222.7488152,2481204.6712898756,380798411.32907355,173634719.76051128,834558.4454017606,8798818.98833875,8767779.622165253,156661860.49228305,50774311.7878443,52302533.50716194,49100565.16953809,5885759.123096131,217745575.8606092,240450681.09831238,1622186.3305652293,350904846.15462756,138315575.6207675,5627605.282255593,113771071.60635883,216625754.42604947,139483907.29966888,127661398.65630397,865444366.1295336,35234669.434247866,138514383.83673468,1001787415.2952566,42729181.42250531,456484756.6477132,132687585.26603003,414016737.4586895,175294186.04651165,127141949.77843428,30876190.47619048,92828859.66233766,90680880.19559903,30062137.005847957,94413799.20657197,62011770.20350878,8306688.920424935,16928452.23857771,163682875.97239205,380805572.1338946,139901088.94352162,1497345.467440896,54086018.410618,52052654.36433447,530643195.01479,100659082.109203,295295281.61338615,8131257.764625542,6953504.772137492,268777212.6836611,6666272.0643629655,112235799.34637022,123380453.69977428,77643887.47178331,201012836.76003677,443294726.1109571,2605771.347146492,195648635.5390767,10717906.8745004,79134536.38204592,6370993.883293365,110191573.03370787,239438700.1477105,130115.02875399363,117835.12142857144,58054957.14285715,4100049.3333333335,2331066.533858832,4113899.534241599,257400089.28280705,17265972.10014514,3659628.49191644,69610619.78419618,197602625.51789284,78070072.31458259,419321069.3258346,67822296.53229974,32249611.298634186,128266767.16313489,53001025.32365748,1010024.6350590372,73004600.6216316,181225376.7343977,191781493.54264033,472276188.8732556,1940162.5004993011,278208775.7452179,24680556.678556617,99886981.43923683,148324936.0919645,34731232.35328933,1639908.8376963353,8591187.825176418,21412.80766534237,106221595.64851601,577094579.1829867,255106581.23422563,8716299.539575532,456377034.20830303,110423.19689244963,491248011.7005679,443202.18095489324,214853182.61250332,596336.4389343181,29929370.914270643,4426352.3835206,29322437.363661278,43733638.229651965,10127417.048532732,7606399.774876705,1129009.8056280825,776640169.9071429,48264136.440476194,215519068.01109573,133005724.74539037,352386105.712044,5855961.799668875,1330535.0496688741,39825277.00178254,64274259.44206774,14364602.74509804,94974254.1942959,76997941.74170616,209486782.81794193,574567907.4436886,163937227.55013078,194166882.48983544,135335958.985843,37407692.30769231,715442836.0413591,445916496.17151606,99435143.76996806,42546754.06942149,5266825.3960217,86718527.60736197,192713312.69349846,3988291517.510836,90609743.58974358,175518468.40773916,60100122.81977786,268716232.01959366,396414066.6485131,1803474.6954595794,150636753.25543863,6070199.538513286,1209214.5396825399,3092771.4172570393,107331322.17475024,392428169.73660314,104715643.32561405,30598844.496862315,240171046.43641967,216021063.9869376,21542777.276643567,177472423.45020705,210358898.52953547,421739605.3665353,138624.25496091403,5138477.298363242,183007472.1693629,136756878.7521199,10838.042306097055,756947852.1723169,5978075.882206554,32669265.4005168,226229718.46331057,79343609.81399317,305873583.1356284,352032.64010926476,105788016.0457948,8054675.715470759,277601331.50891745,231595478.80546075,97722253.26018667,3607625.4713718165,2457377.1080835606,88009252.07485689,2708426.957700398,262922.79063097516,462795943.9850433,100399719.7868661,385883004.9005236,2319005.10025707,2329778.806506434,37585066.69695406,6773855.037203496,10382172.766133197,2818307.971511475,9570233.487734107,38762244.093959734,43490983.10331598,23841524.069060016,104544362.34650114,943884.8814898421,144891672.41428572,136833575.27738094,8677334.575,126968775.90806006,431902794.9727245,144145642.2582886,448306298.7306599,392898082.3789474,61929495.624133155,421424645.5834242,75731289.1657835,8182231.262679788,11149007.305071916,103056953.64238411,152471921.6916221,115918827.79857822,180392334.98935416,1347593924.860112,259152677.85771382,487854577.15780294,334349688.2865441,1461920081.4908035,200529057.32484078,554099787.685775,3895719.4678492243,777691484.4970692,267658766.605686,875759791.0167311,1443767299.350614,988274826.7394271,130399445.21497922,77285548.20143884,183926953.48837212,120054564.25406206,21590745.4702381,169532709.54761907,85738842.97520663,338513465.78366446,1093926.3803680982,41674655.356037155,54646082.47422681,180321665.90716448,3677018.362485025,2180961.991254625,20584653.558596496,299885.5807954138,35527427.31542016,6043271.531350771,6824353.082049445,3760206.576854174,358392622.08350885,38139839.693369664,381183.0844265052,116793472.81906128,1101835607.2024674,9711192.592838686,275521748.6750227,55372048.57350411,118026769.10154405,8184841.005431729,7633366.969391188,2709317.760673482,6510873.054319504,2748046.6267225887,150300699.08598918,33976060.2859996,29893507.338782925,334961203.2864302,10045382.648292392,19026116.827645052,3153962.5494880546,151791694.53680465,27296637.96271798,5365445.794673344,412339537.2246855,19989072.391531985,136582514.24258006,368049621.18552244,83235125.04684512,14387947.958891014,1668350.988103909,1574239.3250789028,188540715.2418738,1977192.5902621725,49172707.20392492,52673150.411985025,11365879.002670553,411488262.42540014,45856348.71684972,4140441.248621991,23700370.833333332,2556884.35,71301464.24047619,120214963.93684211,33147069.085991684,41041431.264909856,187183052.1332324,101963484.4425265,25731619.240607515,506565.18377483444,57687467.683937825,193673594.34237996,175544312.79620856,145289523.21327016,21812928.759894457,346009372.63794404,382894.95062923525,1326211.4773662551,443528603.10421294,91706959.49355218,203448876.90090093,122709590.71910113,282732558.1395349,99470454.54545455,81773421.48760332,149776105.9602649,78697573.17073171,214701986.75496688,2790218.9946255824,214282732.61824563,197014268.88355428,46004607.92421053,55783178.53672519,55402213.916159086,512021.9056603774,618172298.2472233,474027036.71013975,63660617.805515245,117882319.47124118,7661492.1249122815,1592392.850498339,5064054.263565892,262101805.04123527,18337729.746031746,6234573.038021411,473310199.1039354,102242.07678110004,55273052.92077168,208480828.19545868,82649672.91001453,127071764.82737526,128173116.2458472,189623809.49564588,711293.1104429746,309200939.0586933,2888683.733814392,13120281.0743636,119702758.10609348,187774398.37747157,11694485.161573797,12693583.727084197,367985603.092714,68480112.49025302,43459973.737335116,175028527.2044795,988400769.7935458,4678.773301262779,70353937.99914676,82835725.13481228,31784327.30402323,165122921.86618736,4312440.061916686,1862.9722589167768,54825757.50594452,7320730.078379569,195451.91399859783,36423630.169088505,170621709.06384853,119557383.7714546,24732145.69724562,281513.1500956023,10610568.221547091,84047241.39770554,4552512.581694586,187242298.4978777,207356655.69238454,13832527.754259164,378244896.06192267,43202.11874032008,48479694.72070212,54365553.25245225,421349825.52172863,1145209150.1301904,21433211.993570857,83935315.73319048,7180005.602630858,11074636.259936178,17696329.635714285,109041321.86309524,62556292.745238096,44297622.77142857,354836436.85714287,33321142.846428573,4127095.6867698133,4094634.739501105,117731728.2589201,130697117.77894738,111116297.33552632,60320984.743411936,266419556.1719834,81560147.73246092,146603063.2975019,14536342.655563967,178408872.73283643,3652814.4370341315,159387236.41566747,255182103.79376498,118886734.11830536,93127767.7334437,640434889.0794703,60192573.402417965,7223707.664884136,1257244577.600713,408169336.492891,155851247.1655329,24986294.681778554,1216562.8538238143,100782921.02613747,285275987.65432096,27532908.70488323,340429406.39155924,647500693.4812762,919745300.7877948,361145868.945869,24405962.589928057,360200720.475783,38449959.60631579,200253977.5192983,244311420.56067088,3950767.545718433,3925735.1498637605,901195.9069936422,42276783.63451408,151071574.6441417,147079440.0363306,7932990.4905660385,49870379.18837421,2632464.5071982285,1343385.9483204135,305963025.0405086,21128543.633813217,230046452.94549543,1575301.4455732948,70426158.74746703,303600422.69355136,328020874.71760803,273791221.46991515,123980695.70025636,181478006.04473332,360424756.35437965,369633271.4118749,160421565.77486423,165197482.94661924,42097748.85067148,378457059.6765924,19541872.099061318,24077895.64689435,1218933.9095563139,46282579.62212902,2240456.6310392427,29967691.130245235,570592.0,24350768.499146756,44481805.19618416,31112255.483788397,1505168.8075737562,1171983.6723351306,256779616.05679354,6083441.494880546,118550362.46675473,72083625.7453339,80559677.94218075,25252015.489187345,260130376.83678582,1598070.580468928,111188275.5292511,67560663.06426737,414012445.05151916,114996572.41429548,97846443.94387653,168366667.04837582,7579458.1625239,6158511.988782426,24081405.531548757,63457647.09104152,34474704.28393882,171015688.90021852,161874922.7552581,222071.0968681719,35609809.06167291,4768283.856275796,288729497.59650403,244604.65018726597,73683800.39750314,87096494.02478059,18117911.141972125,120631533.13619812,29256196.25323134,38259493.0779556,257897514.95419237,110365253.06188053,6952838.866789766,72794775.46423788,63634372.254316255,99714258.85776925,18331034.590293456,41099064.42935887,5927451.96402669,11792734.475,149217723.88333333,54211857.61201348,95719792.66687098,150039831.53662273,21312405.25651241,280861083.09898865,168740625.35017365,12599349.692453425,10835977.617105264,368752150.88331515,3791468.688872067,107946157.1990916,54578238.02573808,18196629.93644567,21752123.32365634,27551384.161470823,27470183.852917667,156032085.56149733,228017670.27272728,136420886.60249555,185450521.92066807,282236743.2150313,201021108.17941952,9433082.972033259,675534437.6634699,187050532.4298161,156921587.60890612,47069123.75720164,107589727.85562634,247107855.62632698,356878350.13102597,244118725.09960157,459375320.3994453,103848991.62359552,46226773.255813956,5745767.127272728,1519724236.03681,28875557.96474414,155396516.7090481,644254.7901754387,6716475.288421053,28212466.422456145,14309991.713420788,994555.2568940495,443429499.4533334,122656647.2294737,20862612.400701758,85065744.00145139,675345546.4822865,288953900.62629884,55157869.34179971,129124273.44049348,1287141.7257039056,31203175.528484415,45126771.87080104,245632988.02470484,5088437.685337412,49796939.045514144,24553458.01853678,238906898.36453876,218958715.12916586,1288997.7187931375,321596663.13153225,43401265.70980692,61466047.85091698,93715543.89753394,3948920.8579621487,98241614.43656044,271666056.2509521,332660099.3986771,12670050.652841145,90586703.97763133,23013872.85109913,51951252.17586064,122423528.4940273,27297099.44255496,13852397.698880134,34071054.8890785,55142550.06996587,392444063.609541,291302744.1288396,32962369.040951125,139726104.77370214,34475168.183179215,82655677.80468929,3991052.8659876175,1029028.364215798,831459.7307782193,9103602.419303438,8696918.4351484,24685077.44426268,70184.96080305928,76279784.81493285,20240560.710325047,85516614.02503985,69837693.32217973,82429774.42097597,21443847.33479,499917423.20951694,151942972.203933,83416408.13304201,80915027.64554505,204675155.875717,84805675.40113579,24398433.94257179,12430235.067264576,62258186.136639416,206304860.70588237,18267186.256924298,24592217.938274864,87247026.58262537,6594641.391909992,79005959.25056434,182979978.41873592,1898814.8837471786,130844736.06884877,2755041.6304032495,78934195.53928572,15424662.16547619,105177053.42077842,927953.1455636248,3673352.8601199873,609498651.1881579,142191692.76578948,208692171.42857146,250779444.46463248,185625245.97164667,121557280.666162,160031419.9348978,5770115.894039735,365868846.30463576,38233427.419110686,86389462.6042654,294457338.86255926,165172985.78199053,149696569.92084432,607851461.561391,6019512.100677638,4795475.5414012745,9908838.736141909,1183673076.2007723,123924654.11373095,318457326.8921095],\"coloraxis\":\"coloraxis\",\"symbol\":\"circle\"},\"mode\":\"markers\",\"name\":\"\",\"orientation\":\"v\",\"showlegend\":false,\"x\":[93.0,92.0,90.0,90.0,90.0,89.0,89.0,89.0,88.0,88.0,88.0,88.0,88.0,87.0,87.0,87.0,87.0,87.0,86.0,86.0,86.0,86.0,86.0,86.0,86.0,86.0,86.0,86.0,86.0,85.0,85.0,85.0,85.0,85.0,85.0,85.0,85.0,85.0,85.0,85.0,85.0,85.0,85.0,85.0,85.0,85.0,85.0,85.0,84.0,84.0,84.0,84.0,84.0,84.0,84.0,84.0,84.0,84.0,84.0,84.0,84.0,84.0,84.0,84.0,84.0,84.0,84.0,84.0,83.0,83.0,83.0,83.0,83.0,83.0,83.0,83.0,83.0,83.0,83.0,83.0,83.0,83.0,83.0,83.0,83.0,83.0,83.0,83.0,83.0,83.0,83.0,83.0,83.0,83.0,83.0,83.0,83.0,83.0,83.0,83.0,83.0,82.0,82.0,82.0,82.0,82.0,82.0,82.0,82.0,82.0,82.0,82.0,82.0,82.0,82.0,82.0,82.0,82.0,82.0,82.0,82.0,82.0,82.0,82.0,82.0,82.0,82.0,82.0,82.0,82.0,82.0,82.0,82.0,81.0,81.0,81.0,81.0,81.0,81.0,81.0,81.0,81.0,81.0,81.0,81.0,81.0,81.0,81.0,81.0,81.0,81.0,81.0,81.0,81.0,81.0,81.0,81.0,81.0,81.0,81.0,81.0,81.0,81.0,81.0,81.0,81.0,81.0,81.0,81.0,81.0,81.0,81.0,81.0,81.0,81.0,81.0,81.0,81.0,81.0,81.0,81.0,81.0,81.0,81.0,81.0,81.0,81.0,81.0,81.0,81.0,81.0,81.0,81.0,81.0,81.0,81.0,81.0,81.0,81.0,81.0,81.0,81.0,81.0,81.0,81.0,80.0,80.0,80.0,80.0,80.0,80.0,80.0,80.0,80.0,80.0,80.0,80.0,80.0,80.0,80.0,80.0,80.0,80.0,80.0,80.0,80.0,80.0,80.0,80.0,80.0,80.0,80.0,80.0,80.0,80.0,80.0,80.0,80.0,80.0,80.0,80.0,80.0,80.0,80.0,80.0,80.0,80.0,80.0,80.0,80.0,80.0,80.0,80.0,80.0,80.0,80.0,80.0,80.0,80.0,80.0,80.0,80.0,80.0,80.0,80.0,80.0,80.0,80.0,80.0,80.0,80.0,80.0,80.0,80.0,80.0,80.0,80.0,80.0,80.0,80.0,80.0,80.0,80.0,80.0,80.0,80.0,80.0,80.0,80.0,80.0,80.0,80.0,80.0,80.0,80.0,80.0,80.0,80.0,80.0,80.0,80.0,80.0,79.0,79.0,79.0,79.0,79.0,79.0,79.0,79.0,79.0,79.0,79.0,79.0,79.0,79.0,79.0,79.0,79.0,79.0,79.0,79.0,79.0,79.0,79.0,79.0,79.0,79.0,79.0,79.0,79.0,79.0,79.0,79.0,79.0,79.0,79.0,79.0,79.0,79.0,79.0,79.0,79.0,79.0,79.0,79.0,79.0,79.0,79.0,79.0,79.0,79.0,79.0,79.0,79.0,79.0,79.0,79.0,79.0,79.0,79.0,79.0,79.0,79.0,79.0,79.0,79.0,79.0,79.0,79.0,79.0,79.0,79.0,79.0,79.0,79.0,79.0,79.0,79.0,78.0,78.0,78.0,78.0,78.0,78.0,78.0,78.0,78.0,78.0,78.0,78.0,78.0,78.0,78.0,78.0,78.0,78.0,78.0,78.0,78.0,78.0,78.0,78.0,78.0,78.0,78.0,78.0,78.0,78.0,78.0,78.0,78.0,78.0,78.0,78.0,78.0,78.0,78.0,78.0,78.0,78.0,78.0,78.0,78.0,78.0,78.0,78.0,78.0,78.0,78.0,78.0,78.0,78.0,78.0,78.0,78.0,78.0,78.0,78.0,78.0,78.0,78.0,78.0,78.0,78.0,78.0,78.0,78.0,78.0,78.0,78.0,78.0,78.0,78.0,78.0,78.0,78.0,78.0,78.0,78.0,78.0,78.0,78.0,78.0,78.0,78.0,78.0,78.0,78.0,78.0,78.0,78.0,78.0,78.0,78.0,78.0,78.0,78.0,78.0,78.0,78.0,78.0,78.0,78.0,78.0,78.0,77.0,77.0,77.0,77.0,77.0,77.0,77.0,77.0,77.0,77.0,77.0,77.0,77.0,77.0,77.0,77.0,77.0,77.0,77.0,77.0,77.0,77.0,77.0,77.0,77.0,77.0,77.0,77.0,77.0,77.0,77.0,77.0,77.0,77.0,77.0,77.0,77.0,77.0,77.0,77.0,77.0,77.0,77.0,77.0,77.0,77.0,77.0,77.0,77.0,77.0,77.0,77.0,77.0,77.0,77.0,77.0,77.0,77.0,77.0,77.0,77.0,77.0,77.0,77.0,77.0,77.0,77.0,77.0,77.0,77.0,77.0,77.0,77.0,77.0,77.0,77.0,77.0,77.0,77.0,77.0,77.0,77.0,77.0,77.0,77.0,77.0,77.0,77.0,77.0,77.0,77.0,77.0,77.0,77.0,77.0,77.0,77.0,77.0,77.0,77.0,77.0,77.0,77.0,77.0,77.0,77.0,77.0,77.0,77.0,77.0,77.0,77.0,77.0,77.0,77.0,77.0,77.0,77.0,77.0,77.0,77.0,76.0,76.0,76.0,76.0,76.0,76.0,76.0,76.0,76.0,76.0,76.0,76.0,76.0,76.0,76.0,76.0,76.0,76.0,76.0,76.0,76.0,76.0,76.0,76.0,76.0,76.0,76.0,76.0,76.0,76.0,76.0,76.0,76.0,76.0,76.0,76.0,76.0,76.0,76.0,76.0,76.0,76.0,76.0,76.0,76.0,76.0,76.0,76.0,76.0,76.0,76.0,76.0,76.0,76.0,76.0,76.0,76.0,76.0,76.0,76.0,76.0,76.0,76.0,76.0,76.0,76.0,76.0,76.0,76.0,76.0,76.0,76.0,76.0,76.0,76.0,76.0,76.0,76.0,76.0,76.0,76.0,76.0,76.0,76.0,76.0,76.0,76.0,76.0,76.0,76.0,76.0,76.0,76.0,76.0,76.0,76.0,76.0,76.0,76.0,76.0,76.0,76.0,76.0,76.0,76.0,76.0],\"xaxis\":\"x\",\"y\":[80.0,100.0,84.0,90.0,96.0,94.0,94.0,94.0,74.0,66.0,92.0,82.0,90.0,87.0,73.0,90.0,82.0,83.0,96.0,74.0,79.0,96.0,91.0,61.0,59.0,65.0,85.0,90.0,98.0,59.0,88.0,57.0,66.0,85.0,85.0,67.0,62.0,77.0,64.0,88.0,75.0,80.0,87.0,80.0,97.0,100.0,96.0,99.0,75.0,79.0,87.0,78.0,68.0,81.0,81.0,78.0,67.0,95.0,89.0,77.0,80.0,76.0,85.0,66.0,94.0,89.0,97.0,100.0,78.0,77.0,95.0,80.0,69.0,89.0,69.0,55.0,68.0,84.0,70.0,77.0,95.0,68.0,79.0,76.0,84.0,88.0,65.0,58.0,86.0,94.0,83.0,77.0,84.0,74.0,100.0,94.0,98.0,100.0,99.0,95.0,100.0,69.0,88.0,80.0,71.0,63.0,88.0,75.0,68.0,93.0,98.0,92.0,62.0,70.0,82.0,80.0,72.0,66.0,90.0,76.0,73.0,85.0,65.0,86.0,72.0,96.0,89.0,91.0,86.0,98.0,75.0,98.0,98.0,95.0,84.0,74.0,77.0,86.0,77.0,88.0,79.0,71.0,94.0,96.0,74.0,81.0,93.0,85.0,70.0,90.0,72.0,85.0,68.0,75.0,73.0,91.0,86.0,79.0,64.0,90.0,82.0,69.0,90.0,75.0,83.0,79.0,84.0,64.0,58.0,90.0,73.0,71.0,85.0,83.0,85.0,77.0,100.0,77.0,68.0,84.0,79.0,75.0,92.0,78.0,86.0,57.0,47.0,100.0,84.0,77.0,86.0,70.0,92.0,77.0,92.0,75.0,90.0,87.0,91.0,72.0,97.0,86.0,73.0,97.0,87.0,94.0,69.0,80.0,78.0,89.0,66.0,65.0,82.0,71.0,73.0,76.0,81.0,90.0,49.0,76.0,67.0,88.0,62.0,65.0,87.0,50.0,84.0,79.0,33.0,69.0,90.0,80.0,64.0,64.0,85.0,72.0,74.0,92.0,96.0,80.0,83.0,85.0,74.0,69.0,54.0,75.0,63.0,58.0,90.0,60.0,88.0,77.0,61.0,86.0,82.0,80.0,85.0,84.0,91.0,74.0,76.0,82.0,72.0,47.0,59.0,86.0,72.0,95.0,72.0,93.0,65.0,77.0,79.0,88.0,84.0,79.0,83.0,92.0,87.0,86.0,80.0,58.0,81.0,93.0,67.0,100.0,66.0,79.0,83.0,63.0,69.0,65.0,90.0,95.0,93.0,99.0,84.0,97.0,93.0,96.0,92.0,91.0,82.0,93.0,94.0,93.0,78.0,82.0,81.0,72.0,79.0,74.0,76.0,58.0,81.0,80.0,94.0,75.0,89.0,71.0,94.0,94.0,90.0,67.0,82.0,81.0,80.0,100.0,82.0,67.0,89.0,64.0,79.0,83.0,56.0,79.0,76.0,84.0,82.0,85.0,86.0,84.0,61.0,68.0,80.0,84.0,90.0,85.0,88.0,85.0,77.0,59.0,85.0,65.0,74.0,97.0,77.0,79.0,90.0,84.0,92.0,77.0,60.0,83.0,72.0,71.0,84.0,76.0,93.0,91.0,97.0,75.0,83.0,87.0,89.0,88.0,100.0,97.0,90.0,85.0,94.0,74.0,88.0,84.0,96.0,75.0,65.0,75.0,68.0,91.0,62.0,85.0,76.0,74.0,55.0,83.0,84.0,49.0,84.0,76.0,81.0,71.0,82.0,72.0,79.0,66.0,82.0,76.0,79.0,51.0,55.0,88.0,58.0,85.0,78.0,76.0,83.0,63.0,68.0,80.0,81.0,70.0,67.0,51.0,82.0,68.0,73.0,74.0,72.0,53.0,75.0,82.0,91.0,61.0,83.0,48.0,94.0,87.0,73.0,44.0,84.0,71.0,84.0,75.0,64.0,61.0,76.0,70.0,73.0,50.0,55.0,84.0,87.0,80.0,68.0,86.0,76.0,75.0,74.0,78.0,57.0,65.0,45.0,72.0,61.0,75.0,62.0,78.0,66.0,76.0,71.0,91.0,73.0,91.0,77.0,69.0,85.0,73.0,80.0,80.0,67.0,79.0,95.0,88.0,75.0,88.0,66.0,73.0,85.0,86.0,70.0,76.0,72.0,72.0,60.0,69.0,74.0,87.0,89.0,40.0,70.0,87.0,72.0,70.0,81.0,83.0,96.0,72.0,95.0,65.0,73.0,81.0,81.0,86.0,76.0,65.0,86.0,80.0,81.0,63.0,45.0,78.0,78.0,74.0,78.0,53.0,70.0,78.0,71.0,71.0,87.0,76.0,66.0,78.0,73.0,61.0,73.0,89.0,81.0,47.0,80.0,55.0,83.0,68.0,76.0,28.0,83.0,74.0,72.0,60.0,74.0,85.0,74.0,62.0,69.0,73.0,68.0,69.0,86.0,90.0,67.0,52.0,73.0,76.0,87.0,47.0,83.0,81.0,70.0,79.0,66.0,64.0,73.0,76.0,82.0,62.0,64.0,69.0,66.0,83.0,84.0,76.0,62.0,54.0,76.0,75.0,90.0,77.0,67.0,61.0,86.0,78.0,87.0,71.0,73.0,87.0,83.0,80.0,94.0,90.0,86.0,72.0,87.0,90.0,74.0,91.0,96.0,71.0,83.0,86.0,92.0,60.0,70.0,83.0,67.0,86.0,72.0,81.0,80.0,81.0,82.0,82.0,92.0,88.0,77.0,79.0,73.0,68.0,80.0,88.0,80.0,65.0,72.0,72.0,66.0,87.0,70.0,73.0,57.0,53.0,79.0,36.0,82.0,66.0,76.0,72.0,66.0,70.0,68.0,78.0,52.0,72.0,56.0,62.0,46.0,67.0,73.0,45.0,76.0,81.0,70.0,56.0,67.0,68.0,30.0,73.0,76.0,88.0,64.0,74.0,52.0,53.0,80.0,74.0,64.0,77.0,78.0,71.0,41.0,66.0,49.0,52.0,84.0,58.0,62.0,69.0,88.0,56.0,78.0,68.0,90.0,66.0,63.0,60.0,76.0,88.0,76.0,72.0,68.0,82.0,68.0,77.0,65.0,74.0,76.0,59.0,90.0,87.0,77.0,50.0,65.0,96.0,85.0],\"yaxis\":\"y\",\"type\":\"scatter\"},{\"hovertemplate\":\"\\u003cb\\u003eOLS trendline\\u003c\\u002fb\\u003e\\u003cbr\\u003eMeta_score = 1.18987 * IMDB_Rating + -17.2887\\u003cbr\\u003eR\\u003csup\\u003e2\\u003c\\u002fsup\\u003e=0.079037\\u003cbr\\u003e\\u003cbr\\u003eIMDB_Rating=%{x}\\u003cbr\\u003eMeta_score=%{y} \\u003cb\\u003e(trend)\\u003c\\u002fb\\u003e\\u003cextra\\u003e\\u003c\\u002fextra\\u003e\",\"legendgroup\":\"\",\"marker\":{\"symbol\":\"circle\"},\"mode\":\"lines\",\"name\":\"\",\"showlegend\":false,\"x\":[76.0,76.0,76.0,76.0,76.0,76.0,76.0,76.0,76.0,76.0,76.0,76.0,76.0,76.0,76.0,76.0,76.0,76.0,76.0,76.0,76.0,76.0,76.0,76.0,76.0,76.0,76.0,76.0,76.0,76.0,76.0,76.0,76.0,76.0,76.0,76.0,76.0,76.0,76.0,76.0,76.0,76.0,76.0,76.0,76.0,76.0,76.0,76.0,76.0,76.0,76.0,76.0,76.0,76.0,76.0,76.0,76.0,76.0,76.0,76.0,76.0,76.0,76.0,76.0,76.0,76.0,76.0,76.0,76.0,76.0,76.0,76.0,76.0,76.0,76.0,76.0,76.0,76.0,76.0,76.0,76.0,76.0,76.0,76.0,76.0,76.0,76.0,76.0,76.0,76.0,76.0,76.0,76.0,76.0,76.0,76.0,76.0,76.0,76.0,76.0,76.0,76.0,76.0,76.0,76.0,76.0,77.0,77.0,77.0,77.0,77.0,77.0,77.0,77.0,77.0,77.0,77.0,77.0,77.0,77.0,77.0,77.0,77.0,77.0,77.0,77.0,77.0,77.0,77.0,77.0,77.0,77.0,77.0,77.0,77.0,77.0,77.0,77.0,77.0,77.0,77.0,77.0,77.0,77.0,77.0,77.0,77.0,77.0,77.0,77.0,77.0,77.0,77.0,77.0,77.0,77.0,77.0,77.0,77.0,77.0,77.0,77.0,77.0,77.0,77.0,77.0,77.0,77.0,77.0,77.0,77.0,77.0,77.0,77.0,77.0,77.0,77.0,77.0,77.0,77.0,77.0,77.0,77.0,77.0,77.0,77.0,77.0,77.0,77.0,77.0,77.0,77.0,77.0,77.0,77.0,77.0,77.0,77.0,77.0,77.0,77.0,77.0,77.0,77.0,77.0,77.0,77.0,77.0,77.0,77.0,77.0,77.0,77.0,77.0,77.0,77.0,77.0,77.0,77.0,77.0,77.0,77.0,77.0,77.0,77.0,77.0,77.0,78.0,78.0,78.0,78.0,78.0,78.0,78.0,78.0,78.0,78.0,78.0,78.0,78.0,78.0,78.0,78.0,78.0,78.0,78.0,78.0,78.0,78.0,78.0,78.0,78.0,78.0,78.0,78.0,78.0,78.0,78.0,78.0,78.0,78.0,78.0,78.0,78.0,78.0,78.0,78.0,78.0,78.0,78.0,78.0,78.0,78.0,78.0,78.0,78.0,78.0,78.0,78.0,78.0,78.0,78.0,78.0,78.0,78.0,78.0,78.0,78.0,78.0,78.0,78.0,78.0,78.0,78.0,78.0,78.0,78.0,78.0,78.0,78.0,78.0,78.0,78.0,78.0,78.0,78.0,78.0,78.0,78.0,78.0,78.0,78.0,78.0,78.0,78.0,78.0,78.0,78.0,78.0,78.0,78.0,78.0,78.0,78.0,78.0,78.0,78.0,78.0,78.0,78.0,78.0,78.0,78.0,78.0,79.0,79.0,79.0,79.0,79.0,79.0,79.0,79.0,79.0,79.0,79.0,79.0,79.0,79.0,79.0,79.0,79.0,79.0,79.0,79.0,79.0,79.0,79.0,79.0,79.0,79.0,79.0,79.0,79.0,79.0,79.0,79.0,79.0,79.0,79.0,79.0,79.0,79.0,79.0,79.0,79.0,79.0,79.0,79.0,79.0,79.0,79.0,79.0,79.0,79.0,79.0,79.0,79.0,79.0,79.0,79.0,79.0,79.0,79.0,79.0,79.0,79.0,79.0,79.0,79.0,79.0,79.0,79.0,79.0,79.0,79.0,79.0,79.0,79.0,79.0,79.0,79.0,80.0,80.0,80.0,80.0,80.0,80.0,80.0,80.0,80.0,80.0,80.0,80.0,80.0,80.0,80.0,80.0,80.0,80.0,80.0,80.0,80.0,80.0,80.0,80.0,80.0,80.0,80.0,80.0,80.0,80.0,80.0,80.0,80.0,80.0,80.0,80.0,80.0,80.0,80.0,80.0,80.0,80.0,80.0,80.0,80.0,80.0,80.0,80.0,80.0,80.0,80.0,80.0,80.0,80.0,80.0,80.0,80.0,80.0,80.0,80.0,80.0,80.0,80.0,80.0,80.0,80.0,80.0,80.0,80.0,80.0,80.0,80.0,80.0,80.0,80.0,80.0,80.0,80.0,80.0,80.0,80.0,80.0,80.0,80.0,80.0,80.0,80.0,80.0,80.0,80.0,80.0,80.0,80.0,80.0,80.0,80.0,80.0,81.0,81.0,81.0,81.0,81.0,81.0,81.0,81.0,81.0,81.0,81.0,81.0,81.0,81.0,81.0,81.0,81.0,81.0,81.0,81.0,81.0,81.0,81.0,81.0,81.0,81.0,81.0,81.0,81.0,81.0,81.0,81.0,81.0,81.0,81.0,81.0,81.0,81.0,81.0,81.0,81.0,81.0,81.0,81.0,81.0,81.0,81.0,81.0,81.0,81.0,81.0,81.0,81.0,81.0,81.0,81.0,81.0,81.0,81.0,81.0,81.0,81.0,81.0,81.0,81.0,81.0,81.0,81.0,81.0,81.0,81.0,81.0,82.0,82.0,82.0,82.0,82.0,82.0,82.0,82.0,82.0,82.0,82.0,82.0,82.0,82.0,82.0,82.0,82.0,82.0,82.0,82.0,82.0,82.0,82.0,82.0,82.0,82.0,82.0,82.0,82.0,82.0,82.0,82.0,83.0,83.0,83.0,83.0,83.0,83.0,83.0,83.0,83.0,83.0,83.0,83.0,83.0,83.0,83.0,83.0,83.0,83.0,83.0,83.0,83.0,83.0,83.0,83.0,83.0,83.0,83.0,83.0,83.0,83.0,83.0,83.0,83.0,84.0,84.0,84.0,84.0,84.0,84.0,84.0,84.0,84.0,84.0,84.0,84.0,84.0,84.0,84.0,84.0,84.0,84.0,84.0,84.0,85.0,85.0,85.0,85.0,85.0,85.0,85.0,85.0,85.0,85.0,85.0,85.0,85.0,85.0,85.0,85.0,85.0,85.0,85.0,86.0,86.0,86.0,86.0,86.0,86.0,86.0,86.0,86.0,86.0,86.0,87.0,87.0,87.0,87.0,87.0,88.0,88.0,88.0,88.0,88.0,89.0,89.0,89.0,90.0,90.0,90.0,92.0,93.0],\"xaxis\":\"x\",\"y\":[73.14162203726305,73.14162203726305,73.14162203726305,73.14162203726305,73.14162203726305,73.14162203726305,73.14162203726305,73.14162203726305,73.14162203726305,73.14162203726305,73.14162203726305,73.14162203726305,73.14162203726305,73.14162203726305,73.14162203726305,73.14162203726305,73.14162203726305,73.14162203726305,73.14162203726305,73.14162203726305,73.14162203726305,73.14162203726305,73.14162203726305,73.14162203726305,73.14162203726305,73.14162203726305,73.14162203726305,73.14162203726305,73.14162203726305,73.14162203726305,73.14162203726305,73.14162203726305,73.14162203726305,73.14162203726305,73.14162203726305,73.14162203726305,73.14162203726305,73.14162203726305,73.14162203726305,73.14162203726305,73.14162203726305,73.14162203726305,73.14162203726305,73.14162203726305,73.14162203726305,73.14162203726305,73.14162203726305,73.14162203726305,73.14162203726305,73.14162203726305,73.14162203726305,73.14162203726305,73.14162203726305,73.14162203726305,73.14162203726305,73.14162203726305,73.14162203726305,73.14162203726305,73.14162203726305,73.14162203726305,73.14162203726305,73.14162203726305,73.14162203726305,73.14162203726305,73.14162203726305,73.14162203726305,73.14162203726305,73.14162203726305,73.14162203726305,73.14162203726305,73.14162203726305,73.14162203726305,73.14162203726305,73.14162203726305,73.14162203726305,73.14162203726305,73.14162203726305,73.14162203726305,73.14162203726305,73.14162203726305,73.14162203726305,73.14162203726305,73.14162203726305,73.14162203726305,73.14162203726305,73.14162203726305,73.14162203726305,73.14162203726305,73.14162203726305,73.14162203726305,73.14162203726305,73.14162203726305,73.14162203726305,73.14162203726305,73.14162203726305,73.14162203726305,73.14162203726305,73.14162203726305,73.14162203726305,73.14162203726305,73.14162203726305,73.14162203726305,73.14162203726305,73.14162203726305,73.14162203726305,73.14162203726305,74.33149469510724,74.33149469510724,74.33149469510724,74.33149469510724,74.33149469510724,74.33149469510724,74.33149469510724,74.33149469510724,74.33149469510724,74.33149469510724,74.33149469510724,74.33149469510724,74.33149469510724,74.33149469510724,74.33149469510724,74.33149469510724,74.33149469510724,74.33149469510724,74.33149469510724,74.33149469510724,74.33149469510724,74.33149469510724,74.33149469510724,74.33149469510724,74.33149469510724,74.33149469510724,74.33149469510724,74.33149469510724,74.33149469510724,74.33149469510724,74.33149469510724,74.33149469510724,74.33149469510724,74.33149469510724,74.33149469510724,74.33149469510724,74.33149469510724,74.33149469510724,74.33149469510724,74.33149469510724,74.33149469510724,74.33149469510724,74.33149469510724,74.33149469510724,74.33149469510724,74.33149469510724,74.33149469510724,74.33149469510724,74.33149469510724,74.33149469510724,74.33149469510724,74.33149469510724,74.33149469510724,74.33149469510724,74.33149469510724,74.33149469510724,74.33149469510724,74.33149469510724,74.33149469510724,74.33149469510724,74.33149469510724,74.33149469510724,74.33149469510724,74.33149469510724,74.33149469510724,74.33149469510724,74.33149469510724,74.33149469510724,74.33149469510724,74.33149469510724,74.33149469510724,74.33149469510724,74.33149469510724,74.33149469510724,74.33149469510724,74.33149469510724,74.33149469510724,74.33149469510724,74.33149469510724,74.33149469510724,74.33149469510724,74.33149469510724,74.33149469510724,74.33149469510724,74.33149469510724,74.33149469510724,74.33149469510724,74.33149469510724,74.33149469510724,74.33149469510724,74.33149469510724,74.33149469510724,74.33149469510724,74.33149469510724,74.33149469510724,74.33149469510724,74.33149469510724,74.33149469510724,74.33149469510724,74.33149469510724,74.33149469510724,74.33149469510724,74.33149469510724,74.33149469510724,74.33149469510724,74.33149469510724,74.33149469510724,74.33149469510724,74.33149469510724,74.33149469510724,74.33149469510724,74.33149469510724,74.33149469510724,74.33149469510724,74.33149469510724,74.33149469510724,74.33149469510724,74.33149469510724,74.33149469510724,74.33149469510724,74.33149469510724,75.52136735295143,75.52136735295143,75.52136735295143,75.52136735295143,75.52136735295143,75.52136735295143,75.52136735295143,75.52136735295143,75.52136735295143,75.52136735295143,75.52136735295143,75.52136735295143,75.52136735295143,75.52136735295143,75.52136735295143,75.52136735295143,75.52136735295143,75.52136735295143,75.52136735295143,75.52136735295143,75.52136735295143,75.52136735295143,75.52136735295143,75.52136735295143,75.52136735295143,75.52136735295143,75.52136735295143,75.52136735295143,75.52136735295143,75.52136735295143,75.52136735295143,75.52136735295143,75.52136735295143,75.52136735295143,75.52136735295143,75.52136735295143,75.52136735295143,75.52136735295143,75.52136735295143,75.52136735295143,75.52136735295143,75.52136735295143,75.52136735295143,75.52136735295143,75.52136735295143,75.52136735295143,75.52136735295143,75.52136735295143,75.52136735295143,75.52136735295143,75.52136735295143,75.52136735295143,75.52136735295143,75.52136735295143,75.52136735295143,75.52136735295143,75.52136735295143,75.52136735295143,75.52136735295143,75.52136735295143,75.52136735295143,75.52136735295143,75.52136735295143,75.52136735295143,75.52136735295143,75.52136735295143,75.52136735295143,75.52136735295143,75.52136735295143,75.52136735295143,75.52136735295143,75.52136735295143,75.52136735295143,75.52136735295143,75.52136735295143,75.52136735295143,75.52136735295143,75.52136735295143,75.52136735295143,75.52136735295143,75.52136735295143,75.52136735295143,75.52136735295143,75.52136735295143,75.52136735295143,75.52136735295143,75.52136735295143,75.52136735295143,75.52136735295143,75.52136735295143,75.52136735295143,75.52136735295143,75.52136735295143,75.52136735295143,75.52136735295143,75.52136735295143,75.52136735295143,75.52136735295143,75.52136735295143,75.52136735295143,75.52136735295143,75.52136735295143,75.52136735295143,75.52136735295143,75.52136735295143,75.52136735295143,75.52136735295143,76.71124001079563,76.71124001079563,76.71124001079563,76.71124001079563,76.71124001079563,76.71124001079563,76.71124001079563,76.71124001079563,76.71124001079563,76.71124001079563,76.71124001079563,76.71124001079563,76.71124001079563,76.71124001079563,76.71124001079563,76.71124001079563,76.71124001079563,76.71124001079563,76.71124001079563,76.71124001079563,76.71124001079563,76.71124001079563,76.71124001079563,76.71124001079563,76.71124001079563,76.71124001079563,76.71124001079563,76.71124001079563,76.71124001079563,76.71124001079563,76.71124001079563,76.71124001079563,76.71124001079563,76.71124001079563,76.71124001079563,76.71124001079563,76.71124001079563,76.71124001079563,76.71124001079563,76.71124001079563,76.71124001079563,76.71124001079563,76.71124001079563,76.71124001079563,76.71124001079563,76.71124001079563,76.71124001079563,76.71124001079563,76.71124001079563,76.71124001079563,76.71124001079563,76.71124001079563,76.71124001079563,76.71124001079563,76.71124001079563,76.71124001079563,76.71124001079563,76.71124001079563,76.71124001079563,76.71124001079563,76.71124001079563,76.71124001079563,76.71124001079563,76.71124001079563,76.71124001079563,76.71124001079563,76.71124001079563,76.71124001079563,76.71124001079563,76.71124001079563,76.71124001079563,76.71124001079563,76.71124001079563,76.71124001079563,76.71124001079563,76.71124001079563,76.71124001079563,77.90111266863983,77.90111266863983,77.90111266863983,77.90111266863983,77.90111266863983,77.90111266863983,77.90111266863983,77.90111266863983,77.90111266863983,77.90111266863983,77.90111266863983,77.90111266863983,77.90111266863983,77.90111266863983,77.90111266863983,77.90111266863983,77.90111266863983,77.90111266863983,77.90111266863983,77.90111266863983,77.90111266863983,77.90111266863983,77.90111266863983,77.90111266863983,77.90111266863983,77.90111266863983,77.90111266863983,77.90111266863983,77.90111266863983,77.90111266863983,77.90111266863983,77.90111266863983,77.90111266863983,77.90111266863983,77.90111266863983,77.90111266863983,77.90111266863983,77.90111266863983,77.90111266863983,77.90111266863983,77.90111266863983,77.90111266863983,77.90111266863983,77.90111266863983,77.90111266863983,77.90111266863983,77.90111266863983,77.90111266863983,77.90111266863983,77.90111266863983,77.90111266863983,77.90111266863983,77.90111266863983,77.90111266863983,77.90111266863983,77.90111266863983,77.90111266863983,77.90111266863983,77.90111266863983,77.90111266863983,77.90111266863983,77.90111266863983,77.90111266863983,77.90111266863983,77.90111266863983,77.90111266863983,77.90111266863983,77.90111266863983,77.90111266863983,77.90111266863983,77.90111266863983,77.90111266863983,77.90111266863983,77.90111266863983,77.90111266863983,77.90111266863983,77.90111266863983,77.90111266863983,77.90111266863983,77.90111266863983,77.90111266863983,77.90111266863983,77.90111266863983,77.90111266863983,77.90111266863983,77.90111266863983,77.90111266863983,77.90111266863983,77.90111266863983,77.90111266863983,77.90111266863983,77.90111266863983,77.90111266863983,77.90111266863983,77.90111266863983,77.90111266863983,77.90111266863983,79.09098532648402,79.09098532648402,79.09098532648402,79.09098532648402,79.09098532648402,79.09098532648402,79.09098532648402,79.09098532648402,79.09098532648402,79.09098532648402,79.09098532648402,79.09098532648402,79.09098532648402,79.09098532648402,79.09098532648402,79.09098532648402,79.09098532648402,79.09098532648402,79.09098532648402,79.09098532648402,79.09098532648402,79.09098532648402,79.09098532648402,79.09098532648402,79.09098532648402,79.09098532648402,79.09098532648402,79.09098532648402,79.09098532648402,79.09098532648402,79.09098532648402,79.09098532648402,79.09098532648402,79.09098532648402,79.09098532648402,79.09098532648402,79.09098532648402,79.09098532648402,79.09098532648402,79.09098532648402,79.09098532648402,79.09098532648402,79.09098532648402,79.09098532648402,79.09098532648402,79.09098532648402,79.09098532648402,79.09098532648402,79.09098532648402,79.09098532648402,79.09098532648402,79.09098532648402,79.09098532648402,79.09098532648402,79.09098532648402,79.09098532648402,79.09098532648402,79.09098532648402,79.09098532648402,79.09098532648402,79.09098532648402,79.09098532648402,79.09098532648402,79.09098532648402,79.09098532648402,79.09098532648402,79.09098532648402,79.09098532648402,79.09098532648402,79.09098532648402,79.09098532648402,79.09098532648402,80.28085798432821,80.28085798432821,80.28085798432821,80.28085798432821,80.28085798432821,80.28085798432821,80.28085798432821,80.28085798432821,80.28085798432821,80.28085798432821,80.28085798432821,80.28085798432821,80.28085798432821,80.28085798432821,80.28085798432821,80.28085798432821,80.28085798432821,80.28085798432821,80.28085798432821,80.28085798432821,80.28085798432821,80.28085798432821,80.28085798432821,80.28085798432821,80.28085798432821,80.28085798432821,80.28085798432821,80.28085798432821,80.28085798432821,80.28085798432821,80.28085798432821,80.28085798432821,81.4707306421724,81.4707306421724,81.4707306421724,81.4707306421724,81.4707306421724,81.4707306421724,81.4707306421724,81.4707306421724,81.4707306421724,81.4707306421724,81.4707306421724,81.4707306421724,81.4707306421724,81.4707306421724,81.4707306421724,81.4707306421724,81.4707306421724,81.4707306421724,81.4707306421724,81.4707306421724,81.4707306421724,81.4707306421724,81.4707306421724,81.4707306421724,81.4707306421724,81.4707306421724,81.4707306421724,81.4707306421724,81.4707306421724,81.4707306421724,81.4707306421724,81.4707306421724,81.4707306421724,82.66060330001659,82.66060330001659,82.66060330001659,82.66060330001659,82.66060330001659,82.66060330001659,82.66060330001659,82.66060330001659,82.66060330001659,82.66060330001659,82.66060330001659,82.66060330001659,82.66060330001659,82.66060330001659,82.66060330001659,82.66060330001659,82.66060330001659,82.66060330001659,82.66060330001659,82.66060330001659,83.8504759578608,83.8504759578608,83.8504759578608,83.8504759578608,83.8504759578608,83.8504759578608,83.8504759578608,83.8504759578608,83.8504759578608,83.8504759578608,83.8504759578608,83.8504759578608,83.8504759578608,83.8504759578608,83.8504759578608,83.8504759578608,83.8504759578608,83.8504759578608,83.8504759578608,85.04034861570499,85.04034861570499,85.04034861570499,85.04034861570499,85.04034861570499,85.04034861570499,85.04034861570499,85.04034861570499,85.04034861570499,85.04034861570499,85.04034861570499,86.23022127354918,86.23022127354918,86.23022127354918,86.23022127354918,86.23022127354918,87.42009393139337,87.42009393139337,87.42009393139337,87.42009393139337,87.42009393139337,88.60996658923756,88.60996658923756,88.60996658923756,89.79983924708175,89.79983924708175,89.79983924708175,92.17958456277015,93.36945722061434],\"yaxis\":\"y\",\"type\":\"scatter\"}],                        {\"template\":{\"data\":{\"histogram2dcontour\":[{\"type\":\"histogram2dcontour\",\"colorbar\":{\"outlinewidth\":0,\"ticks\":\"\"},\"colorscale\":[[0.0,\"#0d0887\"],[0.1111111111111111,\"#46039f\"],[0.2222222222222222,\"#7201a8\"],[0.3333333333333333,\"#9c179e\"],[0.4444444444444444,\"#bd3786\"],[0.5555555555555556,\"#d8576b\"],[0.6666666666666666,\"#ed7953\"],[0.7777777777777778,\"#fb9f3a\"],[0.8888888888888888,\"#fdca26\"],[1.0,\"#f0f921\"]]}],\"choropleth\":[{\"type\":\"choropleth\",\"colorbar\":{\"outlinewidth\":0,\"ticks\":\"\"}}],\"histogram2d\":[{\"type\":\"histogram2d\",\"colorbar\":{\"outlinewidth\":0,\"ticks\":\"\"},\"colorscale\":[[0.0,\"#0d0887\"],[0.1111111111111111,\"#46039f\"],[0.2222222222222222,\"#7201a8\"],[0.3333333333333333,\"#9c179e\"],[0.4444444444444444,\"#bd3786\"],[0.5555555555555556,\"#d8576b\"],[0.6666666666666666,\"#ed7953\"],[0.7777777777777778,\"#fb9f3a\"],[0.8888888888888888,\"#fdca26\"],[1.0,\"#f0f921\"]]}],\"heatmap\":[{\"type\":\"heatmap\",\"colorbar\":{\"outlinewidth\":0,\"ticks\":\"\"},\"colorscale\":[[0.0,\"#0d0887\"],[0.1111111111111111,\"#46039f\"],[0.2222222222222222,\"#7201a8\"],[0.3333333333333333,\"#9c179e\"],[0.4444444444444444,\"#bd3786\"],[0.5555555555555556,\"#d8576b\"],[0.6666666666666666,\"#ed7953\"],[0.7777777777777778,\"#fb9f3a\"],[0.8888888888888888,\"#fdca26\"],[1.0,\"#f0f921\"]]}],\"heatmapgl\":[{\"type\":\"heatmapgl\",\"colorbar\":{\"outlinewidth\":0,\"ticks\":\"\"},\"colorscale\":[[0.0,\"#0d0887\"],[0.1111111111111111,\"#46039f\"],[0.2222222222222222,\"#7201a8\"],[0.3333333333333333,\"#9c179e\"],[0.4444444444444444,\"#bd3786\"],[0.5555555555555556,\"#d8576b\"],[0.6666666666666666,\"#ed7953\"],[0.7777777777777778,\"#fb9f3a\"],[0.8888888888888888,\"#fdca26\"],[1.0,\"#f0f921\"]]}],\"contourcarpet\":[{\"type\":\"contourcarpet\",\"colorbar\":{\"outlinewidth\":0,\"ticks\":\"\"}}],\"contour\":[{\"type\":\"contour\",\"colorbar\":{\"outlinewidth\":0,\"ticks\":\"\"},\"colorscale\":[[0.0,\"#0d0887\"],[0.1111111111111111,\"#46039f\"],[0.2222222222222222,\"#7201a8\"],[0.3333333333333333,\"#9c179e\"],[0.4444444444444444,\"#bd3786\"],[0.5555555555555556,\"#d8576b\"],[0.6666666666666666,\"#ed7953\"],[0.7777777777777778,\"#fb9f3a\"],[0.8888888888888888,\"#fdca26\"],[1.0,\"#f0f921\"]]}],\"surface\":[{\"type\":\"surface\",\"colorbar\":{\"outlinewidth\":0,\"ticks\":\"\"},\"colorscale\":[[0.0,\"#0d0887\"],[0.1111111111111111,\"#46039f\"],[0.2222222222222222,\"#7201a8\"],[0.3333333333333333,\"#9c179e\"],[0.4444444444444444,\"#bd3786\"],[0.5555555555555556,\"#d8576b\"],[0.6666666666666666,\"#ed7953\"],[0.7777777777777778,\"#fb9f3a\"],[0.8888888888888888,\"#fdca26\"],[1.0,\"#f0f921\"]]}],\"mesh3d\":[{\"type\":\"mesh3d\",\"colorbar\":{\"outlinewidth\":0,\"ticks\":\"\"}}],\"scatter\":[{\"fillpattern\":{\"fillmode\":\"overlay\",\"size\":10,\"solidity\":0.2},\"type\":\"scatter\"}],\"parcoords\":[{\"type\":\"parcoords\",\"line\":{\"colorbar\":{\"outlinewidth\":0,\"ticks\":\"\"}}}],\"scatterpolargl\":[{\"type\":\"scatterpolargl\",\"marker\":{\"colorbar\":{\"outlinewidth\":0,\"ticks\":\"\"}}}],\"bar\":[{\"error_x\":{\"color\":\"#2a3f5f\"},\"error_y\":{\"color\":\"#2a3f5f\"},\"marker\":{\"line\":{\"color\":\"#E5ECF6\",\"width\":0.5},\"pattern\":{\"fillmode\":\"overlay\",\"size\":10,\"solidity\":0.2}},\"type\":\"bar\"}],\"scattergeo\":[{\"type\":\"scattergeo\",\"marker\":{\"colorbar\":{\"outlinewidth\":0,\"ticks\":\"\"}}}],\"scatterpolar\":[{\"type\":\"scatterpolar\",\"marker\":{\"colorbar\":{\"outlinewidth\":0,\"ticks\":\"\"}}}],\"histogram\":[{\"marker\":{\"pattern\":{\"fillmode\":\"overlay\",\"size\":10,\"solidity\":0.2}},\"type\":\"histogram\"}],\"scattergl\":[{\"type\":\"scattergl\",\"marker\":{\"colorbar\":{\"outlinewidth\":0,\"ticks\":\"\"}}}],\"scatter3d\":[{\"type\":\"scatter3d\",\"line\":{\"colorbar\":{\"outlinewidth\":0,\"ticks\":\"\"}},\"marker\":{\"colorbar\":{\"outlinewidth\":0,\"ticks\":\"\"}}}],\"scattermapbox\":[{\"type\":\"scattermapbox\",\"marker\":{\"colorbar\":{\"outlinewidth\":0,\"ticks\":\"\"}}}],\"scatterternary\":[{\"type\":\"scatterternary\",\"marker\":{\"colorbar\":{\"outlinewidth\":0,\"ticks\":\"\"}}}],\"scattercarpet\":[{\"type\":\"scattercarpet\",\"marker\":{\"colorbar\":{\"outlinewidth\":0,\"ticks\":\"\"}}}],\"carpet\":[{\"aaxis\":{\"endlinecolor\":\"#2a3f5f\",\"gridcolor\":\"white\",\"linecolor\":\"white\",\"minorgridcolor\":\"white\",\"startlinecolor\":\"#2a3f5f\"},\"baxis\":{\"endlinecolor\":\"#2a3f5f\",\"gridcolor\":\"white\",\"linecolor\":\"white\",\"minorgridcolor\":\"white\",\"startlinecolor\":\"#2a3f5f\"},\"type\":\"carpet\"}],\"table\":[{\"cells\":{\"fill\":{\"color\":\"#EBF0F8\"},\"line\":{\"color\":\"white\"}},\"header\":{\"fill\":{\"color\":\"#C8D4E3\"},\"line\":{\"color\":\"white\"}},\"type\":\"table\"}],\"barpolar\":[{\"marker\":{\"line\":{\"color\":\"#E5ECF6\",\"width\":0.5},\"pattern\":{\"fillmode\":\"overlay\",\"size\":10,\"solidity\":0.2}},\"type\":\"barpolar\"}],\"pie\":[{\"automargin\":true,\"type\":\"pie\"}]},\"layout\":{\"autotypenumbers\":\"strict\",\"colorway\":[\"#636efa\",\"#EF553B\",\"#00cc96\",\"#ab63fa\",\"#FFA15A\",\"#19d3f3\",\"#FF6692\",\"#B6E880\",\"#FF97FF\",\"#FECB52\"],\"font\":{\"color\":\"#2a3f5f\"},\"hovermode\":\"closest\",\"hoverlabel\":{\"align\":\"left\"},\"paper_bgcolor\":\"white\",\"plot_bgcolor\":\"#E5ECF6\",\"polar\":{\"bgcolor\":\"#E5ECF6\",\"angularaxis\":{\"gridcolor\":\"white\",\"linecolor\":\"white\",\"ticks\":\"\"},\"radialaxis\":{\"gridcolor\":\"white\",\"linecolor\":\"white\",\"ticks\":\"\"}},\"ternary\":{\"bgcolor\":\"#E5ECF6\",\"aaxis\":{\"gridcolor\":\"white\",\"linecolor\":\"white\",\"ticks\":\"\"},\"baxis\":{\"gridcolor\":\"white\",\"linecolor\":\"white\",\"ticks\":\"\"},\"caxis\":{\"gridcolor\":\"white\",\"linecolor\":\"white\",\"ticks\":\"\"}},\"coloraxis\":{\"colorbar\":{\"outlinewidth\":0,\"ticks\":\"\"}},\"colorscale\":{\"sequential\":[[0.0,\"#0d0887\"],[0.1111111111111111,\"#46039f\"],[0.2222222222222222,\"#7201a8\"],[0.3333333333333333,\"#9c179e\"],[0.4444444444444444,\"#bd3786\"],[0.5555555555555556,\"#d8576b\"],[0.6666666666666666,\"#ed7953\"],[0.7777777777777778,\"#fb9f3a\"],[0.8888888888888888,\"#fdca26\"],[1.0,\"#f0f921\"]],\"sequentialminus\":[[0.0,\"#0d0887\"],[0.1111111111111111,\"#46039f\"],[0.2222222222222222,\"#7201a8\"],[0.3333333333333333,\"#9c179e\"],[0.4444444444444444,\"#bd3786\"],[0.5555555555555556,\"#d8576b\"],[0.6666666666666666,\"#ed7953\"],[0.7777777777777778,\"#fb9f3a\"],[0.8888888888888888,\"#fdca26\"],[1.0,\"#f0f921\"]],\"diverging\":[[0,\"#8e0152\"],[0.1,\"#c51b7d\"],[0.2,\"#de77ae\"],[0.3,\"#f1b6da\"],[0.4,\"#fde0ef\"],[0.5,\"#f7f7f7\"],[0.6,\"#e6f5d0\"],[0.7,\"#b8e186\"],[0.8,\"#7fbc41\"],[0.9,\"#4d9221\"],[1,\"#276419\"]]},\"xaxis\":{\"gridcolor\":\"white\",\"linecolor\":\"white\",\"ticks\":\"\",\"title\":{\"standoff\":15},\"zerolinecolor\":\"white\",\"automargin\":true,\"zerolinewidth\":2},\"yaxis\":{\"gridcolor\":\"white\",\"linecolor\":\"white\",\"ticks\":\"\",\"title\":{\"standoff\":15},\"zerolinecolor\":\"white\",\"automargin\":true,\"zerolinewidth\":2},\"scene\":{\"xaxis\":{\"backgroundcolor\":\"#E5ECF6\",\"gridcolor\":\"white\",\"linecolor\":\"white\",\"showbackground\":true,\"ticks\":\"\",\"zerolinecolor\":\"white\",\"gridwidth\":2},\"yaxis\":{\"backgroundcolor\":\"#E5ECF6\",\"gridcolor\":\"white\",\"linecolor\":\"white\",\"showbackground\":true,\"ticks\":\"\",\"zerolinecolor\":\"white\",\"gridwidth\":2},\"zaxis\":{\"backgroundcolor\":\"#E5ECF6\",\"gridcolor\":\"white\",\"linecolor\":\"white\",\"showbackground\":true,\"ticks\":\"\",\"zerolinecolor\":\"white\",\"gridwidth\":2}},\"shapedefaults\":{\"line\":{\"color\":\"#2a3f5f\"}},\"annotationdefaults\":{\"arrowcolor\":\"#2a3f5f\",\"arrowhead\":0,\"arrowwidth\":1},\"geo\":{\"bgcolor\":\"white\",\"landcolor\":\"#E5ECF6\",\"subunitcolor\":\"white\",\"showland\":true,\"showlakes\":true,\"lakecolor\":\"white\"},\"title\":{\"x\":0.05},\"mapbox\":{\"style\":\"light\"}}},\"xaxis\":{\"anchor\":\"y\",\"domain\":[0.0,1.0],\"title\":{\"text\":\"IMDB_Rating\"},\"range\":[1,100]},\"yaxis\":{\"anchor\":\"x\",\"domain\":[0.0,1.0],\"title\":{\"text\":\"Meta_score\"},\"range\":[1,100]},\"coloraxis\":{\"colorbar\":{\"title\":{\"text\":\"Indexed_Gross\"}},\"colorscale\":[[0.0,\"#0d0887\"],[0.1111111111111111,\"#46039f\"],[0.2222222222222222,\"#7201a8\"],[0.3333333333333333,\"#9c179e\"],[0.4444444444444444,\"#bd3786\"],[0.5555555555555556,\"#d8576b\"],[0.6666666666666666,\"#ed7953\"],[0.7777777777777778,\"#fb9f3a\"],[0.8888888888888888,\"#fdca26\"],[1.0,\"#f0f921\"]]},\"legend\":{\"tracegroupgap\":0},\"title\":{\"text\":\"Movies Rating corelation\"}},                        {\"responsive\": true}                    ).then(function(){\n",
              "                            \n",
              "var gd = document.getElementById('1d7fba3d-e535-48c6-b4f7-a6aeb75ec83a');\n",
              "var x = new MutationObserver(function (mutations, observer) {{\n",
              "        var display = window.getComputedStyle(gd).display;\n",
              "        if (!display || display === 'none') {{\n",
              "            console.log([gd, 'removed!']);\n",
              "            Plotly.purge(gd);\n",
              "            observer.disconnect();\n",
              "        }}\n",
              "}});\n",
              "\n",
              "// Listen for the removal of the full notebook cells\n",
              "var notebookContainer = gd.closest('#notebook-container');\n",
              "if (notebookContainer) {{\n",
              "    x.observe(notebookContainer, {childList: true});\n",
              "}}\n",
              "\n",
              "// Listen for the clearing of the current output cell\n",
              "var outputEl = gd.closest('.output');\n",
              "if (outputEl) {{\n",
              "    x.observe(outputEl, {childList: true});\n",
              "}}\n",
              "\n",
              "                        })                };                            </script>        </div>\n",
              "</body>\n",
              "</html>"
            ]
          },
          "metadata": {}
        }
      ]
    },
    {
      "cell_type": "code",
      "source": [
        "year_cnt = int(df['Released_Year'].max() - df['Released_Year'].min()+1)\n",
        "fig1 = px.histogram(df, 'Released_Year',nbins=year_cnt, title = 'Count movies per year')\n",
        "fig1.show()"
      ],
      "metadata": {
        "colab": {
          "base_uri": "https://localhost:8080/",
          "height": 542
        },
        "id": "-XNj7GIX-lIb",
        "outputId": "e9b7ccb0-b302-4cc3-c750-fea277bda24c"
      },
      "execution_count": null,
      "outputs": [
        {
          "output_type": "display_data",
          "data": {
            "text/html": [
              "<html>\n",
              "<head><meta charset=\"utf-8\" /></head>\n",
              "<body>\n",
              "    <div>            <script src=\"https://cdnjs.cloudflare.com/ajax/libs/mathjax/2.7.5/MathJax.js?config=TeX-AMS-MML_SVG\"></script><script type=\"text/javascript\">if (window.MathJax && window.MathJax.Hub && window.MathJax.Hub.Config) {window.MathJax.Hub.Config({SVG: {font: \"STIX-Web\"}});}</script>                <script type=\"text/javascript\">window.PlotlyConfig = {MathJaxConfig: 'local'};</script>\n",
              "        <script charset=\"utf-8\" src=\"https://cdn.plot.ly/plotly-2.24.1.min.js\"></script>                <div id=\"9f51d284-cf6f-422b-bd67-b45b1e607b7c\" class=\"plotly-graph-div\" style=\"height:525px; width:100%;\"></div>            <script type=\"text/javascript\">                                    window.PLOTLYENV=window.PLOTLYENV || {};                                    if (document.getElementById(\"9f51d284-cf6f-422b-bd67-b45b1e607b7c\")) {                    Plotly.newPlot(                        \"9f51d284-cf6f-422b-bd67-b45b1e607b7c\",                        [{\"alignmentgroup\":\"True\",\"bingroup\":\"x\",\"hovertemplate\":\"Released_Year=%{x}\\u003cbr\\u003ecount=%{y}\\u003cextra\\u003e\\u003c\\u002fextra\\u003e\",\"legendgroup\":\"\",\"marker\":{\"color\":\"#636efa\",\"pattern\":{\"shape\":\"\"}},\"name\":\"\",\"nbinsx\":90,\"offsetgroup\":\"\",\"orientation\":\"v\",\"showlegend\":false,\"x\":[1994,1972,2008,1974,1957,2003,1994,1993,2010,1999,2001,1994,1966,2002,1999,1990,1980,1975,2019,2014,2002,2001,1998,1999,1997,1995,1991,1977,1954,2019,2014,2011,2006,2006,2002,2000,1998,1995,1994,1994,1991,1988,1985,1968,1960,1942,1936,1931,2018,2016,2018,2019,2018,2017,2012,2012,2009,2008,2006,2003,2000,1997,1981,1980,1979,1979,1964,1954,2019,2012,2011,2010,2009,2004,2001,2000,2000,1999,1997,1997,1995,1995,1992,1987,1986,1984,1983,1983,1981,1976,1973,1971,1968,1965,1962,1960,1959,1958,1952,1944,1941,2018,2017,2009,2011,2010,2009,2013,2007,2007,2006,2010,2005,2005,2004,2004,2001,1998,1997,1995,1995,1992,1989,1988,1988,1985,1980,1975,1963,1959,1954,1950,1948,2019,2016,2014,2017,2015,2014,2014,2014,2016,2015,2013,2013,2019,2015,2014,2013,2015,2008,2011,2008,2010,2007,2007,2004,2004,2004,2004,2003,2003,2003,2002,2000,2001,2001,1999,1998,1998,1998,1998,2000,1996,1996,1995,1994,1994,1993,1993,1989,1986,1986,1984,1984,1982,1982,1982,1982,1979,1978,1976,1974,1973,1967,1962,1959,1957,1954,1951,1949,1940,1939,1939,1934,2016,2016,2015,2016,2013,2017,2019,2013,2014,2014,2014,2017,2013,2018,2015,2012,2010,2011,2016,2009,2010,2008,2010,2007,2012,2007,2013,2006,2006,2007,2004,2005,2007,2007,2006,2004,2003,2014,2005,2003,2002,2003,2003,2004,2003,2001,1999,2000,1999,1998,1998,1999,1996,1996,1995,1995,1993,1993,1993,1992,1992,1991,1991,1990,1989,1988,1987,1987,1987,1984,1982,1979,1977,1975,1975,1974,1973,1973,1971,1971,1970,1969,1968,1967,1965,1965,1964,1961,1960,1959,1958,1958,1951,1946,1940,1939,1930,2019,2018,2019,2017,2016,2018,2016,2016,2016,2017,2014,2019,2016,2015,2013,2014,2011,2014,2012,2019,2009,2009,2008,2009,2008,2014,2009,2008,2006,2006,2012,2009,2004,2008,2004,2003,2004,2002,2002,2001,2001,2002,2000,2006,2000,2001,1999,1997,1994,1993,1993,1993,1990,1989,1989,1987,1986,1985,1984,1983,1980,1979,1979,1978,1976,1973,1972,1970,1969,1967,1963,1960,1952,1951,1946,1938,1933,2016,2017,2016,2017,2016,2016,2015,2016,2016,2015,2019,2017,2013,2013,2014,2013,2013,2019,2013,2012,2014,2015,2011,2013,2015,2009,2013,2009,2009,2010,2008,2008,2007,2012,2007,2011,2007,2009,2009,2006,2006,2007,2008,2004,2005,2005,2005,2003,2005,2005,2004,2004,2002,2003,2002,2001,2000,2000,1999,2000,1999,1999,1999,2001,1997,1997,1997,1996,1994,1993,1993,1993,1993,1993,1993,1991,1991,1991,1990,1990,1989,1989,1988,1987,1987,1986,1986,1985,1985,1985,1984,1984,1983,1982,1982,1979,1976,1974,1973,1973,1972,1971,1969,1964,1964,1962,1961,2018,2017,2017,2018,2015,2014,2014,2014,2014,2014,2015,2014,2013,2013,2014,2013,2012,2015,2011,2014,2013,2013,2010,2011,2009,2012,2012,2012,2009,2010,2008,2008,2006,2008,2010,2014,2006,2006,2007,2006,2005,2007,2010,2006,2005,2007,2004,2004,2004,2004,2004,2003,2005,2004,2009,2003,2002,2003,2002,2001,2002,2001,2002,2001,2000,2001,2001,2000,2000,1999,1999,2001,1998,1999,1997,1997,1998,1997,1996,1996,1995,1994,1994,1993,1993,1992,1992,1992,1992,1992,1991,1991,1990,1988,1987,1987,1987,1986,1986,1985,1985,1982,1982,1982,1980,1980,1978,1976,1974,1973,1973,1972,1971,1971,1968,1966,1964,1963,1960,1951,1940,2018,2019,2017,2017,2017,2019,2015,2017,2017,2017,2015,2018,2016,2015,2015,2014,2016,2013,2014,2011,2012,2010,2018,2010,2010,2010,2011,2010,2011,2011,2009,2009,2009,2007,2008,2007,2007,2006,2007,2007,2006,2006,2009,2006,2005,2009,2005,2004,2008,2004,2003,2004,2003,2003,2002,2004,2002,2004,2002,2001,2001,2001,2001,2001,2001,2002,1999,2000,1998,1998,1998,1998,1998,1996,1997,1995,1995,1995,1995,1994,1993,1993,1992,1991,1991,1990,1990,1989,1989,1988,1987,1987,1984,1981,1981,1979,1979,1979,1978,1977,1973,1971,1970,1967,1964,1953],\"xaxis\":\"x\",\"yaxis\":\"y\",\"type\":\"histogram\"}],                        {\"template\":{\"data\":{\"histogram2dcontour\":[{\"type\":\"histogram2dcontour\",\"colorbar\":{\"outlinewidth\":0,\"ticks\":\"\"},\"colorscale\":[[0.0,\"#0d0887\"],[0.1111111111111111,\"#46039f\"],[0.2222222222222222,\"#7201a8\"],[0.3333333333333333,\"#9c179e\"],[0.4444444444444444,\"#bd3786\"],[0.5555555555555556,\"#d8576b\"],[0.6666666666666666,\"#ed7953\"],[0.7777777777777778,\"#fb9f3a\"],[0.8888888888888888,\"#fdca26\"],[1.0,\"#f0f921\"]]}],\"choropleth\":[{\"type\":\"choropleth\",\"colorbar\":{\"outlinewidth\":0,\"ticks\":\"\"}}],\"histogram2d\":[{\"type\":\"histogram2d\",\"colorbar\":{\"outlinewidth\":0,\"ticks\":\"\"},\"colorscale\":[[0.0,\"#0d0887\"],[0.1111111111111111,\"#46039f\"],[0.2222222222222222,\"#7201a8\"],[0.3333333333333333,\"#9c179e\"],[0.4444444444444444,\"#bd3786\"],[0.5555555555555556,\"#d8576b\"],[0.6666666666666666,\"#ed7953\"],[0.7777777777777778,\"#fb9f3a\"],[0.8888888888888888,\"#fdca26\"],[1.0,\"#f0f921\"]]}],\"heatmap\":[{\"type\":\"heatmap\",\"colorbar\":{\"outlinewidth\":0,\"ticks\":\"\"},\"colorscale\":[[0.0,\"#0d0887\"],[0.1111111111111111,\"#46039f\"],[0.2222222222222222,\"#7201a8\"],[0.3333333333333333,\"#9c179e\"],[0.4444444444444444,\"#bd3786\"],[0.5555555555555556,\"#d8576b\"],[0.6666666666666666,\"#ed7953\"],[0.7777777777777778,\"#fb9f3a\"],[0.8888888888888888,\"#fdca26\"],[1.0,\"#f0f921\"]]}],\"heatmapgl\":[{\"type\":\"heatmapgl\",\"colorbar\":{\"outlinewidth\":0,\"ticks\":\"\"},\"colorscale\":[[0.0,\"#0d0887\"],[0.1111111111111111,\"#46039f\"],[0.2222222222222222,\"#7201a8\"],[0.3333333333333333,\"#9c179e\"],[0.4444444444444444,\"#bd3786\"],[0.5555555555555556,\"#d8576b\"],[0.6666666666666666,\"#ed7953\"],[0.7777777777777778,\"#fb9f3a\"],[0.8888888888888888,\"#fdca26\"],[1.0,\"#f0f921\"]]}],\"contourcarpet\":[{\"type\":\"contourcarpet\",\"colorbar\":{\"outlinewidth\":0,\"ticks\":\"\"}}],\"contour\":[{\"type\":\"contour\",\"colorbar\":{\"outlinewidth\":0,\"ticks\":\"\"},\"colorscale\":[[0.0,\"#0d0887\"],[0.1111111111111111,\"#46039f\"],[0.2222222222222222,\"#7201a8\"],[0.3333333333333333,\"#9c179e\"],[0.4444444444444444,\"#bd3786\"],[0.5555555555555556,\"#d8576b\"],[0.6666666666666666,\"#ed7953\"],[0.7777777777777778,\"#fb9f3a\"],[0.8888888888888888,\"#fdca26\"],[1.0,\"#f0f921\"]]}],\"surface\":[{\"type\":\"surface\",\"colorbar\":{\"outlinewidth\":0,\"ticks\":\"\"},\"colorscale\":[[0.0,\"#0d0887\"],[0.1111111111111111,\"#46039f\"],[0.2222222222222222,\"#7201a8\"],[0.3333333333333333,\"#9c179e\"],[0.4444444444444444,\"#bd3786\"],[0.5555555555555556,\"#d8576b\"],[0.6666666666666666,\"#ed7953\"],[0.7777777777777778,\"#fb9f3a\"],[0.8888888888888888,\"#fdca26\"],[1.0,\"#f0f921\"]]}],\"mesh3d\":[{\"type\":\"mesh3d\",\"colorbar\":{\"outlinewidth\":0,\"ticks\":\"\"}}],\"scatter\":[{\"fillpattern\":{\"fillmode\":\"overlay\",\"size\":10,\"solidity\":0.2},\"type\":\"scatter\"}],\"parcoords\":[{\"type\":\"parcoords\",\"line\":{\"colorbar\":{\"outlinewidth\":0,\"ticks\":\"\"}}}],\"scatterpolargl\":[{\"type\":\"scatterpolargl\",\"marker\":{\"colorbar\":{\"outlinewidth\":0,\"ticks\":\"\"}}}],\"bar\":[{\"error_x\":{\"color\":\"#2a3f5f\"},\"error_y\":{\"color\":\"#2a3f5f\"},\"marker\":{\"line\":{\"color\":\"#E5ECF6\",\"width\":0.5},\"pattern\":{\"fillmode\":\"overlay\",\"size\":10,\"solidity\":0.2}},\"type\":\"bar\"}],\"scattergeo\":[{\"type\":\"scattergeo\",\"marker\":{\"colorbar\":{\"outlinewidth\":0,\"ticks\":\"\"}}}],\"scatterpolar\":[{\"type\":\"scatterpolar\",\"marker\":{\"colorbar\":{\"outlinewidth\":0,\"ticks\":\"\"}}}],\"histogram\":[{\"marker\":{\"pattern\":{\"fillmode\":\"overlay\",\"size\":10,\"solidity\":0.2}},\"type\":\"histogram\"}],\"scattergl\":[{\"type\":\"scattergl\",\"marker\":{\"colorbar\":{\"outlinewidth\":0,\"ticks\":\"\"}}}],\"scatter3d\":[{\"type\":\"scatter3d\",\"line\":{\"colorbar\":{\"outlinewidth\":0,\"ticks\":\"\"}},\"marker\":{\"colorbar\":{\"outlinewidth\":0,\"ticks\":\"\"}}}],\"scattermapbox\":[{\"type\":\"scattermapbox\",\"marker\":{\"colorbar\":{\"outlinewidth\":0,\"ticks\":\"\"}}}],\"scatterternary\":[{\"type\":\"scatterternary\",\"marker\":{\"colorbar\":{\"outlinewidth\":0,\"ticks\":\"\"}}}],\"scattercarpet\":[{\"type\":\"scattercarpet\",\"marker\":{\"colorbar\":{\"outlinewidth\":0,\"ticks\":\"\"}}}],\"carpet\":[{\"aaxis\":{\"endlinecolor\":\"#2a3f5f\",\"gridcolor\":\"white\",\"linecolor\":\"white\",\"minorgridcolor\":\"white\",\"startlinecolor\":\"#2a3f5f\"},\"baxis\":{\"endlinecolor\":\"#2a3f5f\",\"gridcolor\":\"white\",\"linecolor\":\"white\",\"minorgridcolor\":\"white\",\"startlinecolor\":\"#2a3f5f\"},\"type\":\"carpet\"}],\"table\":[{\"cells\":{\"fill\":{\"color\":\"#EBF0F8\"},\"line\":{\"color\":\"white\"}},\"header\":{\"fill\":{\"color\":\"#C8D4E3\"},\"line\":{\"color\":\"white\"}},\"type\":\"table\"}],\"barpolar\":[{\"marker\":{\"line\":{\"color\":\"#E5ECF6\",\"width\":0.5},\"pattern\":{\"fillmode\":\"overlay\",\"size\":10,\"solidity\":0.2}},\"type\":\"barpolar\"}],\"pie\":[{\"automargin\":true,\"type\":\"pie\"}]},\"layout\":{\"autotypenumbers\":\"strict\",\"colorway\":[\"#636efa\",\"#EF553B\",\"#00cc96\",\"#ab63fa\",\"#FFA15A\",\"#19d3f3\",\"#FF6692\",\"#B6E880\",\"#FF97FF\",\"#FECB52\"],\"font\":{\"color\":\"#2a3f5f\"},\"hovermode\":\"closest\",\"hoverlabel\":{\"align\":\"left\"},\"paper_bgcolor\":\"white\",\"plot_bgcolor\":\"#E5ECF6\",\"polar\":{\"bgcolor\":\"#E5ECF6\",\"angularaxis\":{\"gridcolor\":\"white\",\"linecolor\":\"white\",\"ticks\":\"\"},\"radialaxis\":{\"gridcolor\":\"white\",\"linecolor\":\"white\",\"ticks\":\"\"}},\"ternary\":{\"bgcolor\":\"#E5ECF6\",\"aaxis\":{\"gridcolor\":\"white\",\"linecolor\":\"white\",\"ticks\":\"\"},\"baxis\":{\"gridcolor\":\"white\",\"linecolor\":\"white\",\"ticks\":\"\"},\"caxis\":{\"gridcolor\":\"white\",\"linecolor\":\"white\",\"ticks\":\"\"}},\"coloraxis\":{\"colorbar\":{\"outlinewidth\":0,\"ticks\":\"\"}},\"colorscale\":{\"sequential\":[[0.0,\"#0d0887\"],[0.1111111111111111,\"#46039f\"],[0.2222222222222222,\"#7201a8\"],[0.3333333333333333,\"#9c179e\"],[0.4444444444444444,\"#bd3786\"],[0.5555555555555556,\"#d8576b\"],[0.6666666666666666,\"#ed7953\"],[0.7777777777777778,\"#fb9f3a\"],[0.8888888888888888,\"#fdca26\"],[1.0,\"#f0f921\"]],\"sequentialminus\":[[0.0,\"#0d0887\"],[0.1111111111111111,\"#46039f\"],[0.2222222222222222,\"#7201a8\"],[0.3333333333333333,\"#9c179e\"],[0.4444444444444444,\"#bd3786\"],[0.5555555555555556,\"#d8576b\"],[0.6666666666666666,\"#ed7953\"],[0.7777777777777778,\"#fb9f3a\"],[0.8888888888888888,\"#fdca26\"],[1.0,\"#f0f921\"]],\"diverging\":[[0,\"#8e0152\"],[0.1,\"#c51b7d\"],[0.2,\"#de77ae\"],[0.3,\"#f1b6da\"],[0.4,\"#fde0ef\"],[0.5,\"#f7f7f7\"],[0.6,\"#e6f5d0\"],[0.7,\"#b8e186\"],[0.8,\"#7fbc41\"],[0.9,\"#4d9221\"],[1,\"#276419\"]]},\"xaxis\":{\"gridcolor\":\"white\",\"linecolor\":\"white\",\"ticks\":\"\",\"title\":{\"standoff\":15},\"zerolinecolor\":\"white\",\"automargin\":true,\"zerolinewidth\":2},\"yaxis\":{\"gridcolor\":\"white\",\"linecolor\":\"white\",\"ticks\":\"\",\"title\":{\"standoff\":15},\"zerolinecolor\":\"white\",\"automargin\":true,\"zerolinewidth\":2},\"scene\":{\"xaxis\":{\"backgroundcolor\":\"#E5ECF6\",\"gridcolor\":\"white\",\"linecolor\":\"white\",\"showbackground\":true,\"ticks\":\"\",\"zerolinecolor\":\"white\",\"gridwidth\":2},\"yaxis\":{\"backgroundcolor\":\"#E5ECF6\",\"gridcolor\":\"white\",\"linecolor\":\"white\",\"showbackground\":true,\"ticks\":\"\",\"zerolinecolor\":\"white\",\"gridwidth\":2},\"zaxis\":{\"backgroundcolor\":\"#E5ECF6\",\"gridcolor\":\"white\",\"linecolor\":\"white\",\"showbackground\":true,\"ticks\":\"\",\"zerolinecolor\":\"white\",\"gridwidth\":2}},\"shapedefaults\":{\"line\":{\"color\":\"#2a3f5f\"}},\"annotationdefaults\":{\"arrowcolor\":\"#2a3f5f\",\"arrowhead\":0,\"arrowwidth\":1},\"geo\":{\"bgcolor\":\"white\",\"landcolor\":\"#E5ECF6\",\"subunitcolor\":\"white\",\"showland\":true,\"showlakes\":true,\"lakecolor\":\"white\"},\"title\":{\"x\":0.05},\"mapbox\":{\"style\":\"light\"}}},\"xaxis\":{\"anchor\":\"y\",\"domain\":[0.0,1.0],\"title\":{\"text\":\"Released_Year\"}},\"yaxis\":{\"anchor\":\"x\",\"domain\":[0.0,1.0],\"title\":{\"text\":\"count\"}},\"legend\":{\"tracegroupgap\":0},\"title\":{\"text\":\"Count movies per year\"},\"barmode\":\"relative\"},                        {\"responsive\": true}                    ).then(function(){\n",
              "                            \n",
              "var gd = document.getElementById('9f51d284-cf6f-422b-bd67-b45b1e607b7c');\n",
              "var x = new MutationObserver(function (mutations, observer) {{\n",
              "        var display = window.getComputedStyle(gd).display;\n",
              "        if (!display || display === 'none') {{\n",
              "            console.log([gd, 'removed!']);\n",
              "            Plotly.purge(gd);\n",
              "            observer.disconnect();\n",
              "        }}\n",
              "}});\n",
              "\n",
              "// Listen for the removal of the full notebook cells\n",
              "var notebookContainer = gd.closest('#notebook-container');\n",
              "if (notebookContainer) {{\n",
              "    x.observe(notebookContainer, {childList: true});\n",
              "}}\n",
              "\n",
              "// Listen for the clearing of the current output cell\n",
              "var outputEl = gd.closest('.output');\n",
              "if (outputEl) {{\n",
              "    x.observe(outputEl, {childList: true});\n",
              "}}\n",
              "\n",
              "                        })                };                            </script>        </div>\n",
              "</body>\n",
              "</html>"
            ]
          },
          "metadata": {}
        }
      ]
    },
    {
      "cell_type": "code",
      "source": [
        "fig = px.pie(df, names = 'Certificate', title = 'Movies by their certificate')\n",
        "fig.show()"
      ],
      "metadata": {
        "id": "iVtmO5WEIn_R",
        "colab": {
          "base_uri": "https://localhost:8080/",
          "height": 542
        },
        "outputId": "b9124345-e312-4e7b-c516-de696fa9e04e"
      },
      "execution_count": null,
      "outputs": [
        {
          "output_type": "display_data",
          "data": {
            "text/html": [
              "<html>\n",
              "<head><meta charset=\"utf-8\" /></head>\n",
              "<body>\n",
              "    <div>            <script src=\"https://cdnjs.cloudflare.com/ajax/libs/mathjax/2.7.5/MathJax.js?config=TeX-AMS-MML_SVG\"></script><script type=\"text/javascript\">if (window.MathJax && window.MathJax.Hub && window.MathJax.Hub.Config) {window.MathJax.Hub.Config({SVG: {font: \"STIX-Web\"}});}</script>                <script type=\"text/javascript\">window.PlotlyConfig = {MathJaxConfig: 'local'};</script>\n",
              "        <script charset=\"utf-8\" src=\"https://cdn.plot.ly/plotly-2.24.1.min.js\"></script>                <div id=\"8afcd8cb-29a4-41c2-8218-54a0fa0ebc7a\" class=\"plotly-graph-div\" style=\"height:525px; width:100%;\"></div>            <script type=\"text/javascript\">                                    window.PLOTLYENV=window.PLOTLYENV || {};                                    if (document.getElementById(\"8afcd8cb-29a4-41c2-8218-54a0fa0ebc7a\")) {                    Plotly.newPlot(                        \"8afcd8cb-29a4-41c2-8218-54a0fa0ebc7a\",                        [{\"domain\":{\"x\":[0.0,1.0],\"y\":[0.0,1.0]},\"hovertemplate\":\"Certificate=%{label}\\u003cextra\\u003e\\u003c\\u002fextra\\u003e\",\"labels\":[\"A\",\"A\",\"UA\",\"A\",\"U\",\"U\",\"A\",\"A\",\"UA\",\"A\",\"U\",\"UA\",\"A\",\"UA\",\"A\",\"A\",\"UA\",\"A\",\"A\",\"UA\",\"A\",\"U\",\"R\",\"A\",\"U\",\"A\",\"A\",\"UA\",\"U\",\"A\",\"A\",\"UA\",\"U\",\"A\",\"R\",\"UA\",\"R\",\"A\",\"A\",\"U\",\"U\",\"U\",\"U\",\"U\",\"A\",\"U\",\"G\",\"G\",\"A\",\"U\",\"U\",\"UA\",\"UA\",\"U\",\"A\",\"UA\",\"UA\",\"U\",\"A\",\"A\",\"UA\",\"U\",\"A\",\"A\",\"R\",\"R\",\"A\",\"U\",\"R\",\"R\",\"PG-13\",\"R\",\"A\",\"UA\",\"U\",\"UA\",\"A\",\"UA\",\"U\",\"PG\",\"U\",\"A\",\"R\",\"UA\",\"U\",\"R\",\"A\",\"U\",\"R\",\"A\",\"U\",\"A\",\"U\",\"U\",\"U\",\"U\",\"U\",\"A\",\"G\",\"Passed\",\"UA\",\"UA\",\"A\",\"R\",\"UA\",\"A\",\"U\",\"A\",\"U\",\"A\",\"UA\",\"U\",\"A\",\"UA\",\"R\",\"U\",\"UA\",\"A\",\"A\",\"A\",\"A\",\"A\",\"U\",\"U\",\"A\",\"U\",\"A\",\"PG\",\"U\",\"U\",\"A\",\"Passed\",\"Passed\",\"R\",\"A\",\"R\",\"A\",\"R\",\"R\",\"UA\",\"A\",\"A\",\"U\",\"A\",\"UA\",\"UA\",\"A\",\"PG\",\"A\",\"UA\",\"R\",\"UA\",\"PG-13\",\"U\",\"R\",\"R\",\"UA\",\"PG-13\",\"R\",\"R\",\"UA\",\"R\",\"U\",\"A\",\"A\",\"U\",\"U\",\"A\",\"U\",\"U\",\"R\",\"R\",\"U\",\"A\",\"A\",\"R\",\"U\",\"U\",\"UA\",\"UA\",\"U\",\"U\",\"A\",\"U\",\"U\",\"A\",\"UA\",\"A\",\"UA\",\"R\",\"A\",\"U\",\"UA\",\"U\",\"A\",\"Passed\",\"U\",\"PG\",\"A\",\"Approved\",\"Approved\",\"Approved\",\"Passed\",\"U\",\"Approved\",\"A\",\"U\",\"UA\",\"U\",\"U\",\"U\",\"UA\",\"R\",\"A\",\"UA\",\"UA\",\"UA\",\"A\",\"UA\",\"A\",\"UA\",\"U\",\"UA\",\"R\",\"TV-PG\",\"UA\",\"UA\",\"A\",\"R\",\"UA\",\"PG-13\",\"R\",\"U\",\"A\",\"UA\",\"U\",\"A\",\"PG-13\",\"U\",\"PG-13\",\"A\",\"R\",\"U\",\"UA\",\"U\",\"UA\",\"UA\",\"U\",\"U\",\"R\",\"R\",\"R\",\"U\",\"U\",\"R\",\"R\",\"PG\",\"R\",\"U\",\"A\",\"UA\",\"U\",\"U\",\"R\",\"UA\",\"U\",\"UA\",\"G\",\"U\",\"R\",\"U\",\"U\",\"U\",\"U\",\"UA\",\"U\",\"PG\",\"A\",\"A\",\"U\",\"A\",\"R\",\"A\",\"R\",\"G\",\"UA\",\"PG\",\"U\",\"A\",\"U\",\"A\",\"A\",\"A\",\"A\",\"Passed\",\"PG-13\",\"A\",\"A\",\"Approved\",\"Passed\",\"U\",\"U\",\"UA\",\"A\",\"U\",\"UA\",\"UA\",\"U\",\"UA\",\"R\",\"PG-13\",\"UA\",\"A\",\"UA\",\"UA\",\"U\",\"R\",\"UA\",\"U\",\"UA\",\"UA\",\"R\",\"A\",\"R\",\"R\",\"A\",\"UA\",\"A\",\"UA\",\"R\",\"UA\",\"R\",\"U\",\"PG\",\"PG-13\",\"UA\",\"UA\",\"A\",\"U\",\"PG-13\",\"R\",\"R\",\"U\",\"UA\",\"R\",\"A\",\"A\",\"R\",\"U\",\"R\",\"A\",\"R\",\"U\",\"A\",\"U\",\"U\",\"PG-13\",\"A\",\"PG-13\",\"U\",\"R\",\"U\",\"U\",\"R\",\"A\",\"A\",\"U\",\"R\",\"PG\",\"U\",\"A\",\"U\",\"U\",\"A\",\"PG\",\"A\",\"U\",\"PG\",\"Passed\",\"UA\",\"UA\",\"UA\",\"U\",\"PG\",\"UA\",\"R\",\"UA\",\"UA\",\"A\",\"U\",\"UA\",\"PG-13\",\"U\",\"U\",\"R\",\"PG-13\",\"U\",\"R\",\"A\",\"U\",\"A\",\"R\",\"UA\",\"R\",\"R\",\"UA\",\"UA\",\"R\",\"UA\",\"A\",\"PG-13\",\"R\",\"UA\",\"R\",\"A\",\"A\",\"UA\",\"R\",\"A\",\"UA\",\"UA\",\"UA\",\"U\",\"R\",\"PG\",\"U\",\"UA\",\"PG-13\",\"PG-13\",\"A\",\"U\",\"R\",\"PG-13\",\"PG-13\",\"R\",\"U\",\"UA\",\"R\",\"UA\",\"R\",\"UA\",\"PG\",\"U\",\"UA\",\"UA\",\"UA\",\"R\",\"U\",\"U\",\"R\",\"U\",\"U\",\"U\",\"R\",\"R\",\"R\",\"A\",\"R\",\"U\",\"R\",\"U\",\"A\",\"A\",\"A\",\"U\",\"R\",\"U\",\"U\",\"UA\",\"UA\",\"UA\",\"PG\",\"U\",\"U\",\"A\",\"A\",\"U\",\"U\",\"A\",\"A\",\"U\",\"A\",\"U\",\"U\",\"G\",\"A\",\"R\",\"R\",\"R\",\"UA\",\"PG-13\",\"R\",\"U\",\"U\",\"A\",\"UA\",\"PG-13\",\"A\",\"A\",\"U\",\"UA\",\"UA\",\"U\",\"PG\",\"PG-13\",\"U\",\"UA\",\"UA\",\"UA\",\"UA\",\"UA\",\"UA\",\"A\",\"A\",\"UA\",\"A\",\"U\",\"R\",\"U\",\"R\",\"PG\",\"UA\",\"R\",\"R\",\"UA\",\"R\",\"PG-13\",\"R\",\"U\",\"R\",\"A\",\"A\",\"UA\",\"UA\",\"A\",\"R\",\"A\",\"UA\",\"UA\",\"UA\",\"U\",\"UA\",\"R\",\"R\",\"PG-13\",\"PG-13\",\"R\",\"A\",\"A\",\"R\",\"R\",\"R\",\"UA\",\"U\",\"U\",\"A\",\"R\",\"A\",\"UA\",\"R\",\"A\",\"UA\",\"PG-13\",\"A\",\"U\",\"A\",\"U\",\"U\",\"R\",\"R\",\"UA\",\"G\",\"U\",\"UA\",\"R\",\"U\",\"PG-13\",\"U\",\"R\",\"U\",\"R\",\"U\",\"U\",\"R\",\"A\",\"U\",\"UA\",\"U\",\"U\",\"A\",\"U\",\"U\",\"A\",\"R\",\"A\",\"A\",\"A\",\"U\",\"A\",\"A\",\"G\",\"U\",\"A\",\"A\",\"Approved\",\"PG\",\"G\",\"U\\u002fA\",\"A\",\"R\",\"A\",\"PG-13\",\"PG-13\",\"PG-13\",\"UA\",\"UA\",\"UA\",\"UA\",\"UA\",\"U\",\"A\",\"A\",\"R\",\"R\",\"PG-13\",\"UA\",\"A\",\"A\",\"U\",\"UA\",\"PG-13\",\"R\",\"U\",\"R\",\"UA\",\"PG-13\",\"R\",\"A\",\"PG-13\",\"UA\",\"PG-13\",\"UA\",\"R\",\"U\",\"R\",\"R\",\"PG-13\",\"PG-13\",\"U\",\"UA\",\"A\",\"R\",\"A\",\"R\",\"UA\",\"R\",\"R\",\"R\",\"U\",\"R\",\"UA\",\"R\",\"U\",\"R\",\"U\",\"A\",\"A\",\"A\",\"U\",\"PG-13\",\"R\",\"A\",\"A\",\"R\",\"A\",\"UA\",\"A\",\"U\",\"R\",\"A\",\"UA\",\"A\",\"U\",\"A\",\"R\",\"A\",\"U\",\"R\",\"U\",\"UA\",\"U\",\"R\",\"U\",\"A\",\"UA\",\"U\",\"U\",\"U\",\"A\",\"A\",\"UA\",\"A\",\"UA\",\"U\",\"A\",\"A\",\"U\",\"A\",\"PG\",\"GP\",\"U\",\"U\",\"Passed\"],\"legendgroup\":\"\",\"name\":\"\",\"showlegend\":true,\"type\":\"pie\"}],                        {\"template\":{\"data\":{\"histogram2dcontour\":[{\"type\":\"histogram2dcontour\",\"colorbar\":{\"outlinewidth\":0,\"ticks\":\"\"},\"colorscale\":[[0.0,\"#0d0887\"],[0.1111111111111111,\"#46039f\"],[0.2222222222222222,\"#7201a8\"],[0.3333333333333333,\"#9c179e\"],[0.4444444444444444,\"#bd3786\"],[0.5555555555555556,\"#d8576b\"],[0.6666666666666666,\"#ed7953\"],[0.7777777777777778,\"#fb9f3a\"],[0.8888888888888888,\"#fdca26\"],[1.0,\"#f0f921\"]]}],\"choropleth\":[{\"type\":\"choropleth\",\"colorbar\":{\"outlinewidth\":0,\"ticks\":\"\"}}],\"histogram2d\":[{\"type\":\"histogram2d\",\"colorbar\":{\"outlinewidth\":0,\"ticks\":\"\"},\"colorscale\":[[0.0,\"#0d0887\"],[0.1111111111111111,\"#46039f\"],[0.2222222222222222,\"#7201a8\"],[0.3333333333333333,\"#9c179e\"],[0.4444444444444444,\"#bd3786\"],[0.5555555555555556,\"#d8576b\"],[0.6666666666666666,\"#ed7953\"],[0.7777777777777778,\"#fb9f3a\"],[0.8888888888888888,\"#fdca26\"],[1.0,\"#f0f921\"]]}],\"heatmap\":[{\"type\":\"heatmap\",\"colorbar\":{\"outlinewidth\":0,\"ticks\":\"\"},\"colorscale\":[[0.0,\"#0d0887\"],[0.1111111111111111,\"#46039f\"],[0.2222222222222222,\"#7201a8\"],[0.3333333333333333,\"#9c179e\"],[0.4444444444444444,\"#bd3786\"],[0.5555555555555556,\"#d8576b\"],[0.6666666666666666,\"#ed7953\"],[0.7777777777777778,\"#fb9f3a\"],[0.8888888888888888,\"#fdca26\"],[1.0,\"#f0f921\"]]}],\"heatmapgl\":[{\"type\":\"heatmapgl\",\"colorbar\":{\"outlinewidth\":0,\"ticks\":\"\"},\"colorscale\":[[0.0,\"#0d0887\"],[0.1111111111111111,\"#46039f\"],[0.2222222222222222,\"#7201a8\"],[0.3333333333333333,\"#9c179e\"],[0.4444444444444444,\"#bd3786\"],[0.5555555555555556,\"#d8576b\"],[0.6666666666666666,\"#ed7953\"],[0.7777777777777778,\"#fb9f3a\"],[0.8888888888888888,\"#fdca26\"],[1.0,\"#f0f921\"]]}],\"contourcarpet\":[{\"type\":\"contourcarpet\",\"colorbar\":{\"outlinewidth\":0,\"ticks\":\"\"}}],\"contour\":[{\"type\":\"contour\",\"colorbar\":{\"outlinewidth\":0,\"ticks\":\"\"},\"colorscale\":[[0.0,\"#0d0887\"],[0.1111111111111111,\"#46039f\"],[0.2222222222222222,\"#7201a8\"],[0.3333333333333333,\"#9c179e\"],[0.4444444444444444,\"#bd3786\"],[0.5555555555555556,\"#d8576b\"],[0.6666666666666666,\"#ed7953\"],[0.7777777777777778,\"#fb9f3a\"],[0.8888888888888888,\"#fdca26\"],[1.0,\"#f0f921\"]]}],\"surface\":[{\"type\":\"surface\",\"colorbar\":{\"outlinewidth\":0,\"ticks\":\"\"},\"colorscale\":[[0.0,\"#0d0887\"],[0.1111111111111111,\"#46039f\"],[0.2222222222222222,\"#7201a8\"],[0.3333333333333333,\"#9c179e\"],[0.4444444444444444,\"#bd3786\"],[0.5555555555555556,\"#d8576b\"],[0.6666666666666666,\"#ed7953\"],[0.7777777777777778,\"#fb9f3a\"],[0.8888888888888888,\"#fdca26\"],[1.0,\"#f0f921\"]]}],\"mesh3d\":[{\"type\":\"mesh3d\",\"colorbar\":{\"outlinewidth\":0,\"ticks\":\"\"}}],\"scatter\":[{\"fillpattern\":{\"fillmode\":\"overlay\",\"size\":10,\"solidity\":0.2},\"type\":\"scatter\"}],\"parcoords\":[{\"type\":\"parcoords\",\"line\":{\"colorbar\":{\"outlinewidth\":0,\"ticks\":\"\"}}}],\"scatterpolargl\":[{\"type\":\"scatterpolargl\",\"marker\":{\"colorbar\":{\"outlinewidth\":0,\"ticks\":\"\"}}}],\"bar\":[{\"error_x\":{\"color\":\"#2a3f5f\"},\"error_y\":{\"color\":\"#2a3f5f\"},\"marker\":{\"line\":{\"color\":\"#E5ECF6\",\"width\":0.5},\"pattern\":{\"fillmode\":\"overlay\",\"size\":10,\"solidity\":0.2}},\"type\":\"bar\"}],\"scattergeo\":[{\"type\":\"scattergeo\",\"marker\":{\"colorbar\":{\"outlinewidth\":0,\"ticks\":\"\"}}}],\"scatterpolar\":[{\"type\":\"scatterpolar\",\"marker\":{\"colorbar\":{\"outlinewidth\":0,\"ticks\":\"\"}}}],\"histogram\":[{\"marker\":{\"pattern\":{\"fillmode\":\"overlay\",\"size\":10,\"solidity\":0.2}},\"type\":\"histogram\"}],\"scattergl\":[{\"type\":\"scattergl\",\"marker\":{\"colorbar\":{\"outlinewidth\":0,\"ticks\":\"\"}}}],\"scatter3d\":[{\"type\":\"scatter3d\",\"line\":{\"colorbar\":{\"outlinewidth\":0,\"ticks\":\"\"}},\"marker\":{\"colorbar\":{\"outlinewidth\":0,\"ticks\":\"\"}}}],\"scattermapbox\":[{\"type\":\"scattermapbox\",\"marker\":{\"colorbar\":{\"outlinewidth\":0,\"ticks\":\"\"}}}],\"scatterternary\":[{\"type\":\"scatterternary\",\"marker\":{\"colorbar\":{\"outlinewidth\":0,\"ticks\":\"\"}}}],\"scattercarpet\":[{\"type\":\"scattercarpet\",\"marker\":{\"colorbar\":{\"outlinewidth\":0,\"ticks\":\"\"}}}],\"carpet\":[{\"aaxis\":{\"endlinecolor\":\"#2a3f5f\",\"gridcolor\":\"white\",\"linecolor\":\"white\",\"minorgridcolor\":\"white\",\"startlinecolor\":\"#2a3f5f\"},\"baxis\":{\"endlinecolor\":\"#2a3f5f\",\"gridcolor\":\"white\",\"linecolor\":\"white\",\"minorgridcolor\":\"white\",\"startlinecolor\":\"#2a3f5f\"},\"type\":\"carpet\"}],\"table\":[{\"cells\":{\"fill\":{\"color\":\"#EBF0F8\"},\"line\":{\"color\":\"white\"}},\"header\":{\"fill\":{\"color\":\"#C8D4E3\"},\"line\":{\"color\":\"white\"}},\"type\":\"table\"}],\"barpolar\":[{\"marker\":{\"line\":{\"color\":\"#E5ECF6\",\"width\":0.5},\"pattern\":{\"fillmode\":\"overlay\",\"size\":10,\"solidity\":0.2}},\"type\":\"barpolar\"}],\"pie\":[{\"automargin\":true,\"type\":\"pie\"}]},\"layout\":{\"autotypenumbers\":\"strict\",\"colorway\":[\"#636efa\",\"#EF553B\",\"#00cc96\",\"#ab63fa\",\"#FFA15A\",\"#19d3f3\",\"#FF6692\",\"#B6E880\",\"#FF97FF\",\"#FECB52\"],\"font\":{\"color\":\"#2a3f5f\"},\"hovermode\":\"closest\",\"hoverlabel\":{\"align\":\"left\"},\"paper_bgcolor\":\"white\",\"plot_bgcolor\":\"#E5ECF6\",\"polar\":{\"bgcolor\":\"#E5ECF6\",\"angularaxis\":{\"gridcolor\":\"white\",\"linecolor\":\"white\",\"ticks\":\"\"},\"radialaxis\":{\"gridcolor\":\"white\",\"linecolor\":\"white\",\"ticks\":\"\"}},\"ternary\":{\"bgcolor\":\"#E5ECF6\",\"aaxis\":{\"gridcolor\":\"white\",\"linecolor\":\"white\",\"ticks\":\"\"},\"baxis\":{\"gridcolor\":\"white\",\"linecolor\":\"white\",\"ticks\":\"\"},\"caxis\":{\"gridcolor\":\"white\",\"linecolor\":\"white\",\"ticks\":\"\"}},\"coloraxis\":{\"colorbar\":{\"outlinewidth\":0,\"ticks\":\"\"}},\"colorscale\":{\"sequential\":[[0.0,\"#0d0887\"],[0.1111111111111111,\"#46039f\"],[0.2222222222222222,\"#7201a8\"],[0.3333333333333333,\"#9c179e\"],[0.4444444444444444,\"#bd3786\"],[0.5555555555555556,\"#d8576b\"],[0.6666666666666666,\"#ed7953\"],[0.7777777777777778,\"#fb9f3a\"],[0.8888888888888888,\"#fdca26\"],[1.0,\"#f0f921\"]],\"sequentialminus\":[[0.0,\"#0d0887\"],[0.1111111111111111,\"#46039f\"],[0.2222222222222222,\"#7201a8\"],[0.3333333333333333,\"#9c179e\"],[0.4444444444444444,\"#bd3786\"],[0.5555555555555556,\"#d8576b\"],[0.6666666666666666,\"#ed7953\"],[0.7777777777777778,\"#fb9f3a\"],[0.8888888888888888,\"#fdca26\"],[1.0,\"#f0f921\"]],\"diverging\":[[0,\"#8e0152\"],[0.1,\"#c51b7d\"],[0.2,\"#de77ae\"],[0.3,\"#f1b6da\"],[0.4,\"#fde0ef\"],[0.5,\"#f7f7f7\"],[0.6,\"#e6f5d0\"],[0.7,\"#b8e186\"],[0.8,\"#7fbc41\"],[0.9,\"#4d9221\"],[1,\"#276419\"]]},\"xaxis\":{\"gridcolor\":\"white\",\"linecolor\":\"white\",\"ticks\":\"\",\"title\":{\"standoff\":15},\"zerolinecolor\":\"white\",\"automargin\":true,\"zerolinewidth\":2},\"yaxis\":{\"gridcolor\":\"white\",\"linecolor\":\"white\",\"ticks\":\"\",\"title\":{\"standoff\":15},\"zerolinecolor\":\"white\",\"automargin\":true,\"zerolinewidth\":2},\"scene\":{\"xaxis\":{\"backgroundcolor\":\"#E5ECF6\",\"gridcolor\":\"white\",\"linecolor\":\"white\",\"showbackground\":true,\"ticks\":\"\",\"zerolinecolor\":\"white\",\"gridwidth\":2},\"yaxis\":{\"backgroundcolor\":\"#E5ECF6\",\"gridcolor\":\"white\",\"linecolor\":\"white\",\"showbackground\":true,\"ticks\":\"\",\"zerolinecolor\":\"white\",\"gridwidth\":2},\"zaxis\":{\"backgroundcolor\":\"#E5ECF6\",\"gridcolor\":\"white\",\"linecolor\":\"white\",\"showbackground\":true,\"ticks\":\"\",\"zerolinecolor\":\"white\",\"gridwidth\":2}},\"shapedefaults\":{\"line\":{\"color\":\"#2a3f5f\"}},\"annotationdefaults\":{\"arrowcolor\":\"#2a3f5f\",\"arrowhead\":0,\"arrowwidth\":1},\"geo\":{\"bgcolor\":\"white\",\"landcolor\":\"#E5ECF6\",\"subunitcolor\":\"white\",\"showland\":true,\"showlakes\":true,\"lakecolor\":\"white\"},\"title\":{\"x\":0.05},\"mapbox\":{\"style\":\"light\"}}},\"legend\":{\"tracegroupgap\":0},\"title\":{\"text\":\"Movies by their certificate\"}},                        {\"responsive\": true}                    ).then(function(){\n",
              "                            \n",
              "var gd = document.getElementById('8afcd8cb-29a4-41c2-8218-54a0fa0ebc7a');\n",
              "var x = new MutationObserver(function (mutations, observer) {{\n",
              "        var display = window.getComputedStyle(gd).display;\n",
              "        if (!display || display === 'none') {{\n",
              "            console.log([gd, 'removed!']);\n",
              "            Plotly.purge(gd);\n",
              "            observer.disconnect();\n",
              "        }}\n",
              "}});\n",
              "\n",
              "// Listen for the removal of the full notebook cells\n",
              "var notebookContainer = gd.closest('#notebook-container');\n",
              "if (notebookContainer) {{\n",
              "    x.observe(notebookContainer, {childList: true});\n",
              "}}\n",
              "\n",
              "// Listen for the clearing of the current output cell\n",
              "var outputEl = gd.closest('.output');\n",
              "if (outputEl) {{\n",
              "    x.observe(outputEl, {childList: true});\n",
              "}}\n",
              "\n",
              "                        })                };                            </script>        </div>\n",
              "</body>\n",
              "</html>"
            ]
          },
          "metadata": {}
        }
      ]
    },
    {
      "cell_type": "markdown",
      "source": [
        "# Detailed plots"
      ],
      "metadata": {
        "id": "EeqXu8LtT2KO"
      }
    },
    {
      "cell_type": "code",
      "source": [
        "full_genre_list = (set.union(*list(df.Genre)))\n",
        "print(*full_genre_list, sep='\\n')"
      ],
      "metadata": {
        "id": "u_qEw85AZcRb",
        "colab": {
          "base_uri": "https://localhost:8080/"
        },
        "outputId": "72844539-7822-4698-c8f8-7179b6851d77"
      },
      "execution_count": null,
      "outputs": [
        {
          "output_type": "stream",
          "name": "stdout",
          "text": [
            "adventure\n",
            "crime\n",
            "film-noir\n",
            "thriller\n",
            "western\n",
            "fantasy\n",
            "animation\n",
            "comedy\n",
            "romance\n",
            "sci-fi\n",
            "drama\n",
            "mystery\n",
            "musical\n",
            "sport\n",
            "war\n",
            "family\n",
            "history\n",
            "horror\n",
            "action\n",
            "music\n",
            "biography\n"
          ]
        }
      ]
    },
    {
      "cell_type": "code",
      "source": [
        "def get_genre_subset(df,genre):\n",
        "  return df[df.Genre.apply(lambda x: genre in x)]\n",
        "\n",
        "genres = ['drama', 'action','crime','horror']"
      ],
      "metadata": {
        "id": "Yz6O15kzXO9Z"
      },
      "execution_count": null,
      "outputs": []
    },
    {
      "cell_type": "code",
      "source": [
        "fig = subplots.make_subplots(rows=len(genres),cols=1, subplot_titles=genres)\n",
        "\n",
        "for i,g in enumerate(genres):\n",
        "  fig_s = px.histogram(get_genre_subset(df, g), 'Released_Year', nbins=year_cnt)\n",
        "  for d in fig_s['data']:\n",
        "    fig.add_trace(d, row = i + 1, col = 1)\n",
        "  fig.update_yaxes(range=[0,20],row=i+1,col=1)\n",
        "  fig.update_xaxes(range=[df.Released_Year.min(),df.Released_Year.max()])\n",
        "\n",
        "\n",
        "fig.update_layout(title_text = 'Count of movies in genre')\n",
        "\n",
        "fig.show()"
      ],
      "metadata": {
        "colab": {
          "base_uri": "https://localhost:8080/",
          "height": 542
        },
        "id": "N7H23nugXm6_",
        "outputId": "6bd48a40-fba2-4155-bd06-3d249bf7d110"
      },
      "execution_count": null,
      "outputs": [
        {
          "output_type": "display_data",
          "data": {
            "text/html": [
              "<html>\n",
              "<head><meta charset=\"utf-8\" /></head>\n",
              "<body>\n",
              "    <div>            <script src=\"https://cdnjs.cloudflare.com/ajax/libs/mathjax/2.7.5/MathJax.js?config=TeX-AMS-MML_SVG\"></script><script type=\"text/javascript\">if (window.MathJax && window.MathJax.Hub && window.MathJax.Hub.Config) {window.MathJax.Hub.Config({SVG: {font: \"STIX-Web\"}});}</script>                <script type=\"text/javascript\">window.PlotlyConfig = {MathJaxConfig: 'local'};</script>\n",
              "        <script charset=\"utf-8\" src=\"https://cdn.plot.ly/plotly-2.24.1.min.js\"></script>                <div id=\"cca747ee-b851-4d3d-be35-1c17d23e254d\" class=\"plotly-graph-div\" style=\"height:525px; width:100%;\"></div>            <script type=\"text/javascript\">                                    window.PLOTLYENV=window.PLOTLYENV || {};                                    if (document.getElementById(\"cca747ee-b851-4d3d-be35-1c17d23e254d\")) {                    Plotly.newPlot(                        \"cca747ee-b851-4d3d-be35-1c17d23e254d\",                        [{\"alignmentgroup\":\"True\",\"bingroup\":\"x\",\"hovertemplate\":\"Released_Year=%{x}\\u003cbr\\u003ecount=%{y}\\u003cextra\\u003e\\u003c\\u002fextra\\u003e\",\"legendgroup\":\"\",\"marker\":{\"color\":\"#636efa\",\"pattern\":{\"shape\":\"\"}},\"name\":\"\",\"nbinsx\":90,\"offsetgroup\":\"\",\"orientation\":\"v\",\"showlegend\":false,\"x\":[1994,1972,2008,1974,1957,2003,1994,1993,1999,2001,1994,2002,1990,1975,2019,2014,2002,1998,1999,1997,1995,1991,1954,2019,2014,2011,2006,2006,2002,2000,1998,1994,1994,1988,1942,1936,1931,2018,2016,2019,2012,2009,2006,2003,1980,1979,2019,2012,2011,2010,2009,2004,2000,1999,1997,1997,1995,1992,1987,1984,1983,1981,1976,1973,1971,1962,1960,1944,1941,2018,2017,2009,2011,2013,2007,2007,2006,2005,2004,2001,1997,1995,1995,1992,1985,1980,1963,1950,1948,2019,2016,2014,2017,2015,2014,2014,2016,2013,2013,2019,2015,2014,2013,2008,2011,2008,2007,2007,2004,2004,2004,2004,2003,2003,2002,2000,2001,1999,1998,1998,2000,1996,1996,1995,1994,1994,1993,1989,1986,1986,1984,1982,1982,1978,1976,1974,1973,1967,1962,1959,1957,1954,1951,1940,1939,1939,2016,2016,2015,2013,2017,2019,2013,2014,2017,2013,2018,2015,2012,2010,2011,2009,2010,2008,2010,2007,2007,2013,2006,2006,2004,2007,2003,2014,2005,2003,2002,2003,2003,2001,1999,2000,1999,1998,1998,1996,1996,1993,1992,1991,1990,1989,1988,1987,1987,1982,1979,1975,1973,1971,1971,1970,1969,1967,1965,1965,1964,1961,1960,1959,1958,1958,1951,1946,1940,1930,2019,2018,2019,2017,2016,2016,2016,2016,2014,2019,2016,2013,2011,2012,2019,2009,2009,2008,2008,2014,2008,2006,2006,2012,2004,2003,2002,2001,2000,2006,2000,2001,1997,1994,1993,1993,1993,1990,1989,1989,1987,1986,1985,1979,1979,1976,1973,1970,1967,1960,1952,1946,2016,2017,2016,2016,2015,2015,2019,2013,2013,2013,2013,2013,2012,2015,2011,2015,2009,2009,2009,2010,2008,2007,2007,2011,2007,2009,2006,2006,2008,2004,2005,2005,2005,2005,2004,2004,2002,2003,2002,2001,2000,1999,2000,1999,1999,1997,1997,1997,1996,1994,1993,1993,1993,1993,1993,1993,1991,1991,1991,1990,1990,1989,1988,1986,1985,1985,1984,1983,1982,1979,1974,1973,1972,1969,1964,1962,2017,2015,2014,2014,2014,2015,2014,2013,2013,2013,2015,2013,2010,2012,2012,2009,2008,2006,2008,2010,2014,2006,2006,2007,2006,2005,2007,2006,2005,2007,2004,2004,2004,2003,2004,2009,2003,2002,2003,2002,2001,2002,2001,2002,2001,2000,2001,2001,1998,1999,1997,1997,1996,1996,1995,1994,1993,1993,1992,1992,1992,1992,1992,1991,1991,1990,1987,1987,1987,1986,1986,1985,1982,1980,1976,1973,1973,1972,1971,1966,1963,1951,2018,2019,2017,2017,2017,2019,2015,2017,2017,2015,2015,2015,2014,2016,2013,2014,2012,2018,2010,2010,2011,2011,2011,2009,2007,2008,2007,2006,2007,2007,2006,2006,2006,2005,2009,2005,2008,2004,2003,2004,2003,2003,2002,2004,2002,2004,2002,2001,2001,2001,2001,1999,2000,1998,1998,1998,1996,1995,1995,1995,1994,1993,1991,1990,1989,1987,1984,1981,1978,1977,1973,1971,1953],\"xaxis\":\"x\",\"yaxis\":\"y\",\"type\":\"histogram\"},{\"alignmentgroup\":\"True\",\"bingroup\":\"x\",\"hovertemplate\":\"Released_Year=%{x}\\u003cbr\\u003ecount=%{y}\\u003cextra\\u003e\\u003c\\u002fextra\\u003e\",\"legendgroup\":\"\",\"marker\":{\"color\":\"#636efa\",\"pattern\":{\"shape\":\"\"}},\"name\":\"\",\"nbinsx\":90,\"offsetgroup\":\"\",\"orientation\":\"v\",\"showlegend\":false,\"x\":[2008,2003,2010,2001,2002,1999,1980,1977,1954,2000,1994,1991,2018,2019,2018,2012,2003,1997,1981,1986,1983,2011,2005,2005,1998,1989,1988,1985,2017,2013,2019,2015,2010,2004,2003,1993,1982,2014,2014,2017,2015,2016,2007,2012,2007,2006,2004,2002,2003,2004,1999,1995,1984,1964,1959,2017,2015,2014,2014,2009,2009,2006,2008,2002,2001,2002,1980,1978,1969,1938,2017,2016,2016,2016,2014,2014,2008,2009,2006,2007,2005,2002,2000,1999,1997,1993,1993,1987,1987,1984,1962,2018,2018,2014,2014,2014,2013,2011,2012,2006,2007,2004,2004,2004,2003,2000,1997,1992,1987,1982,1982,1973,1971,1971,1964,1960,2017,2017,2017,2018,2015,2016,2014,2011,2012,2010,2009,2007,2006,2009,2006,2009,2005,2002,1995,1993,1987,1981,1979,1979],\"xaxis\":\"x2\",\"yaxis\":\"y2\",\"type\":\"histogram\"},{\"alignmentgroup\":\"True\",\"bingroup\":\"x\",\"hovertemplate\":\"Released_Year=%{x}\\u003cbr\\u003ecount=%{y}\\u003cextra\\u003e\\u003c\\u002fextra\\u003e\",\"legendgroup\":\"\",\"marker\":{\"color\":\"#636efa\",\"pattern\":{\"shape\":\"\"}},\"name\":\"\",\"nbinsx\":90,\"offsetgroup\":\"\",\"orientation\":\"v\",\"showlegend\":false,\"x\":[1972,2008,1974,1957,1994,1990,2002,1999,1995,1991,2019,2006,1995,1994,2000,1992,1983,1976,1973,1971,1944,2017,2013,1998,1997,1995,1995,1954,2014,2015,2013,2007,2003,2003,2002,1998,1998,1996,1994,1993,1973,1967,1954,2014,2007,2004,2005,2004,2002,2003,2000,1995,1993,1975,1973,1969,1958,2019,2018,2014,2019,2009,2008,2008,2003,2001,2000,1994,1993,1993,1987,1967,1951,2015,2017,2013,2011,2013,2009,2009,2011,2007,2005,2002,1999,1993,1993,1991,1988,1986,1982,1973,2017,2008,2007,2006,2007,2004,2004,2002,2001,2000,2001,1997,1996,1992,1990,1986,1985,1973,1973,1971,1971,2017,2015,2014,2016,2012,2010,2010,2007,2006,2007,2005,2003,2002,2001,2002,2000,1998,1996,1993,1992,1991,1990,1988,1987,1984,1979,1979,1978,1973],\"xaxis\":\"x3\",\"yaxis\":\"y3\",\"type\":\"histogram\"},{\"alignmentgroup\":\"True\",\"bingroup\":\"x\",\"hovertemplate\":\"Released_Year=%{x}\\u003cbr\\u003ecount=%{y}\\u003cextra\\u003e\\u003c\\u002fextra\\u003e\",\"legendgroup\":\"\",\"marker\":{\"color\":\"#636efa\",\"pattern\":{\"shape\":\"\"}},\"name\":\"\",\"nbinsx\":90,\"offsetgroup\":\"\",\"orientation\":\"v\",\"showlegend\":false,\"x\":[1960,1980,1979,1982,1962,1973,2004,1978,1933,1961,2017,2014,1978,1963,2011,2004,2002,2001],\"xaxis\":\"x4\",\"yaxis\":\"y4\",\"type\":\"histogram\"}],                        {\"template\":{\"data\":{\"histogram2dcontour\":[{\"type\":\"histogram2dcontour\",\"colorbar\":{\"outlinewidth\":0,\"ticks\":\"\"},\"colorscale\":[[0.0,\"#0d0887\"],[0.1111111111111111,\"#46039f\"],[0.2222222222222222,\"#7201a8\"],[0.3333333333333333,\"#9c179e\"],[0.4444444444444444,\"#bd3786\"],[0.5555555555555556,\"#d8576b\"],[0.6666666666666666,\"#ed7953\"],[0.7777777777777778,\"#fb9f3a\"],[0.8888888888888888,\"#fdca26\"],[1.0,\"#f0f921\"]]}],\"choropleth\":[{\"type\":\"choropleth\",\"colorbar\":{\"outlinewidth\":0,\"ticks\":\"\"}}],\"histogram2d\":[{\"type\":\"histogram2d\",\"colorbar\":{\"outlinewidth\":0,\"ticks\":\"\"},\"colorscale\":[[0.0,\"#0d0887\"],[0.1111111111111111,\"#46039f\"],[0.2222222222222222,\"#7201a8\"],[0.3333333333333333,\"#9c179e\"],[0.4444444444444444,\"#bd3786\"],[0.5555555555555556,\"#d8576b\"],[0.6666666666666666,\"#ed7953\"],[0.7777777777777778,\"#fb9f3a\"],[0.8888888888888888,\"#fdca26\"],[1.0,\"#f0f921\"]]}],\"heatmap\":[{\"type\":\"heatmap\",\"colorbar\":{\"outlinewidth\":0,\"ticks\":\"\"},\"colorscale\":[[0.0,\"#0d0887\"],[0.1111111111111111,\"#46039f\"],[0.2222222222222222,\"#7201a8\"],[0.3333333333333333,\"#9c179e\"],[0.4444444444444444,\"#bd3786\"],[0.5555555555555556,\"#d8576b\"],[0.6666666666666666,\"#ed7953\"],[0.7777777777777778,\"#fb9f3a\"],[0.8888888888888888,\"#fdca26\"],[1.0,\"#f0f921\"]]}],\"heatmapgl\":[{\"type\":\"heatmapgl\",\"colorbar\":{\"outlinewidth\":0,\"ticks\":\"\"},\"colorscale\":[[0.0,\"#0d0887\"],[0.1111111111111111,\"#46039f\"],[0.2222222222222222,\"#7201a8\"],[0.3333333333333333,\"#9c179e\"],[0.4444444444444444,\"#bd3786\"],[0.5555555555555556,\"#d8576b\"],[0.6666666666666666,\"#ed7953\"],[0.7777777777777778,\"#fb9f3a\"],[0.8888888888888888,\"#fdca26\"],[1.0,\"#f0f921\"]]}],\"contourcarpet\":[{\"type\":\"contourcarpet\",\"colorbar\":{\"outlinewidth\":0,\"ticks\":\"\"}}],\"contour\":[{\"type\":\"contour\",\"colorbar\":{\"outlinewidth\":0,\"ticks\":\"\"},\"colorscale\":[[0.0,\"#0d0887\"],[0.1111111111111111,\"#46039f\"],[0.2222222222222222,\"#7201a8\"],[0.3333333333333333,\"#9c179e\"],[0.4444444444444444,\"#bd3786\"],[0.5555555555555556,\"#d8576b\"],[0.6666666666666666,\"#ed7953\"],[0.7777777777777778,\"#fb9f3a\"],[0.8888888888888888,\"#fdca26\"],[1.0,\"#f0f921\"]]}],\"surface\":[{\"type\":\"surface\",\"colorbar\":{\"outlinewidth\":0,\"ticks\":\"\"},\"colorscale\":[[0.0,\"#0d0887\"],[0.1111111111111111,\"#46039f\"],[0.2222222222222222,\"#7201a8\"],[0.3333333333333333,\"#9c179e\"],[0.4444444444444444,\"#bd3786\"],[0.5555555555555556,\"#d8576b\"],[0.6666666666666666,\"#ed7953\"],[0.7777777777777778,\"#fb9f3a\"],[0.8888888888888888,\"#fdca26\"],[1.0,\"#f0f921\"]]}],\"mesh3d\":[{\"type\":\"mesh3d\",\"colorbar\":{\"outlinewidth\":0,\"ticks\":\"\"}}],\"scatter\":[{\"fillpattern\":{\"fillmode\":\"overlay\",\"size\":10,\"solidity\":0.2},\"type\":\"scatter\"}],\"parcoords\":[{\"type\":\"parcoords\",\"line\":{\"colorbar\":{\"outlinewidth\":0,\"ticks\":\"\"}}}],\"scatterpolargl\":[{\"type\":\"scatterpolargl\",\"marker\":{\"colorbar\":{\"outlinewidth\":0,\"ticks\":\"\"}}}],\"bar\":[{\"error_x\":{\"color\":\"#2a3f5f\"},\"error_y\":{\"color\":\"#2a3f5f\"},\"marker\":{\"line\":{\"color\":\"#E5ECF6\",\"width\":0.5},\"pattern\":{\"fillmode\":\"overlay\",\"size\":10,\"solidity\":0.2}},\"type\":\"bar\"}],\"scattergeo\":[{\"type\":\"scattergeo\",\"marker\":{\"colorbar\":{\"outlinewidth\":0,\"ticks\":\"\"}}}],\"scatterpolar\":[{\"type\":\"scatterpolar\",\"marker\":{\"colorbar\":{\"outlinewidth\":0,\"ticks\":\"\"}}}],\"histogram\":[{\"marker\":{\"pattern\":{\"fillmode\":\"overlay\",\"size\":10,\"solidity\":0.2}},\"type\":\"histogram\"}],\"scattergl\":[{\"type\":\"scattergl\",\"marker\":{\"colorbar\":{\"outlinewidth\":0,\"ticks\":\"\"}}}],\"scatter3d\":[{\"type\":\"scatter3d\",\"line\":{\"colorbar\":{\"outlinewidth\":0,\"ticks\":\"\"}},\"marker\":{\"colorbar\":{\"outlinewidth\":0,\"ticks\":\"\"}}}],\"scattermapbox\":[{\"type\":\"scattermapbox\",\"marker\":{\"colorbar\":{\"outlinewidth\":0,\"ticks\":\"\"}}}],\"scatterternary\":[{\"type\":\"scatterternary\",\"marker\":{\"colorbar\":{\"outlinewidth\":0,\"ticks\":\"\"}}}],\"scattercarpet\":[{\"type\":\"scattercarpet\",\"marker\":{\"colorbar\":{\"outlinewidth\":0,\"ticks\":\"\"}}}],\"carpet\":[{\"aaxis\":{\"endlinecolor\":\"#2a3f5f\",\"gridcolor\":\"white\",\"linecolor\":\"white\",\"minorgridcolor\":\"white\",\"startlinecolor\":\"#2a3f5f\"},\"baxis\":{\"endlinecolor\":\"#2a3f5f\",\"gridcolor\":\"white\",\"linecolor\":\"white\",\"minorgridcolor\":\"white\",\"startlinecolor\":\"#2a3f5f\"},\"type\":\"carpet\"}],\"table\":[{\"cells\":{\"fill\":{\"color\":\"#EBF0F8\"},\"line\":{\"color\":\"white\"}},\"header\":{\"fill\":{\"color\":\"#C8D4E3\"},\"line\":{\"color\":\"white\"}},\"type\":\"table\"}],\"barpolar\":[{\"marker\":{\"line\":{\"color\":\"#E5ECF6\",\"width\":0.5},\"pattern\":{\"fillmode\":\"overlay\",\"size\":10,\"solidity\":0.2}},\"type\":\"barpolar\"}],\"pie\":[{\"automargin\":true,\"type\":\"pie\"}]},\"layout\":{\"autotypenumbers\":\"strict\",\"colorway\":[\"#636efa\",\"#EF553B\",\"#00cc96\",\"#ab63fa\",\"#FFA15A\",\"#19d3f3\",\"#FF6692\",\"#B6E880\",\"#FF97FF\",\"#FECB52\"],\"font\":{\"color\":\"#2a3f5f\"},\"hovermode\":\"closest\",\"hoverlabel\":{\"align\":\"left\"},\"paper_bgcolor\":\"white\",\"plot_bgcolor\":\"#E5ECF6\",\"polar\":{\"bgcolor\":\"#E5ECF6\",\"angularaxis\":{\"gridcolor\":\"white\",\"linecolor\":\"white\",\"ticks\":\"\"},\"radialaxis\":{\"gridcolor\":\"white\",\"linecolor\":\"white\",\"ticks\":\"\"}},\"ternary\":{\"bgcolor\":\"#E5ECF6\",\"aaxis\":{\"gridcolor\":\"white\",\"linecolor\":\"white\",\"ticks\":\"\"},\"baxis\":{\"gridcolor\":\"white\",\"linecolor\":\"white\",\"ticks\":\"\"},\"caxis\":{\"gridcolor\":\"white\",\"linecolor\":\"white\",\"ticks\":\"\"}},\"coloraxis\":{\"colorbar\":{\"outlinewidth\":0,\"ticks\":\"\"}},\"colorscale\":{\"sequential\":[[0.0,\"#0d0887\"],[0.1111111111111111,\"#46039f\"],[0.2222222222222222,\"#7201a8\"],[0.3333333333333333,\"#9c179e\"],[0.4444444444444444,\"#bd3786\"],[0.5555555555555556,\"#d8576b\"],[0.6666666666666666,\"#ed7953\"],[0.7777777777777778,\"#fb9f3a\"],[0.8888888888888888,\"#fdca26\"],[1.0,\"#f0f921\"]],\"sequentialminus\":[[0.0,\"#0d0887\"],[0.1111111111111111,\"#46039f\"],[0.2222222222222222,\"#7201a8\"],[0.3333333333333333,\"#9c179e\"],[0.4444444444444444,\"#bd3786\"],[0.5555555555555556,\"#d8576b\"],[0.6666666666666666,\"#ed7953\"],[0.7777777777777778,\"#fb9f3a\"],[0.8888888888888888,\"#fdca26\"],[1.0,\"#f0f921\"]],\"diverging\":[[0,\"#8e0152\"],[0.1,\"#c51b7d\"],[0.2,\"#de77ae\"],[0.3,\"#f1b6da\"],[0.4,\"#fde0ef\"],[0.5,\"#f7f7f7\"],[0.6,\"#e6f5d0\"],[0.7,\"#b8e186\"],[0.8,\"#7fbc41\"],[0.9,\"#4d9221\"],[1,\"#276419\"]]},\"xaxis\":{\"gridcolor\":\"white\",\"linecolor\":\"white\",\"ticks\":\"\",\"title\":{\"standoff\":15},\"zerolinecolor\":\"white\",\"automargin\":true,\"zerolinewidth\":2},\"yaxis\":{\"gridcolor\":\"white\",\"linecolor\":\"white\",\"ticks\":\"\",\"title\":{\"standoff\":15},\"zerolinecolor\":\"white\",\"automargin\":true,\"zerolinewidth\":2},\"scene\":{\"xaxis\":{\"backgroundcolor\":\"#E5ECF6\",\"gridcolor\":\"white\",\"linecolor\":\"white\",\"showbackground\":true,\"ticks\":\"\",\"zerolinecolor\":\"white\",\"gridwidth\":2},\"yaxis\":{\"backgroundcolor\":\"#E5ECF6\",\"gridcolor\":\"white\",\"linecolor\":\"white\",\"showbackground\":true,\"ticks\":\"\",\"zerolinecolor\":\"white\",\"gridwidth\":2},\"zaxis\":{\"backgroundcolor\":\"#E5ECF6\",\"gridcolor\":\"white\",\"linecolor\":\"white\",\"showbackground\":true,\"ticks\":\"\",\"zerolinecolor\":\"white\",\"gridwidth\":2}},\"shapedefaults\":{\"line\":{\"color\":\"#2a3f5f\"}},\"annotationdefaults\":{\"arrowcolor\":\"#2a3f5f\",\"arrowhead\":0,\"arrowwidth\":1},\"geo\":{\"bgcolor\":\"white\",\"landcolor\":\"#E5ECF6\",\"subunitcolor\":\"white\",\"showland\":true,\"showlakes\":true,\"lakecolor\":\"white\"},\"title\":{\"x\":0.05},\"mapbox\":{\"style\":\"light\"}}},\"xaxis\":{\"anchor\":\"y\",\"domain\":[0.0,1.0],\"range\":[1930,2019]},\"yaxis\":{\"anchor\":\"x\",\"domain\":[0.84375,1.0],\"range\":[0,20]},\"xaxis2\":{\"anchor\":\"y2\",\"domain\":[0.0,1.0],\"range\":[1930,2019]},\"yaxis2\":{\"anchor\":\"x2\",\"domain\":[0.5625,0.71875],\"range\":[0,20]},\"xaxis3\":{\"anchor\":\"y3\",\"domain\":[0.0,1.0],\"range\":[1930,2019]},\"yaxis3\":{\"anchor\":\"x3\",\"domain\":[0.28125,0.4375],\"range\":[0,20]},\"xaxis4\":{\"anchor\":\"y4\",\"domain\":[0.0,1.0],\"range\":[1930,2019]},\"yaxis4\":{\"anchor\":\"x4\",\"domain\":[0.0,0.15625],\"range\":[0,20]},\"annotations\":[{\"font\":{\"size\":16},\"showarrow\":false,\"text\":\"drama\",\"x\":0.5,\"xanchor\":\"center\",\"xref\":\"paper\",\"y\":1.0,\"yanchor\":\"bottom\",\"yref\":\"paper\"},{\"font\":{\"size\":16},\"showarrow\":false,\"text\":\"action\",\"x\":0.5,\"xanchor\":\"center\",\"xref\":\"paper\",\"y\":0.71875,\"yanchor\":\"bottom\",\"yref\":\"paper\"},{\"font\":{\"size\":16},\"showarrow\":false,\"text\":\"crime\",\"x\":0.5,\"xanchor\":\"center\",\"xref\":\"paper\",\"y\":0.4375,\"yanchor\":\"bottom\",\"yref\":\"paper\"},{\"font\":{\"size\":16},\"showarrow\":false,\"text\":\"horror\",\"x\":0.5,\"xanchor\":\"center\",\"xref\":\"paper\",\"y\":0.15625,\"yanchor\":\"bottom\",\"yref\":\"paper\"}],\"title\":{\"text\":\"Count of movies in genre\"}},                        {\"responsive\": true}                    ).then(function(){\n",
              "                            \n",
              "var gd = document.getElementById('cca747ee-b851-4d3d-be35-1c17d23e254d');\n",
              "var x = new MutationObserver(function (mutations, observer) {{\n",
              "        var display = window.getComputedStyle(gd).display;\n",
              "        if (!display || display === 'none') {{\n",
              "            console.log([gd, 'removed!']);\n",
              "            Plotly.purge(gd);\n",
              "            observer.disconnect();\n",
              "        }}\n",
              "}});\n",
              "\n",
              "// Listen for the removal of the full notebook cells\n",
              "var notebookContainer = gd.closest('#notebook-container');\n",
              "if (notebookContainer) {{\n",
              "    x.observe(notebookContainer, {childList: true});\n",
              "}}\n",
              "\n",
              "// Listen for the clearing of the current output cell\n",
              "var outputEl = gd.closest('.output');\n",
              "if (outputEl) {{\n",
              "    x.observe(outputEl, {childList: true});\n",
              "}}\n",
              "\n",
              "                        })                };                            </script>        </div>\n",
              "</body>\n",
              "</html>"
            ]
          },
          "metadata": {}
        }
      ]
    },
    {
      "cell_type": "code",
      "source": [
        "fig = subplots.make_subplots(rows=len(genres),cols=1, subplot_titles=genres)\n",
        "\n",
        "for i,g in enumerate(genres):\n",
        "  fig_s = px.histogram(get_genre_subset(df, g), 'Released_Year', y=\"Indexed_Gross\", nbins=year_cnt)\n",
        "  for d in fig_s['data']:\n",
        "    fig.add_trace(d, row = i + 1, col = 1)\n",
        "  fig.update_yaxes(range=[0,5_000_000_000],row=i+1,col=1)\n",
        "  fig.update_xaxes(range=[df.Released_Year.min(),df.Released_Year.max()])\n",
        "\n",
        "\n",
        "fig.update_layout(title_text = 'Gross of movies in genre')\n",
        "\n",
        "fig.show()"
      ],
      "metadata": {
        "colab": {
          "base_uri": "https://localhost:8080/",
          "height": 542
        },
        "id": "-D4MoELxy0lD",
        "outputId": "c81f53cd-7cc5-4e4a-e235-ebf00f2f40ad"
      },
      "execution_count": null,
      "outputs": [
        {
          "output_type": "display_data",
          "data": {
            "text/html": [
              "<html>\n",
              "<head><meta charset=\"utf-8\" /></head>\n",
              "<body>\n",
              "    <div>            <script src=\"https://cdnjs.cloudflare.com/ajax/libs/mathjax/2.7.5/MathJax.js?config=TeX-AMS-MML_SVG\"></script><script type=\"text/javascript\">if (window.MathJax && window.MathJax.Hub && window.MathJax.Hub.Config) {window.MathJax.Hub.Config({SVG: {font: \"STIX-Web\"}});}</script>                <script type=\"text/javascript\">window.PlotlyConfig = {MathJaxConfig: 'local'};</script>\n",
              "        <script charset=\"utf-8\" src=\"https://cdn.plot.ly/plotly-2.24.1.min.js\"></script>                <div id=\"dbd6103e-0bea-4223-bf4e-f58b9d2a5d0e\" class=\"plotly-graph-div\" style=\"height:525px; width:100%;\"></div>            <script type=\"text/javascript\">                                    window.PLOTLYENV=window.PLOTLYENV || {};                                    if (document.getElementById(\"dbd6103e-0bea-4223-bf4e-f58b9d2a5d0e\")) {                    Plotly.newPlot(                        \"dbd6103e-0bea-4223-bf4e-f58b9d2a5d0e\",                        [{\"alignmentgroup\":\"True\",\"bingroup\":\"x\",\"histfunc\":\"sum\",\"hovertemplate\":\"Released_Year=%{x}\\u003cbr\\u003esum of Indexed_Gross=%{y}\\u003cextra\\u003e\\u003c\\u002fextra\\u003e\",\"legendgroup\":\"\",\"marker\":{\"color\":\"#636efa\",\"pattern\":{\"shape\":\"\"}},\"name\":\"\",\"nbinsx\":90,\"offsetgroup\":\"\",\"orientation\":\"v\",\"showlegend\":false,\"x\":[1994,1972,2008,1974,1957,2003,1994,1993,1999,2001,1994,2002,1990,1975,2019,2014,2002,1998,1999,1997,1995,1991,1954,2019,2014,2011,2006,2006,2002,2000,1998,1994,1994,1988,1942,1936,1931,2018,2016,2019,2012,2009,2006,2003,1980,1979,2019,2012,2011,2010,2009,2004,2000,1999,1997,1997,1995,1992,1987,1984,1983,1981,1976,1973,1971,1962,1960,1944,1941,2018,2017,2009,2011,2013,2007,2007,2006,2005,2004,2001,1997,1995,1995,1992,1985,1980,1963,1950,1948,2019,2016,2014,2017,2015,2014,2014,2016,2013,2013,2019,2015,2014,2013,2008,2011,2008,2007,2007,2004,2004,2004,2004,2003,2003,2002,2000,2001,1999,1998,1998,2000,1996,1996,1995,1994,1994,1993,1989,1986,1986,1984,1982,1982,1978,1976,1974,1973,1967,1962,1959,1957,1954,1951,1940,1939,1939,2016,2016,2015,2013,2017,2019,2013,2014,2017,2013,2018,2015,2012,2010,2011,2009,2010,2008,2010,2007,2007,2013,2006,2006,2004,2007,2003,2014,2005,2003,2002,2003,2003,2001,1999,2000,1999,1998,1998,1996,1996,1993,1992,1991,1990,1989,1988,1987,1987,1982,1979,1975,1973,1971,1971,1970,1969,1967,1965,1965,1964,1961,1960,1959,1958,1958,1951,1946,1940,1930,2019,2018,2019,2017,2016,2016,2016,2016,2014,2019,2016,2013,2011,2012,2019,2009,2009,2008,2008,2014,2008,2006,2006,2012,2004,2003,2002,2001,2000,2006,2000,2001,1997,1994,1993,1993,1993,1990,1989,1989,1987,1986,1985,1979,1979,1976,1973,1970,1967,1960,1952,1946,2016,2017,2016,2016,2015,2015,2019,2013,2013,2013,2013,2013,2012,2015,2011,2015,2009,2009,2009,2010,2008,2007,2007,2011,2007,2009,2006,2006,2008,2004,2005,2005,2005,2005,2004,2004,2002,2003,2002,2001,2000,1999,2000,1999,1999,1997,1997,1997,1996,1994,1993,1993,1993,1993,1993,1993,1991,1991,1991,1990,1990,1989,1988,1986,1985,1985,1984,1983,1982,1979,1974,1973,1972,1969,1964,1962,2017,2015,2014,2014,2014,2015,2014,2013,2013,2013,2015,2013,2010,2012,2012,2009,2008,2006,2008,2010,2014,2006,2006,2007,2006,2005,2007,2006,2005,2007,2004,2004,2004,2003,2004,2009,2003,2002,2003,2002,2001,2002,2001,2002,2001,2000,2001,2001,1998,1999,1997,1997,1996,1996,1995,1994,1993,1993,1992,1992,1992,1992,1992,1991,1991,1990,1987,1987,1987,1986,1986,1985,1982,1980,1976,1973,1973,1972,1971,1966,1963,1951,2018,2019,2017,2017,2017,2019,2015,2017,2017,2015,2015,2015,2014,2016,2013,2014,2012,2018,2010,2010,2011,2011,2011,2009,2007,2008,2007,2006,2007,2007,2006,2006,2006,2005,2009,2005,2008,2004,2003,2004,2003,2003,2002,2004,2002,2004,2002,2001,2001,2001,2001,1999,2000,1998,1998,1998,1996,1995,1995,1995,1994,1993,1991,1990,1989,1987,1984,1981,1978,1977,1973,1971,1953],\"xaxis\":\"x\",\"y\":[53311890.048157826,900331490.6625514,692634741.5410426,323917349.6076722,43292863.70597243,572552663.7111475,203020044.3307224,186991647.59285715,61978105.67062468,496720601.8451081,621222845.3983175,530856369.66061187,99897098.25526316,580501998.401279,58196619.6596031,221457182.60272482,11721096.115678776,370364350.81930894,228967503.61796594,100044745.12402894,183186983.4119639,267678277.94379538,2786887.418530352,365803279.6037672,15420259.40054496,16339879.56490155,73428936.2721843,183101514.17662117,50478152.31070746,303890633.87465674,11493431.331047218,36682920.56628953,795279956.5036265,28260908.790985096,17528356.3060686,3277029.6594427247,352321.8243626063,1843324.7413999657,5827986.933715514,936039443.6596031,197720628.21801838,8490554.31389056,15609886.989761092,1072051.134377191,148960674.85177454,320633458.1303318,173634719.76051128,834558.4454017606,8798818.98833875,8767779.622165253,156661860.49228305,50774311.7878443,5885759.123096131,217745575.8606092,240450681.09831238,1622186.3305652293,138315575.6207675,5627605.282255593,113771071.60635883,139483907.29966888,127661398.65630397,35234669.434247866,138514383.83673468,1001787415.2952566,42729181.42250531,414016737.4586895,175294186.04651165,90680880.19559903,30062137.005847957,94413799.20657197,62011770.20350878,8306688.920424935,16928452.23857771,139901088.94352162,1497345.467440896,54086018.410618,52052654.36433447,100659082.109203,8131257.764625542,268777212.6836611,112235799.34637022,123380453.69977428,77643887.47178331,201012836.76003677,10717906.8745004,79134536.38204592,110191573.03370787,117835.12142857144,58054957.14285715,4100049.3333333335,2331066.533858832,4113899.534241599,257400089.28280705,17265972.10014514,3659628.49191644,197602625.51789284,78070072.31458259,67822296.53229974,32249611.298634186,128266767.16313489,53001025.32365748,1010024.6350590372,73004600.6216316,191781493.54264033,472276188.8732556,1940162.5004993011,24680556.678556617,99886981.43923683,148324936.0919645,34731232.35328933,1639908.8376963353,8591187.825176418,21412.80766534237,106221595.64851601,255106581.23422563,8716299.539575532,110423.19689244963,491248011.7005679,443202.18095489324,214853182.61250332,4426352.3835206,29322437.363661278,43733638.229651965,10127417.048532732,7606399.774876705,1129009.8056280825,48264136.440476194,215519068.01109573,133005724.74539037,352386105.712044,5855961.799668875,64274259.44206774,14364602.74509804,209486782.81794193,574567907.4436886,163937227.55013078,194166882.48983544,135335958.985843,37407692.30769231,715442836.0413591,445916496.17151606,99435143.76996806,42546754.06942149,86718527.60736197,192713312.69349846,3988291517.510836,175518468.40773916,60100122.81977786,268716232.01959366,1803474.6954595794,150636753.25543863,6070199.538513286,1209214.5396825399,107331322.17475024,104715643.32561405,30598844.496862315,240171046.43641967,216021063.9869376,21542777.276643567,177472423.45020705,210358898.52953547,138624.25496091403,5138477.298363242,183007472.1693629,136756878.7521199,10838.042306097055,5978075.882206554,32669265.4005168,226229718.46331057,79343609.81399317,352032.64010926476,8054675.715470759,3607625.4713718165,2457377.1080835606,88009252.07485689,2708426.957700398,262922.79063097516,100399719.7868661,2319005.10025707,2329778.806506434,37585066.69695406,6773855.037203496,10382172.766133197,2818307.971511475,9570233.487734107,43490983.10331598,23841524.069060016,8677334.575,126968775.90806006,144145642.2582886,392898082.3789474,61929495.624133155,421424645.5834242,8182231.262679788,11149007.305071916,152471921.6916221,115918827.79857822,259152677.85771382,334349688.2865441,200529057.32484078,554099787.685775,3895719.4678492243,777691484.4970692,875759791.0167311,1443767299.350614,988274826.7394271,130399445.21497922,77285548.20143884,183926953.48837212,120054564.25406206,21590745.4702381,169532709.54761907,85738842.97520663,338513465.78366446,1093926.3803680982,54646082.47422681,180321665.90716448,3677018.362485025,2180961.991254625,20584653.558596496,299885.5807954138,6043271.531350771,6824353.082049445,3760206.576854174,38139839.693369664,381183.0844265052,116793472.81906128,9711192.592838686,55372048.57350411,8184841.005431729,7633366.969391188,2709317.760673482,6510873.054319504,2748046.6267225887,33976060.2859996,29893507.338782925,10045382.648292392,19026116.827645052,3153962.5494880546,151791694.53680465,5365445.794673344,136582514.24258006,14387947.958891014,1668350.988103909,1977192.5902621725,49172707.20392492,52673150.411985025,11365879.002670553,45856348.71684972,4140441.248621991,23700370.833333332,2556884.35,71301464.24047619,120214963.93684211,33147069.085991684,41041431.264909856,187183052.1332324,101963484.4425265,25731619.240607515,175544312.79620856,145289523.21327016,346009372.63794404,382894.95062923525,443528603.10421294,203448876.90090093,282732558.1395349,99470454.54545455,149776105.9602649,2790218.9946255824,214282732.61824563,197014268.88355428,55402213.916159086,512021.9056603774,63660617.805515245,117882319.47124118,1592392.850498339,5064054.263565892,18337729.746031746,6234573.038021411,102242.07678110004,55273052.92077168,82649672.91001453,127071764.82737526,189623809.49564588,711293.1104429746,2888683.733814392,13120281.0743636,119702758.10609348,11694485.161573797,12693583.727084197,68480112.49025302,43459973.737335116,175028527.2044795,4678.773301262779,70353937.99914676,82835725.13481228,165122921.86618736,4312440.061916686,1862.9722589167768,54825757.50594452,7320730.078379569,170621709.06384853,119557383.7714546,24732145.69724562,281513.1500956023,10610568.221547091,84047241.39770554,4552512.581694586,187242298.4978777,13832527.754259164,378244896.06192267,48479694.72070212,54365553.25245225,1145209150.1301904,21433211.993570857,83935315.73319048,7180005.602630858,11074636.259936178,17696329.635714285,109041321.86309524,62556292.745238096,44297622.77142857,354836436.85714287,33321142.846428573,4127095.6867698133,4094634.739501105,117731728.2589201,130697117.77894738,111116297.33552632,60320984.743411936,81560147.73246092,3652814.4370341315,255182103.79376498,118886734.11830536,93127767.7334437,60192573.402417965,7223707.664884136,408169336.492891,24986294.681778554,100782921.02613747,285275987.65432096,340429406.39155924,647500693.4812762,361145868.945869,38449959.60631579,3950767.545718433,901195.9069936422,42276783.63451408,147079440.0363306,7932990.4905660385,49870379.18837421,2632464.5071982285,1343385.9483204135,21128543.633813217,1575301.4455732948,328020874.71760803,123980695.70025636,160421565.77486423,165197482.94661924,42097748.85067148,24077895.64689435,1218933.9095563139,46282579.62212902,2240456.6310392427,29967691.130245235,570592.0,24350768.499146756,44481805.19618416,31112255.483788397,1505168.8075737562,1171983.6723351306,6083441.494880546,118550362.46675473,72083625.7453339,80559677.94218075,1598070.580468928,111188275.5292511,67560663.06426737,114996572.41429548,97846443.94387653,168366667.04837582,7579458.1625239,6158511.988782426,24081405.531548757,63457647.09104152,34474704.28393882,171015688.90021852,161874922.7552581,222071.0968681719,35609809.06167291,4768283.856275796,120631533.13619812,29256196.25323134,38259493.0779556,257897514.95419237,72794775.46423788,63634372.254316255,99714258.85776925,18331034.590293456,41099064.42935887,11792734.475,149217723.88333333,54211857.61201348,95719792.66687098,150039831.53662273,21312405.25651241,280861083.09898865,168740625.35017365,12599349.692453425,10835977.617105264,3791468.688872067,107946157.1990916,54578238.02573808,18196629.93644567,21752123.32365634,27470183.852917667,156032085.56149733,185450521.92066807,9433082.972033259,187050532.4298161,156921587.60890612,47069123.75720164,107589727.85562634,244118725.09960157,103848991.62359552,5745767.127272728,28875557.96474414,155396516.7090481,644254.7901754387,6716475.288421053,28212466.422456145,14309991.713420788,994555.2568940495,122656647.2294737,20862612.400701758,85065744.00145139,55157869.34179971,129124273.44049348,1287141.7257039056,31203175.528484415,45126771.87080104,245632988.02470484,49796939.045514144,238906898.36453876,218958715.12916586,1288997.7187931375,43401265.70980692,93715543.89753394,3948920.8579621487,332660099.3986771,12670050.652841145,90586703.97763133,23013872.85109913,122423528.4940273,27297099.44255496,13852397.698880134,34071054.8890785,55142550.06996587,291302744.1288396,32962369.040951125,139726104.77370214,34475168.183179215,3991052.8659876175,1029028.364215798,831459.7307782193,9103602.419303438,8696918.4351484,24685077.44426268,70184.96080305928,76279784.81493285,20240560.710325047,85516614.02503985,69837693.32217973,82429774.42097597,21443847.33479,83416408.13304201,80915027.64554505,84805675.40113579,24398433.94257179,12430235.067264576,62258186.136639416,18267186.256924298,87247026.58262537,79005959.25056434,1898814.8837471786,130844736.06884877,2755041.6304032495,78934195.53928572,927953.1455636248,142191692.76578948,208692171.42857146,121557280.666162,5770115.894039735,365868846.30463576,149696569.92084432,607851461.561391,6019512.100677638,4795475.5414012745,318457326.8921095],\"yaxis\":\"y\",\"type\":\"histogram\"},{\"alignmentgroup\":\"True\",\"bingroup\":\"x\",\"histfunc\":\"sum\",\"hovertemplate\":\"Released_Year=%{x}\\u003cbr\\u003esum of Indexed_Gross=%{y}\\u003cextra\\u003e\\u003c\\u002fextra\\u003e\",\"legendgroup\":\"\",\"marker\":{\"color\":\"#636efa\",\"pattern\":{\"shape\":\"\"}},\"name\":\"\",\"nbinsx\":90,\"offsetgroup\":\"\",\"orientation\":\"v\",\"showlegend\":false,\"x\":[2008,2003,2010,2001,2002,1999,1980,1977,1954,2000,1994,1991,2018,2019,2018,2012,2003,1997,1981,1986,1983,2011,2005,2005,1998,1989,1988,1985,2017,2013,2019,2015,2010,2004,2003,1993,1982,2014,2014,2017,2015,2016,2007,2012,2007,2006,2004,2002,2003,2004,1999,1995,1984,1964,1959,2017,2015,2014,2014,2009,2009,2006,2008,2002,2001,2002,1980,1978,1969,1938,2017,2016,2016,2016,2014,2014,2008,2009,2006,2007,2005,2002,2000,1999,1997,1993,1993,1987,1987,1984,1962,2018,2018,2014,2014,2014,2013,2011,2012,2006,2007,2004,2004,2004,2003,2000,1997,1992,1987,1982,1982,1973,1971,1971,1964,1960,2017,2017,2017,2018,2015,2016,2014,2011,2012,2010,2009,2007,2006,2009,2006,2009,2005,2002,1995,1993,1987,1981,1979,1979],\"xaxis\":\"x2\",\"y\":[692634741.5410426,572552663.7111475,374100581.4198383,496720601.8451081,530856369.66061187,287009774.4243676,983006437.592902,1485200190.0354862,2786887.418530352,303890633.87465674,36682920.56628953,419388784.7805494,211111527.30446687,936039443.6596031,753284200.8023276,544246847.3339577,1072051.134377191,4125769.3736940804,761149125.8107852,216625754.42604947,865444366.1295336,16928452.23857771,100659082.109203,295295281.61338615,6666272.0643629655,443294726.1109571,195648635.5390767,10717906.8745004,257400089.28280705,32249611.298634186,128266767.16313489,181225376.7343977,278208775.7452179,1639908.8376963353,106221595.64851601,776640169.9071429,94974254.1942959,3092771.4172570393,392428169.73660314,104715643.32561405,216021063.9869376,421739605.3665353,10838.042306097055,756947852.1723169,305873583.1356284,231595478.80546075,97722253.26018667,262922.79063097516,462795943.9850433,385883004.9005236,38762244.093959734,943884.8814898421,103056953.64238411,130399445.21497922,120054564.25406206,358392622.08350885,1101835607.2024674,275521748.6750227,118026769.10154405,150300699.08598918,334961203.2864302,19026116.827645052,412339537.2246855,83235125.04684512,1574239.3250789028,188540715.2418738,193673594.34237996,21812928.759894457,91706959.49355218,78697573.17073171,214282732.61824563,55783178.53672519,618172298.2472233,474027036.71013975,262101805.04123527,208480828.19545868,187774398.37747157,988400769.7935458,70353937.99914676,31784327.30402323,36423630.169088505,84047241.39770554,207356655.69238454,43202.11874032008,83935315.73319048,109041321.86309524,354836436.85714287,146603063.2975019,14536342.655563967,640434889.0794703,361145868.945869,360200720.475783,244311420.56067088,151071574.6441417,305963025.0405086,303600422.69355136,273791221.46991515,181478006.04473332,369633271.4118749,31112255.483788397,72083625.7453339,25252015.489187345,260130376.83678582,114996572.41429548,168366667.04837582,244604.65018726597,110365253.06188053,150039831.53662273,54578238.02573808,228017670.27272728,136420886.60249555,156921587.60890612,107589727.85562634,247107855.62632698,459375320.3994453,46226773.255813956,443429499.4533334,122656647.2294737,20862612.400701758,675345546.4822865,55157869.34179971,31203175.528484415,245632988.02470484,5088437.685337412,49796939.045514144,61466047.85091698,271666056.2509521,23013872.85109913,34071054.8890785,392444063.609541,291302744.1288396,139726104.77370214,34475168.183179215,204675155.875717,182979978.41873592,78934195.53928572,160031419.9348978,38233427.419110686,86389462.6042654,165172985.78199053],\"yaxis\":\"y2\",\"type\":\"histogram\"},{\"alignmentgroup\":\"True\",\"bingroup\":\"x\",\"histfunc\":\"sum\",\"hovertemplate\":\"Released_Year=%{x}\\u003cbr\\u003esum of Indexed_Gross=%{y}\\u003cextra\\u003e\\u003c\\u002fextra\\u003e\",\"legendgroup\":\"\",\"marker\":{\"color\":\"#636efa\",\"pattern\":{\"shape\":\"\"}},\"name\":\"\",\"nbinsx\":90,\"offsetgroup\":\"\",\"orientation\":\"v\",\"showlegend\":false,\"x\":[1972,2008,1974,1957,1994,1990,2002,1999,1995,1991,2019,2006,1995,1994,2000,1992,1983,1976,1973,1971,1944,2017,2013,1998,1997,1995,1995,1954,2014,2015,2013,2007,2003,2003,2002,1998,1998,1996,1994,1993,1973,1967,1954,2014,2007,2004,2005,2004,2002,2003,2000,1995,1993,1975,1973,1969,1958,2019,2018,2014,2019,2009,2008,2008,2003,2001,2000,1994,1993,1993,1987,1967,1951,2015,2017,2013,2011,2013,2009,2009,2011,2007,2005,2002,1999,1993,1993,1991,1988,1986,1982,1973,2017,2008,2007,2006,2007,2004,2004,2002,2001,2000,2001,1997,1996,1992,1990,1986,1985,1973,1973,1971,1971,2017,2015,2014,2016,2012,2010,2010,2007,2006,2007,2005,2003,2002,2001,2002,2000,1998,1996,1993,1992,1991,1990,1988,1987,1984,1979,1979,1978,1973],\"xaxis\":\"x3\",\"y\":[900331490.6625514,692634741.5410426,323917349.6076722,43292863.70597243,203020044.3307224,99897098.25526316,11721096.115678776,228967503.61796594,183186983.4119639,267678277.94379538,365803279.6037672,183101514.17662117,42705058.38374718,36682920.56628953,49100565.16953809,5627605.282255593,127661398.65630397,138514383.83673468,1001787415.2952566,42729181.42250531,90680880.19559903,62011770.20350878,139901088.94352162,6666272.0643629655,112235799.34637022,123380453.69977428,77643887.47178331,130115.02875399363,69610619.78419618,53001025.32365748,73004600.6216316,99886981.43923683,21412.80766534237,106221595.64851601,255106581.23422563,596336.4389343181,29929370.914270643,43733638.229651965,1129009.8056280825,48264136.440476194,194166882.48983544,135335958.985843,99435143.76996806,3092771.4172570393,10838.042306097055,352032.64010926476,105788016.0457948,97722253.26018667,262922.79063097516,2319005.10025707,6773855.037203496,943884.8814898421,8677334.575,259152677.85771382,334349688.2865441,777691484.4970692,21590745.4702381,180321665.90716448,3677018.362485025,38139839.693369664,7633366.969391188,2709317.760673482,2748046.6267225887,10045382.648292392,136582514.24258006,1574239.3250789028,1977192.5902621725,4140441.248621991,23700370.833333332,71301464.24047619,187183052.1332324,203448876.90090093,81773421.48760332,63660617.805515245,7661492.1249122815,102242.07678110004,127071764.82737526,128173116.2458472,711293.1104429746,13120281.0743636,43459973.737335116,175028527.2044795,1862.9722589167768,281513.1500956023,43202.11874032008,354836436.85714287,33321142.846428573,117731728.2589201,81560147.73246092,3652814.4370341315,7223707.664884136,100782921.02613747,38449959.60631579,46282579.62212902,44481805.19618416,31112255.483788397,72083625.7453339,80559677.94218075,114996572.41429548,161874922.7552581,288729497.59650403,73683800.39750314,120631533.13619812,72794775.46423788,99714258.85776925,21312405.25651241,10835977.617105264,18196629.93644567,27470183.852917667,187050532.4298161,156921587.60890612,107589727.85562634,247107855.62632698,122656647.2294737,55157869.34179971,1287141.7257039056,31203175.528484415,49796939.045514144,321596663.13153225,61466047.85091698,23013872.85109913,122423528.4940273,27297099.44255496,34475168.183179215,24685077.44426268,70184.96080305928,83416408.13304201,204675155.875717,24398433.94257179,12430235.067264576,87247026.58262537,78934195.53928572,105177053.42077842,3673352.8601199873,142191692.76578948,185625245.97164667,160031419.9348978,5770115.894039735,86389462.6042654,165172985.78199053,149696569.92084432,6019512.100677638],\"yaxis\":\"y3\",\"type\":\"histogram\"},{\"alignmentgroup\":\"True\",\"bingroup\":\"x\",\"histfunc\":\"sum\",\"hovertemplate\":\"Released_Year=%{x}\\u003cbr\\u003esum of Indexed_Gross=%{y}\\u003cextra\\u003e\\u003c\\u002fextra\\u003e\",\"legendgroup\":\"\",\"marker\":{\"color\":\"#636efa\",\"pattern\":{\"shape\":\"\"}},\"name\":\"\",\"nbinsx\":90,\"offsetgroup\":\"\",\"orientation\":\"v\",\"showlegend\":false,\"x\":[1960,1980,1979,1982,1962,1973,2004,1978,1933,1961,2017,2014,1978,1963,2011,2004,2002,2001],\"xaxis\":\"x4\",\"y\":[301581395.34883726,148960674.85177454,303073222.7488152,39825277.00178254,37407692.30769231,1461920081.4908035,19989072.391531985,21812928.759894457,214701986.75496688,24405962.589928057,200253977.5192983,3925735.1498637605,201021108.17941952,103848991.62359552,3948920.8579621487,82655677.80468929,69837693.32217973,151942972.203933],\"yaxis\":\"y4\",\"type\":\"histogram\"}],                        {\"template\":{\"data\":{\"histogram2dcontour\":[{\"type\":\"histogram2dcontour\",\"colorbar\":{\"outlinewidth\":0,\"ticks\":\"\"},\"colorscale\":[[0.0,\"#0d0887\"],[0.1111111111111111,\"#46039f\"],[0.2222222222222222,\"#7201a8\"],[0.3333333333333333,\"#9c179e\"],[0.4444444444444444,\"#bd3786\"],[0.5555555555555556,\"#d8576b\"],[0.6666666666666666,\"#ed7953\"],[0.7777777777777778,\"#fb9f3a\"],[0.8888888888888888,\"#fdca26\"],[1.0,\"#f0f921\"]]}],\"choropleth\":[{\"type\":\"choropleth\",\"colorbar\":{\"outlinewidth\":0,\"ticks\":\"\"}}],\"histogram2d\":[{\"type\":\"histogram2d\",\"colorbar\":{\"outlinewidth\":0,\"ticks\":\"\"},\"colorscale\":[[0.0,\"#0d0887\"],[0.1111111111111111,\"#46039f\"],[0.2222222222222222,\"#7201a8\"],[0.3333333333333333,\"#9c179e\"],[0.4444444444444444,\"#bd3786\"],[0.5555555555555556,\"#d8576b\"],[0.6666666666666666,\"#ed7953\"],[0.7777777777777778,\"#fb9f3a\"],[0.8888888888888888,\"#fdca26\"],[1.0,\"#f0f921\"]]}],\"heatmap\":[{\"type\":\"heatmap\",\"colorbar\":{\"outlinewidth\":0,\"ticks\":\"\"},\"colorscale\":[[0.0,\"#0d0887\"],[0.1111111111111111,\"#46039f\"],[0.2222222222222222,\"#7201a8\"],[0.3333333333333333,\"#9c179e\"],[0.4444444444444444,\"#bd3786\"],[0.5555555555555556,\"#d8576b\"],[0.6666666666666666,\"#ed7953\"],[0.7777777777777778,\"#fb9f3a\"],[0.8888888888888888,\"#fdca26\"],[1.0,\"#f0f921\"]]}],\"heatmapgl\":[{\"type\":\"heatmapgl\",\"colorbar\":{\"outlinewidth\":0,\"ticks\":\"\"},\"colorscale\":[[0.0,\"#0d0887\"],[0.1111111111111111,\"#46039f\"],[0.2222222222222222,\"#7201a8\"],[0.3333333333333333,\"#9c179e\"],[0.4444444444444444,\"#bd3786\"],[0.5555555555555556,\"#d8576b\"],[0.6666666666666666,\"#ed7953\"],[0.7777777777777778,\"#fb9f3a\"],[0.8888888888888888,\"#fdca26\"],[1.0,\"#f0f921\"]]}],\"contourcarpet\":[{\"type\":\"contourcarpet\",\"colorbar\":{\"outlinewidth\":0,\"ticks\":\"\"}}],\"contour\":[{\"type\":\"contour\",\"colorbar\":{\"outlinewidth\":0,\"ticks\":\"\"},\"colorscale\":[[0.0,\"#0d0887\"],[0.1111111111111111,\"#46039f\"],[0.2222222222222222,\"#7201a8\"],[0.3333333333333333,\"#9c179e\"],[0.4444444444444444,\"#bd3786\"],[0.5555555555555556,\"#d8576b\"],[0.6666666666666666,\"#ed7953\"],[0.7777777777777778,\"#fb9f3a\"],[0.8888888888888888,\"#fdca26\"],[1.0,\"#f0f921\"]]}],\"surface\":[{\"type\":\"surface\",\"colorbar\":{\"outlinewidth\":0,\"ticks\":\"\"},\"colorscale\":[[0.0,\"#0d0887\"],[0.1111111111111111,\"#46039f\"],[0.2222222222222222,\"#7201a8\"],[0.3333333333333333,\"#9c179e\"],[0.4444444444444444,\"#bd3786\"],[0.5555555555555556,\"#d8576b\"],[0.6666666666666666,\"#ed7953\"],[0.7777777777777778,\"#fb9f3a\"],[0.8888888888888888,\"#fdca26\"],[1.0,\"#f0f921\"]]}],\"mesh3d\":[{\"type\":\"mesh3d\",\"colorbar\":{\"outlinewidth\":0,\"ticks\":\"\"}}],\"scatter\":[{\"fillpattern\":{\"fillmode\":\"overlay\",\"size\":10,\"solidity\":0.2},\"type\":\"scatter\"}],\"parcoords\":[{\"type\":\"parcoords\",\"line\":{\"colorbar\":{\"outlinewidth\":0,\"ticks\":\"\"}}}],\"scatterpolargl\":[{\"type\":\"scatterpolargl\",\"marker\":{\"colorbar\":{\"outlinewidth\":0,\"ticks\":\"\"}}}],\"bar\":[{\"error_x\":{\"color\":\"#2a3f5f\"},\"error_y\":{\"color\":\"#2a3f5f\"},\"marker\":{\"line\":{\"color\":\"#E5ECF6\",\"width\":0.5},\"pattern\":{\"fillmode\":\"overlay\",\"size\":10,\"solidity\":0.2}},\"type\":\"bar\"}],\"scattergeo\":[{\"type\":\"scattergeo\",\"marker\":{\"colorbar\":{\"outlinewidth\":0,\"ticks\":\"\"}}}],\"scatterpolar\":[{\"type\":\"scatterpolar\",\"marker\":{\"colorbar\":{\"outlinewidth\":0,\"ticks\":\"\"}}}],\"histogram\":[{\"marker\":{\"pattern\":{\"fillmode\":\"overlay\",\"size\":10,\"solidity\":0.2}},\"type\":\"histogram\"}],\"scattergl\":[{\"type\":\"scattergl\",\"marker\":{\"colorbar\":{\"outlinewidth\":0,\"ticks\":\"\"}}}],\"scatter3d\":[{\"type\":\"scatter3d\",\"line\":{\"colorbar\":{\"outlinewidth\":0,\"ticks\":\"\"}},\"marker\":{\"colorbar\":{\"outlinewidth\":0,\"ticks\":\"\"}}}],\"scattermapbox\":[{\"type\":\"scattermapbox\",\"marker\":{\"colorbar\":{\"outlinewidth\":0,\"ticks\":\"\"}}}],\"scatterternary\":[{\"type\":\"scatterternary\",\"marker\":{\"colorbar\":{\"outlinewidth\":0,\"ticks\":\"\"}}}],\"scattercarpet\":[{\"type\":\"scattercarpet\",\"marker\":{\"colorbar\":{\"outlinewidth\":0,\"ticks\":\"\"}}}],\"carpet\":[{\"aaxis\":{\"endlinecolor\":\"#2a3f5f\",\"gridcolor\":\"white\",\"linecolor\":\"white\",\"minorgridcolor\":\"white\",\"startlinecolor\":\"#2a3f5f\"},\"baxis\":{\"endlinecolor\":\"#2a3f5f\",\"gridcolor\":\"white\",\"linecolor\":\"white\",\"minorgridcolor\":\"white\",\"startlinecolor\":\"#2a3f5f\"},\"type\":\"carpet\"}],\"table\":[{\"cells\":{\"fill\":{\"color\":\"#EBF0F8\"},\"line\":{\"color\":\"white\"}},\"header\":{\"fill\":{\"color\":\"#C8D4E3\"},\"line\":{\"color\":\"white\"}},\"type\":\"table\"}],\"barpolar\":[{\"marker\":{\"line\":{\"color\":\"#E5ECF6\",\"width\":0.5},\"pattern\":{\"fillmode\":\"overlay\",\"size\":10,\"solidity\":0.2}},\"type\":\"barpolar\"}],\"pie\":[{\"automargin\":true,\"type\":\"pie\"}]},\"layout\":{\"autotypenumbers\":\"strict\",\"colorway\":[\"#636efa\",\"#EF553B\",\"#00cc96\",\"#ab63fa\",\"#FFA15A\",\"#19d3f3\",\"#FF6692\",\"#B6E880\",\"#FF97FF\",\"#FECB52\"],\"font\":{\"color\":\"#2a3f5f\"},\"hovermode\":\"closest\",\"hoverlabel\":{\"align\":\"left\"},\"paper_bgcolor\":\"white\",\"plot_bgcolor\":\"#E5ECF6\",\"polar\":{\"bgcolor\":\"#E5ECF6\",\"angularaxis\":{\"gridcolor\":\"white\",\"linecolor\":\"white\",\"ticks\":\"\"},\"radialaxis\":{\"gridcolor\":\"white\",\"linecolor\":\"white\",\"ticks\":\"\"}},\"ternary\":{\"bgcolor\":\"#E5ECF6\",\"aaxis\":{\"gridcolor\":\"white\",\"linecolor\":\"white\",\"ticks\":\"\"},\"baxis\":{\"gridcolor\":\"white\",\"linecolor\":\"white\",\"ticks\":\"\"},\"caxis\":{\"gridcolor\":\"white\",\"linecolor\":\"white\",\"ticks\":\"\"}},\"coloraxis\":{\"colorbar\":{\"outlinewidth\":0,\"ticks\":\"\"}},\"colorscale\":{\"sequential\":[[0.0,\"#0d0887\"],[0.1111111111111111,\"#46039f\"],[0.2222222222222222,\"#7201a8\"],[0.3333333333333333,\"#9c179e\"],[0.4444444444444444,\"#bd3786\"],[0.5555555555555556,\"#d8576b\"],[0.6666666666666666,\"#ed7953\"],[0.7777777777777778,\"#fb9f3a\"],[0.8888888888888888,\"#fdca26\"],[1.0,\"#f0f921\"]],\"sequentialminus\":[[0.0,\"#0d0887\"],[0.1111111111111111,\"#46039f\"],[0.2222222222222222,\"#7201a8\"],[0.3333333333333333,\"#9c179e\"],[0.4444444444444444,\"#bd3786\"],[0.5555555555555556,\"#d8576b\"],[0.6666666666666666,\"#ed7953\"],[0.7777777777777778,\"#fb9f3a\"],[0.8888888888888888,\"#fdca26\"],[1.0,\"#f0f921\"]],\"diverging\":[[0,\"#8e0152\"],[0.1,\"#c51b7d\"],[0.2,\"#de77ae\"],[0.3,\"#f1b6da\"],[0.4,\"#fde0ef\"],[0.5,\"#f7f7f7\"],[0.6,\"#e6f5d0\"],[0.7,\"#b8e186\"],[0.8,\"#7fbc41\"],[0.9,\"#4d9221\"],[1,\"#276419\"]]},\"xaxis\":{\"gridcolor\":\"white\",\"linecolor\":\"white\",\"ticks\":\"\",\"title\":{\"standoff\":15},\"zerolinecolor\":\"white\",\"automargin\":true,\"zerolinewidth\":2},\"yaxis\":{\"gridcolor\":\"white\",\"linecolor\":\"white\",\"ticks\":\"\",\"title\":{\"standoff\":15},\"zerolinecolor\":\"white\",\"automargin\":true,\"zerolinewidth\":2},\"scene\":{\"xaxis\":{\"backgroundcolor\":\"#E5ECF6\",\"gridcolor\":\"white\",\"linecolor\":\"white\",\"showbackground\":true,\"ticks\":\"\",\"zerolinecolor\":\"white\",\"gridwidth\":2},\"yaxis\":{\"backgroundcolor\":\"#E5ECF6\",\"gridcolor\":\"white\",\"linecolor\":\"white\",\"showbackground\":true,\"ticks\":\"\",\"zerolinecolor\":\"white\",\"gridwidth\":2},\"zaxis\":{\"backgroundcolor\":\"#E5ECF6\",\"gridcolor\":\"white\",\"linecolor\":\"white\",\"showbackground\":true,\"ticks\":\"\",\"zerolinecolor\":\"white\",\"gridwidth\":2}},\"shapedefaults\":{\"line\":{\"color\":\"#2a3f5f\"}},\"annotationdefaults\":{\"arrowcolor\":\"#2a3f5f\",\"arrowhead\":0,\"arrowwidth\":1},\"geo\":{\"bgcolor\":\"white\",\"landcolor\":\"#E5ECF6\",\"subunitcolor\":\"white\",\"showland\":true,\"showlakes\":true,\"lakecolor\":\"white\"},\"title\":{\"x\":0.05},\"mapbox\":{\"style\":\"light\"}}},\"xaxis\":{\"anchor\":\"y\",\"domain\":[0.0,1.0],\"range\":[1930,2019]},\"yaxis\":{\"anchor\":\"x\",\"domain\":[0.84375,1.0],\"range\":[0,5000000000]},\"xaxis2\":{\"anchor\":\"y2\",\"domain\":[0.0,1.0],\"range\":[1930,2019]},\"yaxis2\":{\"anchor\":\"x2\",\"domain\":[0.5625,0.71875],\"range\":[0,5000000000]},\"xaxis3\":{\"anchor\":\"y3\",\"domain\":[0.0,1.0],\"range\":[1930,2019]},\"yaxis3\":{\"anchor\":\"x3\",\"domain\":[0.28125,0.4375],\"range\":[0,5000000000]},\"xaxis4\":{\"anchor\":\"y4\",\"domain\":[0.0,1.0],\"range\":[1930,2019]},\"yaxis4\":{\"anchor\":\"x4\",\"domain\":[0.0,0.15625],\"range\":[0,5000000000]},\"annotations\":[{\"font\":{\"size\":16},\"showarrow\":false,\"text\":\"drama\",\"x\":0.5,\"xanchor\":\"center\",\"xref\":\"paper\",\"y\":1.0,\"yanchor\":\"bottom\",\"yref\":\"paper\"},{\"font\":{\"size\":16},\"showarrow\":false,\"text\":\"action\",\"x\":0.5,\"xanchor\":\"center\",\"xref\":\"paper\",\"y\":0.71875,\"yanchor\":\"bottom\",\"yref\":\"paper\"},{\"font\":{\"size\":16},\"showarrow\":false,\"text\":\"crime\",\"x\":0.5,\"xanchor\":\"center\",\"xref\":\"paper\",\"y\":0.4375,\"yanchor\":\"bottom\",\"yref\":\"paper\"},{\"font\":{\"size\":16},\"showarrow\":false,\"text\":\"horror\",\"x\":0.5,\"xanchor\":\"center\",\"xref\":\"paper\",\"y\":0.15625,\"yanchor\":\"bottom\",\"yref\":\"paper\"}],\"title\":{\"text\":\"Gross of movies in genre\"}},                        {\"responsive\": true}                    ).then(function(){\n",
              "                            \n",
              "var gd = document.getElementById('dbd6103e-0bea-4223-bf4e-f58b9d2a5d0e');\n",
              "var x = new MutationObserver(function (mutations, observer) {{\n",
              "        var display = window.getComputedStyle(gd).display;\n",
              "        if (!display || display === 'none') {{\n",
              "            console.log([gd, 'removed!']);\n",
              "            Plotly.purge(gd);\n",
              "            observer.disconnect();\n",
              "        }}\n",
              "}});\n",
              "\n",
              "// Listen for the removal of the full notebook cells\n",
              "var notebookContainer = gd.closest('#notebook-container');\n",
              "if (notebookContainer) {{\n",
              "    x.observe(notebookContainer, {childList: true});\n",
              "}}\n",
              "\n",
              "// Listen for the clearing of the current output cell\n",
              "var outputEl = gd.closest('.output');\n",
              "if (outputEl) {{\n",
              "    x.observe(outputEl, {childList: true});\n",
              "}}\n",
              "\n",
              "                        })                };                            </script>        </div>\n",
              "</body>\n",
              "</html>"
            ]
          },
          "metadata": {}
        }
      ]
    },
    {
      "cell_type": "markdown",
      "source": [
        "#Hypothesis check\n",
        "\n"
      ],
      "metadata": {
        "id": "Rl9zxD9aUavs"
      }
    },
    {
      "cell_type": "markdown",
      "source": [
        "Hypotheisis: Gross is correlating with IMDB_Rating and Meta_Score"
      ],
      "metadata": {
        "id": "Ju71iReE0C3m"
      }
    },
    {
      "cell_type": "code",
      "source": [
        "rating_gross_corr = df[['Indexed_Gross', 'IMDB_Rating','Meta_score']].corr()\n"
      ],
      "metadata": {
        "id": "aP4Fd5UqTheo"
      },
      "execution_count": null,
      "outputs": []
    },
    {
      "cell_type": "code",
      "source": [
        "imdb_gross_coer = rating_gross_corr.IMDB_Rating['Indexed_Gross']\n",
        "Metascore_gross_coer = rating_gross_corr.Meta_score['Indexed_Gross']"
      ],
      "metadata": {
        "id": "hCo198K2P30n"
      },
      "execution_count": null,
      "outputs": []
    },
    {
      "cell_type": "code",
      "source": [
        "fig = subplots.make_subplots(rows=1,cols=2, subplot_titles=[f'coerr={imdb_gross_coer:.3f}',f'coerr={Metascore_gross_coer:.3f}'])\n",
        "\n",
        "fig1 = px.scatter(df, x='IMDB_Rating',y=\"Gross\",trendline='ols', color = 'Meta_score')\n",
        "fig2 = px.scatter(df, x='Meta_score',y=\"Gross\",trendline='ols',color = 'IMDB_Rating')\n",
        "\n",
        "fig1.update_traces(line_color='black')\n",
        "fig2.update_traces(line_color='black')\n",
        "\n",
        "\n",
        "for d in fig1['data']:\n",
        "  fig.add_trace(d, row = 1, col = 1)\n",
        "for d in fig2['data']:\n",
        "  fig.add_trace(d, row = 1, col = 2)\n",
        "\n",
        "fig.update_xaxes(range=[1,100],row=1,col=1)\n",
        "fig.update_xaxes(range=[1,100],row=1,col=2)\n",
        "\n",
        "fig.update_layout(title_text = 'IMDB and Meta Ration to gross')\n",
        "\n",
        "fig.show()"
      ],
      "metadata": {
        "colab": {
          "base_uri": "https://localhost:8080/",
          "height": 542
        },
        "id": "zgCi4sGtTFUJ",
        "outputId": "cc081dc1-b7df-4c85-bfce-9446141edc1e"
      },
      "execution_count": null,
      "outputs": [
        {
          "output_type": "display_data",
          "data": {
            "text/html": [
              "<html>\n",
              "<head><meta charset=\"utf-8\" /></head>\n",
              "<body>\n",
              "    <div>            <script src=\"https://cdnjs.cloudflare.com/ajax/libs/mathjax/2.7.5/MathJax.js?config=TeX-AMS-MML_SVG\"></script><script type=\"text/javascript\">if (window.MathJax && window.MathJax.Hub && window.MathJax.Hub.Config) {window.MathJax.Hub.Config({SVG: {font: \"STIX-Web\"}});}</script>                <script type=\"text/javascript\">window.PlotlyConfig = {MathJaxConfig: 'local'};</script>\n",
              "        <script charset=\"utf-8\" src=\"https://cdn.plot.ly/plotly-2.24.1.min.js\"></script>                <div id=\"a7f28414-0d6d-4845-a960-be17a78cfa17\" class=\"plotly-graph-div\" style=\"height:525px; width:100%;\"></div>            <script type=\"text/javascript\">                                    window.PLOTLYENV=window.PLOTLYENV || {};                                    if (document.getElementById(\"a7f28414-0d6d-4845-a960-be17a78cfa17\")) {                    Plotly.newPlot(                        \"a7f28414-0d6d-4845-a960-be17a78cfa17\",                        [{\"hovertemplate\":\"IMDB_Rating=%{x}\\u003cbr\\u003eGross=%{y}\\u003cbr\\u003eMeta_score=%{marker.color}\\u003cextra\\u003e\\u003c\\u002fextra\\u003e\",\"legendgroup\":\"\",\"line\":{\"color\":\"black\"},\"marker\":{\"color\":[80.0,100.0,84.0,90.0,96.0,94.0,94.0,94.0,74.0,66.0,92.0,82.0,90.0,87.0,73.0,90.0,82.0,83.0,96.0,74.0,79.0,96.0,91.0,61.0,59.0,65.0,85.0,90.0,98.0,59.0,88.0,57.0,66.0,85.0,85.0,67.0,62.0,77.0,64.0,88.0,75.0,80.0,87.0,80.0,97.0,100.0,96.0,99.0,75.0,79.0,87.0,78.0,68.0,81.0,81.0,78.0,67.0,95.0,89.0,77.0,80.0,76.0,85.0,66.0,94.0,89.0,97.0,100.0,78.0,77.0,95.0,80.0,69.0,89.0,69.0,55.0,68.0,84.0,70.0,77.0,95.0,68.0,79.0,76.0,84.0,88.0,65.0,58.0,86.0,94.0,83.0,77.0,84.0,74.0,100.0,94.0,98.0,100.0,99.0,95.0,100.0,69.0,88.0,80.0,71.0,63.0,88.0,75.0,68.0,93.0,98.0,92.0,62.0,70.0,82.0,80.0,72.0,66.0,90.0,76.0,73.0,85.0,65.0,86.0,72.0,96.0,89.0,91.0,86.0,98.0,75.0,98.0,98.0,95.0,84.0,74.0,77.0,86.0,77.0,88.0,79.0,71.0,94.0,96.0,74.0,81.0,93.0,85.0,70.0,90.0,72.0,85.0,68.0,75.0,73.0,91.0,86.0,79.0,64.0,90.0,82.0,69.0,90.0,75.0,83.0,79.0,84.0,64.0,58.0,90.0,73.0,71.0,85.0,83.0,85.0,77.0,100.0,77.0,68.0,84.0,79.0,75.0,92.0,78.0,86.0,57.0,47.0,100.0,84.0,77.0,86.0,70.0,92.0,77.0,92.0,75.0,90.0,87.0,91.0,72.0,97.0,86.0,73.0,97.0,87.0,94.0,69.0,80.0,78.0,89.0,66.0,65.0,82.0,71.0,73.0,76.0,81.0,90.0,49.0,76.0,67.0,88.0,62.0,65.0,87.0,50.0,84.0,79.0,33.0,69.0,90.0,80.0,64.0,64.0,85.0,72.0,74.0,92.0,96.0,80.0,83.0,85.0,74.0,69.0,54.0,75.0,63.0,58.0,90.0,60.0,88.0,77.0,61.0,86.0,82.0,80.0,85.0,84.0,91.0,74.0,76.0,82.0,72.0,47.0,59.0,86.0,72.0,95.0,72.0,93.0,65.0,77.0,79.0,88.0,84.0,79.0,83.0,92.0,87.0,86.0,80.0,58.0,81.0,93.0,67.0,100.0,66.0,79.0,83.0,63.0,69.0,65.0,90.0,95.0,93.0,99.0,84.0,97.0,93.0,96.0,92.0,91.0,82.0,93.0,94.0,93.0,78.0,82.0,81.0,72.0,79.0,74.0,76.0,58.0,81.0,80.0,94.0,75.0,89.0,71.0,94.0,94.0,90.0,67.0,82.0,81.0,80.0,100.0,82.0,67.0,89.0,64.0,79.0,83.0,56.0,79.0,76.0,84.0,82.0,85.0,86.0,84.0,61.0,68.0,80.0,84.0,90.0,85.0,88.0,85.0,77.0,59.0,85.0,65.0,74.0,97.0,77.0,79.0,90.0,84.0,92.0,77.0,60.0,83.0,72.0,71.0,84.0,76.0,93.0,91.0,97.0,75.0,83.0,87.0,89.0,88.0,100.0,97.0,90.0,85.0,94.0,74.0,88.0,84.0,96.0,75.0,65.0,75.0,68.0,91.0,62.0,85.0,76.0,74.0,55.0,83.0,84.0,49.0,84.0,76.0,81.0,71.0,82.0,72.0,79.0,66.0,82.0,76.0,79.0,51.0,55.0,88.0,58.0,85.0,78.0,76.0,83.0,63.0,68.0,80.0,81.0,70.0,67.0,51.0,82.0,68.0,73.0,74.0,72.0,53.0,75.0,82.0,91.0,61.0,83.0,48.0,94.0,87.0,73.0,44.0,84.0,71.0,84.0,75.0,64.0,61.0,76.0,70.0,73.0,50.0,55.0,84.0,87.0,80.0,68.0,86.0,76.0,75.0,74.0,78.0,57.0,65.0,45.0,72.0,61.0,75.0,62.0,78.0,66.0,76.0,71.0,91.0,73.0,91.0,77.0,69.0,85.0,73.0,80.0,80.0,67.0,79.0,95.0,88.0,75.0,88.0,66.0,73.0,85.0,86.0,70.0,76.0,72.0,72.0,60.0,69.0,74.0,87.0,89.0,40.0,70.0,87.0,72.0,70.0,81.0,83.0,96.0,72.0,95.0,65.0,73.0,81.0,81.0,86.0,76.0,65.0,86.0,80.0,81.0,63.0,45.0,78.0,78.0,74.0,78.0,53.0,70.0,78.0,71.0,71.0,87.0,76.0,66.0,78.0,73.0,61.0,73.0,89.0,81.0,47.0,80.0,55.0,83.0,68.0,76.0,28.0,83.0,74.0,72.0,60.0,74.0,85.0,74.0,62.0,69.0,73.0,68.0,69.0,86.0,90.0,67.0,52.0,73.0,76.0,87.0,47.0,83.0,81.0,70.0,79.0,66.0,64.0,73.0,76.0,82.0,62.0,64.0,69.0,66.0,83.0,84.0,76.0,62.0,54.0,76.0,75.0,90.0,77.0,67.0,61.0,86.0,78.0,87.0,71.0,73.0,87.0,83.0,80.0,94.0,90.0,86.0,72.0,87.0,90.0,74.0,91.0,96.0,71.0,83.0,86.0,92.0,60.0,70.0,83.0,67.0,86.0,72.0,81.0,80.0,81.0,82.0,82.0,92.0,88.0,77.0,79.0,73.0,68.0,80.0,88.0,80.0,65.0,72.0,72.0,66.0,87.0,70.0,73.0,57.0,53.0,79.0,36.0,82.0,66.0,76.0,72.0,66.0,70.0,68.0,78.0,52.0,72.0,56.0,62.0,46.0,67.0,73.0,45.0,76.0,81.0,70.0,56.0,67.0,68.0,30.0,73.0,76.0,88.0,64.0,74.0,52.0,53.0,80.0,74.0,64.0,77.0,78.0,71.0,41.0,66.0,49.0,52.0,84.0,58.0,62.0,69.0,88.0,56.0,78.0,68.0,90.0,66.0,63.0,60.0,76.0,88.0,76.0,72.0,68.0,82.0,68.0,77.0,65.0,74.0,76.0,59.0,90.0,87.0,77.0,50.0,65.0,96.0,85.0],\"coloraxis\":\"coloraxis\",\"symbol\":\"circle\"},\"mode\":\"markers\",\"name\":\"\",\"orientation\":\"v\",\"showlegend\":false,\"x\":[93.0,92.0,90.0,90.0,90.0,89.0,89.0,89.0,88.0,88.0,88.0,88.0,88.0,87.0,87.0,87.0,87.0,87.0,86.0,86.0,86.0,86.0,86.0,86.0,86.0,86.0,86.0,86.0,86.0,85.0,85.0,85.0,85.0,85.0,85.0,85.0,85.0,85.0,85.0,85.0,85.0,85.0,85.0,85.0,85.0,85.0,85.0,85.0,84.0,84.0,84.0,84.0,84.0,84.0,84.0,84.0,84.0,84.0,84.0,84.0,84.0,84.0,84.0,84.0,84.0,84.0,84.0,84.0,83.0,83.0,83.0,83.0,83.0,83.0,83.0,83.0,83.0,83.0,83.0,83.0,83.0,83.0,83.0,83.0,83.0,83.0,83.0,83.0,83.0,83.0,83.0,83.0,83.0,83.0,83.0,83.0,83.0,83.0,83.0,83.0,83.0,82.0,82.0,82.0,82.0,82.0,82.0,82.0,82.0,82.0,82.0,82.0,82.0,82.0,82.0,82.0,82.0,82.0,82.0,82.0,82.0,82.0,82.0,82.0,82.0,82.0,82.0,82.0,82.0,82.0,82.0,82.0,82.0,81.0,81.0,81.0,81.0,81.0,81.0,81.0,81.0,81.0,81.0,81.0,81.0,81.0,81.0,81.0,81.0,81.0,81.0,81.0,81.0,81.0,81.0,81.0,81.0,81.0,81.0,81.0,81.0,81.0,81.0,81.0,81.0,81.0,81.0,81.0,81.0,81.0,81.0,81.0,81.0,81.0,81.0,81.0,81.0,81.0,81.0,81.0,81.0,81.0,81.0,81.0,81.0,81.0,81.0,81.0,81.0,81.0,81.0,81.0,81.0,81.0,81.0,81.0,81.0,81.0,81.0,81.0,81.0,81.0,81.0,81.0,81.0,80.0,80.0,80.0,80.0,80.0,80.0,80.0,80.0,80.0,80.0,80.0,80.0,80.0,80.0,80.0,80.0,80.0,80.0,80.0,80.0,80.0,80.0,80.0,80.0,80.0,80.0,80.0,80.0,80.0,80.0,80.0,80.0,80.0,80.0,80.0,80.0,80.0,80.0,80.0,80.0,80.0,80.0,80.0,80.0,80.0,80.0,80.0,80.0,80.0,80.0,80.0,80.0,80.0,80.0,80.0,80.0,80.0,80.0,80.0,80.0,80.0,80.0,80.0,80.0,80.0,80.0,80.0,80.0,80.0,80.0,80.0,80.0,80.0,80.0,80.0,80.0,80.0,80.0,80.0,80.0,80.0,80.0,80.0,80.0,80.0,80.0,80.0,80.0,80.0,80.0,80.0,80.0,80.0,80.0,80.0,80.0,80.0,79.0,79.0,79.0,79.0,79.0,79.0,79.0,79.0,79.0,79.0,79.0,79.0,79.0,79.0,79.0,79.0,79.0,79.0,79.0,79.0,79.0,79.0,79.0,79.0,79.0,79.0,79.0,79.0,79.0,79.0,79.0,79.0,79.0,79.0,79.0,79.0,79.0,79.0,79.0,79.0,79.0,79.0,79.0,79.0,79.0,79.0,79.0,79.0,79.0,79.0,79.0,79.0,79.0,79.0,79.0,79.0,79.0,79.0,79.0,79.0,79.0,79.0,79.0,79.0,79.0,79.0,79.0,79.0,79.0,79.0,79.0,79.0,79.0,79.0,79.0,79.0,79.0,78.0,78.0,78.0,78.0,78.0,78.0,78.0,78.0,78.0,78.0,78.0,78.0,78.0,78.0,78.0,78.0,78.0,78.0,78.0,78.0,78.0,78.0,78.0,78.0,78.0,78.0,78.0,78.0,78.0,78.0,78.0,78.0,78.0,78.0,78.0,78.0,78.0,78.0,78.0,78.0,78.0,78.0,78.0,78.0,78.0,78.0,78.0,78.0,78.0,78.0,78.0,78.0,78.0,78.0,78.0,78.0,78.0,78.0,78.0,78.0,78.0,78.0,78.0,78.0,78.0,78.0,78.0,78.0,78.0,78.0,78.0,78.0,78.0,78.0,78.0,78.0,78.0,78.0,78.0,78.0,78.0,78.0,78.0,78.0,78.0,78.0,78.0,78.0,78.0,78.0,78.0,78.0,78.0,78.0,78.0,78.0,78.0,78.0,78.0,78.0,78.0,78.0,78.0,78.0,78.0,78.0,78.0,77.0,77.0,77.0,77.0,77.0,77.0,77.0,77.0,77.0,77.0,77.0,77.0,77.0,77.0,77.0,77.0,77.0,77.0,77.0,77.0,77.0,77.0,77.0,77.0,77.0,77.0,77.0,77.0,77.0,77.0,77.0,77.0,77.0,77.0,77.0,77.0,77.0,77.0,77.0,77.0,77.0,77.0,77.0,77.0,77.0,77.0,77.0,77.0,77.0,77.0,77.0,77.0,77.0,77.0,77.0,77.0,77.0,77.0,77.0,77.0,77.0,77.0,77.0,77.0,77.0,77.0,77.0,77.0,77.0,77.0,77.0,77.0,77.0,77.0,77.0,77.0,77.0,77.0,77.0,77.0,77.0,77.0,77.0,77.0,77.0,77.0,77.0,77.0,77.0,77.0,77.0,77.0,77.0,77.0,77.0,77.0,77.0,77.0,77.0,77.0,77.0,77.0,77.0,77.0,77.0,77.0,77.0,77.0,77.0,77.0,77.0,77.0,77.0,77.0,77.0,77.0,77.0,77.0,77.0,77.0,77.0,76.0,76.0,76.0,76.0,76.0,76.0,76.0,76.0,76.0,76.0,76.0,76.0,76.0,76.0,76.0,76.0,76.0,76.0,76.0,76.0,76.0,76.0,76.0,76.0,76.0,76.0,76.0,76.0,76.0,76.0,76.0,76.0,76.0,76.0,76.0,76.0,76.0,76.0,76.0,76.0,76.0,76.0,76.0,76.0,76.0,76.0,76.0,76.0,76.0,76.0,76.0,76.0,76.0,76.0,76.0,76.0,76.0,76.0,76.0,76.0,76.0,76.0,76.0,76.0,76.0,76.0,76.0,76.0,76.0,76.0,76.0,76.0,76.0,76.0,76.0,76.0,76.0,76.0,76.0,76.0,76.0,76.0,76.0,76.0,76.0,76.0,76.0,76.0,76.0,76.0,76.0,76.0,76.0,76.0,76.0,76.0,76.0,76.0,76.0,76.0,76.0,76.0,76.0,76.0,76.0,76.0],\"xaxis\":\"x\",\"y\":[28341469,134966411,534858444,57300000,4360000,377845905,107928762,96898818,292576195,37030102,315544750,330252182,6100000,342551365,171479930,46836394,290475067,112000000,53367844,188020017,7563397,10055859,216540909,136801374,57598247,100125643,130742922,322740140,269061,335451311,13092000,13182281,53089891,132384315,32572577,187705427,6719864,23341568,19501238,422783777,204843350,11990401,210609762,5321508,32000000,1024560,163245,19181,1661096,5017246,190241310,858373000,678815482,209726015,162805434,448139099,6532908,223808164,11286112,707481,25544867,2375308,248159971,44017374,83471511,78900000,275902,36764313,159227644,687185,7098492,6857096,120540719,34400301,33225499,30328156,3635482,130096601,138433435,933933,191796233,75600000,2832029,46357676,85160248,51973029,45598982,309125409,11487676,28262574,159600000,6207725,56954992,15000000,44824144,18600000,13275000,3200000,8819028,5720000,1585634,85080171,54513740,6391436,13657115,128012934,293004164,116900694,1113541,40222514,37634615,415004880,70511035,206852432,5509040,4711096,170742341,3897569,64616940,67436818,42438300,101157447,197171806,1105564,83008852,4135750,23383987,1229197,12100000,25000000,12562,10177,5014000,3759854,2006788,3492754,226277068,14677674,3107072,59100318,167767189,67209615,356461711,56671993,26947624,117624028,45055776,857524,61002302,154058340,148095302,381011219,1498210,217581231,18354356,74283625,100492203,23530892,1111061,5820649,14131,70099045,380843261,164615351,5383834,289916256,70147,293506292,259127,125618201,348660,17498804,2734044,16501785,24611975,5535405,4043686,600200,402453882,25010410,95860116,52287414,138530565,2181987,495770,13782838,22244207,4971340,32868943,20045115,48979328,117235247,29000000,30933743,16217773,4050000,74700000,44908000,9600000,3969893,449191,4360000,9600000,198676459,4360000,151101803,51739495,228433663,341268248,1506975,132422809,5566534,1010414,2625803,91125683,333176600,92054159,25568251,216428042,183637894,17738570,138797449,169708112,363070709,106662,4018695,141319928,106954678,8060,623279547,4445756,27298285,163566459,57366262,227471070,238507,74103820,5990075,206445654,167445960,66208183,2380788,2086345,61649911,1787378,169659,305413918,66257002,261441092,1530386,1480006,22455976,4184036,6203044,1647780,5595428,23159305,24475416,13417292,57141459,515905,75082668,70906973,4496583,63895607,217350219,70405498,218967620,184208848,27545445,178800000,30857814,3333969,4542825,38400000,52767889,30177511,39200000,260000000,50000000,86300000,53267000,232906145,29133000,80500000,541940,102308889,33395426,104945305,163214286,111722000,14500000,8284000,19516000,12535000,2237659,17570324,8000000,23650000,55000,2076020,3270000,165359751,3313513,2000000,18095701,258168,32015231,5202582,5875006,3237118,315058289,32381218,349555,100546139,936662225,8114627,233921534,44671682,100206256,6739492,7000000,2084637,5009677,2122065,115646235,26236603,25379975,257730019,7757130,13756082,2280348,124987023,21002919,3635164,318412101,13542874,90135191,249358727,53710019,9284265,1059830,1000045,121661683,1221261,35552383,32534850,7220243,245852179,26400640,2201126,12281500,1324974,36948322,56362352,14743391,18254702,76270454,40084041,9929135,188751,20605209,57229890,45700000,37823676,5100000,70600000,61001,198809,61700000,12064472,24379978,13474588,30000000,9450000,7630000,10464000,3981000,10000000,2402067,188373161,169607287,40442052,48023088,47695120,435266,532177324,408084349,54117416,108101214,6735118,1330596,4231500,222527828,15322921,5209580,434038008,85433,45512466,177002924,70259870,102515793,107100855,161197785,547292,258366855,2222647,10095170,93617009,145000989,9030581,9439923,303003568,50927067,35061555,130164645,760507625,3600,50866635,59891098,23637265,127509326,2921738,1305,38405088,5128124,128985,25514517,119519402,81001787,16756372,181655,7002255,54234062,2892011,115654751,128078872,8264530,233632142,25812,28965197,32481825,267665011,659325379,12339633,48323648,4040691,5887457,9170214,56505065,32416586,22954968,183875760,17266971,2015810,1999955,57504069,61276872,52096475,26830000,118500000,34603943,59735548,5923044,70136369,1436000,61503218,98467863,45875171,34700291,238632124,21500000,2500000,435110554,106260000,31800000,4420000,193817,16056255,42765000,4000000,44785053,72000000,102272727,39100000,2616000,324591735,33800859,176040665,220159104,3358518,3333000,765127,35893537,128261724,124872350,6743776,42340598,2199675,1122527,259766572,17654912,189422889,1339152,56816662,257760692,274092705,228778661,96962694,146408305,277322503,304360277,132092958,136025503,32391374,295983305,15090400,18593156,881302,35739802,1752214,25442958,412544,17605861,33080084,22494487,1054361,871577,200821936,4398392,83043761,53606916,54580300,17108591,176241941,1082715,75331600,44585453,290013036,77911774,75286229,111110575,4890878,4064200,15539266,40311852,22245861,108638745,104454762,141072,21995263,3029081,183417150,151086,45512588,52037603,10824921,76631907,17105219,22858926,148478011,63540020,4065116,41909762,35811509,56116183,10019307,21848932,3151130,6110979,77324422,27281507,48169908,75505856,10725228,141340178,82418501,6153939,5080409,156452370,1544889,43984230,22238696,7153487,8551228,10631333,10600000,54000000,78912963,47212904,54800000,83400000,47000000,1924733,119500000,29800000,25000000,7056013,15630710,35900000,44527234,28350000,51081062,11403529,4905000,536118,76408097,26020957,142502728,566356,5904366,24801212,13122642,845464,389813101,107825862,18340051,72313754,608581744,248757044,46889293,109767581,1092800,26862450,37707719,208545589,4105123,41003371,19202743,215288866,171243005,1008098,251513985,35014192,48071303,75605492,3185812,75590286,209028679,255959475,9422422,69951824,17114882,38634938,88513495,20300218,10301706,24633730,39868642,301959197,210614939,23089926,107509799,24149632,56000369,3081925,697181,548707,6167817,5739376,16290476,45289,51680613,13060843,57938693,45064915,52364010,13622333,317575550,96522687,52990775,51401758,132072926,50668906,15070285,7267585,36400491,120620254,10680275,14378331,49100000,3796699,43182776,100012499,1037847,71516617,1464625,40903593,7993039,52929168,453243,1794187,285761243,66666062,92823600,111543479,78756177,49530280,65207127,2150000,119285432,12465371,22490039,76657000,43000000,35000000,132088635,959000,696690,1378435,141843612,13780024,30500000],\"yaxis\":\"y\",\"type\":\"scatter\"},{\"hovertemplate\":\"\\u003cb\\u003eOLS trendline\\u003c\\u002fb\\u003e\\u003cbr\\u003eGross = 5.00119e+06 * IMDB_Rating + -3.18594e+08\\u003cbr\\u003eR\\u003csup\\u003e2\\u003c\\u002fsup\\u003e=0.016259\\u003cbr\\u003e\\u003cbr\\u003eIMDB_Rating=%{x}\\u003cbr\\u003eGross=%{y} \\u003cb\\u003e(trend)\\u003c\\u002fb\\u003e\\u003cextra\\u003e\\u003c\\u002fextra\\u003e\",\"legendgroup\":\"\",\"line\":{\"color\":\"black\"},\"marker\":{\"symbol\":\"circle\"},\"mode\":\"lines\",\"name\":\"\",\"showlegend\":false,\"x\":[76.0,76.0,76.0,76.0,76.0,76.0,76.0,76.0,76.0,76.0,76.0,76.0,76.0,76.0,76.0,76.0,76.0,76.0,76.0,76.0,76.0,76.0,76.0,76.0,76.0,76.0,76.0,76.0,76.0,76.0,76.0,76.0,76.0,76.0,76.0,76.0,76.0,76.0,76.0,76.0,76.0,76.0,76.0,76.0,76.0,76.0,76.0,76.0,76.0,76.0,76.0,76.0,76.0,76.0,76.0,76.0,76.0,76.0,76.0,76.0,76.0,76.0,76.0,76.0,76.0,76.0,76.0,76.0,76.0,76.0,76.0,76.0,76.0,76.0,76.0,76.0,76.0,76.0,76.0,76.0,76.0,76.0,76.0,76.0,76.0,76.0,76.0,76.0,76.0,76.0,76.0,76.0,76.0,76.0,76.0,76.0,76.0,76.0,76.0,76.0,76.0,76.0,76.0,76.0,76.0,76.0,77.0,77.0,77.0,77.0,77.0,77.0,77.0,77.0,77.0,77.0,77.0,77.0,77.0,77.0,77.0,77.0,77.0,77.0,77.0,77.0,77.0,77.0,77.0,77.0,77.0,77.0,77.0,77.0,77.0,77.0,77.0,77.0,77.0,77.0,77.0,77.0,77.0,77.0,77.0,77.0,77.0,77.0,77.0,77.0,77.0,77.0,77.0,77.0,77.0,77.0,77.0,77.0,77.0,77.0,77.0,77.0,77.0,77.0,77.0,77.0,77.0,77.0,77.0,77.0,77.0,77.0,77.0,77.0,77.0,77.0,77.0,77.0,77.0,77.0,77.0,77.0,77.0,77.0,77.0,77.0,77.0,77.0,77.0,77.0,77.0,77.0,77.0,77.0,77.0,77.0,77.0,77.0,77.0,77.0,77.0,77.0,77.0,77.0,77.0,77.0,77.0,77.0,77.0,77.0,77.0,77.0,77.0,77.0,77.0,77.0,77.0,77.0,77.0,77.0,77.0,77.0,77.0,77.0,77.0,77.0,77.0,78.0,78.0,78.0,78.0,78.0,78.0,78.0,78.0,78.0,78.0,78.0,78.0,78.0,78.0,78.0,78.0,78.0,78.0,78.0,78.0,78.0,78.0,78.0,78.0,78.0,78.0,78.0,78.0,78.0,78.0,78.0,78.0,78.0,78.0,78.0,78.0,78.0,78.0,78.0,78.0,78.0,78.0,78.0,78.0,78.0,78.0,78.0,78.0,78.0,78.0,78.0,78.0,78.0,78.0,78.0,78.0,78.0,78.0,78.0,78.0,78.0,78.0,78.0,78.0,78.0,78.0,78.0,78.0,78.0,78.0,78.0,78.0,78.0,78.0,78.0,78.0,78.0,78.0,78.0,78.0,78.0,78.0,78.0,78.0,78.0,78.0,78.0,78.0,78.0,78.0,78.0,78.0,78.0,78.0,78.0,78.0,78.0,78.0,78.0,78.0,78.0,78.0,78.0,78.0,78.0,78.0,78.0,79.0,79.0,79.0,79.0,79.0,79.0,79.0,79.0,79.0,79.0,79.0,79.0,79.0,79.0,79.0,79.0,79.0,79.0,79.0,79.0,79.0,79.0,79.0,79.0,79.0,79.0,79.0,79.0,79.0,79.0,79.0,79.0,79.0,79.0,79.0,79.0,79.0,79.0,79.0,79.0,79.0,79.0,79.0,79.0,79.0,79.0,79.0,79.0,79.0,79.0,79.0,79.0,79.0,79.0,79.0,79.0,79.0,79.0,79.0,79.0,79.0,79.0,79.0,79.0,79.0,79.0,79.0,79.0,79.0,79.0,79.0,79.0,79.0,79.0,79.0,79.0,79.0,80.0,80.0,80.0,80.0,80.0,80.0,80.0,80.0,80.0,80.0,80.0,80.0,80.0,80.0,80.0,80.0,80.0,80.0,80.0,80.0,80.0,80.0,80.0,80.0,80.0,80.0,80.0,80.0,80.0,80.0,80.0,80.0,80.0,80.0,80.0,80.0,80.0,80.0,80.0,80.0,80.0,80.0,80.0,80.0,80.0,80.0,80.0,80.0,80.0,80.0,80.0,80.0,80.0,80.0,80.0,80.0,80.0,80.0,80.0,80.0,80.0,80.0,80.0,80.0,80.0,80.0,80.0,80.0,80.0,80.0,80.0,80.0,80.0,80.0,80.0,80.0,80.0,80.0,80.0,80.0,80.0,80.0,80.0,80.0,80.0,80.0,80.0,80.0,80.0,80.0,80.0,80.0,80.0,80.0,80.0,80.0,80.0,81.0,81.0,81.0,81.0,81.0,81.0,81.0,81.0,81.0,81.0,81.0,81.0,81.0,81.0,81.0,81.0,81.0,81.0,81.0,81.0,81.0,81.0,81.0,81.0,81.0,81.0,81.0,81.0,81.0,81.0,81.0,81.0,81.0,81.0,81.0,81.0,81.0,81.0,81.0,81.0,81.0,81.0,81.0,81.0,81.0,81.0,81.0,81.0,81.0,81.0,81.0,81.0,81.0,81.0,81.0,81.0,81.0,81.0,81.0,81.0,81.0,81.0,81.0,81.0,81.0,81.0,81.0,81.0,81.0,81.0,81.0,81.0,82.0,82.0,82.0,82.0,82.0,82.0,82.0,82.0,82.0,82.0,82.0,82.0,82.0,82.0,82.0,82.0,82.0,82.0,82.0,82.0,82.0,82.0,82.0,82.0,82.0,82.0,82.0,82.0,82.0,82.0,82.0,82.0,83.0,83.0,83.0,83.0,83.0,83.0,83.0,83.0,83.0,83.0,83.0,83.0,83.0,83.0,83.0,83.0,83.0,83.0,83.0,83.0,83.0,83.0,83.0,83.0,83.0,83.0,83.0,83.0,83.0,83.0,83.0,83.0,83.0,84.0,84.0,84.0,84.0,84.0,84.0,84.0,84.0,84.0,84.0,84.0,84.0,84.0,84.0,84.0,84.0,84.0,84.0,84.0,84.0,85.0,85.0,85.0,85.0,85.0,85.0,85.0,85.0,85.0,85.0,85.0,85.0,85.0,85.0,85.0,85.0,85.0,85.0,85.0,86.0,86.0,86.0,86.0,86.0,86.0,86.0,86.0,86.0,86.0,86.0,87.0,87.0,87.0,87.0,87.0,88.0,88.0,88.0,88.0,88.0,89.0,89.0,89.0,90.0,90.0,90.0,92.0,93.0],\"xaxis\":\"x\",\"y\":[61496505.582918525,61496505.582918525,61496505.582918525,61496505.582918525,61496505.582918525,61496505.582918525,61496505.582918525,61496505.582918525,61496505.582918525,61496505.582918525,61496505.582918525,61496505.582918525,61496505.582918525,61496505.582918525,61496505.582918525,61496505.582918525,61496505.582918525,61496505.582918525,61496505.582918525,61496505.582918525,61496505.582918525,61496505.582918525,61496505.582918525,61496505.582918525,61496505.582918525,61496505.582918525,61496505.582918525,61496505.582918525,61496505.582918525,61496505.582918525,61496505.582918525,61496505.582918525,61496505.582918525,61496505.582918525,61496505.582918525,61496505.582918525,61496505.582918525,61496505.582918525,61496505.582918525,61496505.582918525,61496505.582918525,61496505.582918525,61496505.582918525,61496505.582918525,61496505.582918525,61496505.582918525,61496505.582918525,61496505.582918525,61496505.582918525,61496505.582918525,61496505.582918525,61496505.582918525,61496505.582918525,61496505.582918525,61496505.582918525,61496505.582918525,61496505.582918525,61496505.582918525,61496505.582918525,61496505.582918525,61496505.582918525,61496505.582918525,61496505.582918525,61496505.582918525,61496505.582918525,61496505.582918525,61496505.582918525,61496505.582918525,61496505.582918525,61496505.582918525,61496505.582918525,61496505.582918525,61496505.582918525,61496505.582918525,61496505.582918525,61496505.582918525,61496505.582918525,61496505.582918525,61496505.582918525,61496505.582918525,61496505.582918525,61496505.582918525,61496505.582918525,61496505.582918525,61496505.582918525,61496505.582918525,61496505.582918525,61496505.582918525,61496505.582918525,61496505.582918525,61496505.582918525,61496505.582918525,61496505.582918525,61496505.582918525,61496505.582918525,61496505.582918525,61496505.582918525,61496505.582918525,61496505.582918525,61496505.582918525,61496505.582918525,61496505.582918525,61496505.582918525,61496505.582918525,61496505.582918525,61496505.582918525,66497691.06167996,66497691.06167996,66497691.06167996,66497691.06167996,66497691.06167996,66497691.06167996,66497691.06167996,66497691.06167996,66497691.06167996,66497691.06167996,66497691.06167996,66497691.06167996,66497691.06167996,66497691.06167996,66497691.06167996,66497691.06167996,66497691.06167996,66497691.06167996,66497691.06167996,66497691.06167996,66497691.06167996,66497691.06167996,66497691.06167996,66497691.06167996,66497691.06167996,66497691.06167996,66497691.06167996,66497691.06167996,66497691.06167996,66497691.06167996,66497691.06167996,66497691.06167996,66497691.06167996,66497691.06167996,66497691.06167996,66497691.06167996,66497691.06167996,66497691.06167996,66497691.06167996,66497691.06167996,66497691.06167996,66497691.06167996,66497691.06167996,66497691.06167996,66497691.06167996,66497691.06167996,66497691.06167996,66497691.06167996,66497691.06167996,66497691.06167996,66497691.06167996,66497691.06167996,66497691.06167996,66497691.06167996,66497691.06167996,66497691.06167996,66497691.06167996,66497691.06167996,66497691.06167996,66497691.06167996,66497691.06167996,66497691.06167996,66497691.06167996,66497691.06167996,66497691.06167996,66497691.06167996,66497691.06167996,66497691.06167996,66497691.06167996,66497691.06167996,66497691.06167996,66497691.06167996,66497691.06167996,66497691.06167996,66497691.06167996,66497691.06167996,66497691.06167996,66497691.06167996,66497691.06167996,66497691.06167996,66497691.06167996,66497691.06167996,66497691.06167996,66497691.06167996,66497691.06167996,66497691.06167996,66497691.06167996,66497691.06167996,66497691.06167996,66497691.06167996,66497691.06167996,66497691.06167996,66497691.06167996,66497691.06167996,66497691.06167996,66497691.06167996,66497691.06167996,66497691.06167996,66497691.06167996,66497691.06167996,66497691.06167996,66497691.06167996,66497691.06167996,66497691.06167996,66497691.06167996,66497691.06167996,66497691.06167996,66497691.06167996,66497691.06167996,66497691.06167996,66497691.06167996,66497691.06167996,66497691.06167996,66497691.06167996,66497691.06167996,66497691.06167996,66497691.06167996,66497691.06167996,66497691.06167996,66497691.06167996,66497691.06167996,71498876.54044133,71498876.54044133,71498876.54044133,71498876.54044133,71498876.54044133,71498876.54044133,71498876.54044133,71498876.54044133,71498876.54044133,71498876.54044133,71498876.54044133,71498876.54044133,71498876.54044133,71498876.54044133,71498876.54044133,71498876.54044133,71498876.54044133,71498876.54044133,71498876.54044133,71498876.54044133,71498876.54044133,71498876.54044133,71498876.54044133,71498876.54044133,71498876.54044133,71498876.54044133,71498876.54044133,71498876.54044133,71498876.54044133,71498876.54044133,71498876.54044133,71498876.54044133,71498876.54044133,71498876.54044133,71498876.54044133,71498876.54044133,71498876.54044133,71498876.54044133,71498876.54044133,71498876.54044133,71498876.54044133,71498876.54044133,71498876.54044133,71498876.54044133,71498876.54044133,71498876.54044133,71498876.54044133,71498876.54044133,71498876.54044133,71498876.54044133,71498876.54044133,71498876.54044133,71498876.54044133,71498876.54044133,71498876.54044133,71498876.54044133,71498876.54044133,71498876.54044133,71498876.54044133,71498876.54044133,71498876.54044133,71498876.54044133,71498876.54044133,71498876.54044133,71498876.54044133,71498876.54044133,71498876.54044133,71498876.54044133,71498876.54044133,71498876.54044133,71498876.54044133,71498876.54044133,71498876.54044133,71498876.54044133,71498876.54044133,71498876.54044133,71498876.54044133,71498876.54044133,71498876.54044133,71498876.54044133,71498876.54044133,71498876.54044133,71498876.54044133,71498876.54044133,71498876.54044133,71498876.54044133,71498876.54044133,71498876.54044133,71498876.54044133,71498876.54044133,71498876.54044133,71498876.54044133,71498876.54044133,71498876.54044133,71498876.54044133,71498876.54044133,71498876.54044133,71498876.54044133,71498876.54044133,71498876.54044133,71498876.54044133,71498876.54044133,71498876.54044133,71498876.54044133,71498876.54044133,71498876.54044133,71498876.54044133,76500062.01920277,76500062.01920277,76500062.01920277,76500062.01920277,76500062.01920277,76500062.01920277,76500062.01920277,76500062.01920277,76500062.01920277,76500062.01920277,76500062.01920277,76500062.01920277,76500062.01920277,76500062.01920277,76500062.01920277,76500062.01920277,76500062.01920277,76500062.01920277,76500062.01920277,76500062.01920277,76500062.01920277,76500062.01920277,76500062.01920277,76500062.01920277,76500062.01920277,76500062.01920277,76500062.01920277,76500062.01920277,76500062.01920277,76500062.01920277,76500062.01920277,76500062.01920277,76500062.01920277,76500062.01920277,76500062.01920277,76500062.01920277,76500062.01920277,76500062.01920277,76500062.01920277,76500062.01920277,76500062.01920277,76500062.01920277,76500062.01920277,76500062.01920277,76500062.01920277,76500062.01920277,76500062.01920277,76500062.01920277,76500062.01920277,76500062.01920277,76500062.01920277,76500062.01920277,76500062.01920277,76500062.01920277,76500062.01920277,76500062.01920277,76500062.01920277,76500062.01920277,76500062.01920277,76500062.01920277,76500062.01920277,76500062.01920277,76500062.01920277,76500062.01920277,76500062.01920277,76500062.01920277,76500062.01920277,76500062.01920277,76500062.01920277,76500062.01920277,76500062.01920277,76500062.01920277,76500062.01920277,76500062.01920277,76500062.01920277,76500062.01920277,76500062.01920277,81501247.49796414,81501247.49796414,81501247.49796414,81501247.49796414,81501247.49796414,81501247.49796414,81501247.49796414,81501247.49796414,81501247.49796414,81501247.49796414,81501247.49796414,81501247.49796414,81501247.49796414,81501247.49796414,81501247.49796414,81501247.49796414,81501247.49796414,81501247.49796414,81501247.49796414,81501247.49796414,81501247.49796414,81501247.49796414,81501247.49796414,81501247.49796414,81501247.49796414,81501247.49796414,81501247.49796414,81501247.49796414,81501247.49796414,81501247.49796414,81501247.49796414,81501247.49796414,81501247.49796414,81501247.49796414,81501247.49796414,81501247.49796414,81501247.49796414,81501247.49796414,81501247.49796414,81501247.49796414,81501247.49796414,81501247.49796414,81501247.49796414,81501247.49796414,81501247.49796414,81501247.49796414,81501247.49796414,81501247.49796414,81501247.49796414,81501247.49796414,81501247.49796414,81501247.49796414,81501247.49796414,81501247.49796414,81501247.49796414,81501247.49796414,81501247.49796414,81501247.49796414,81501247.49796414,81501247.49796414,81501247.49796414,81501247.49796414,81501247.49796414,81501247.49796414,81501247.49796414,81501247.49796414,81501247.49796414,81501247.49796414,81501247.49796414,81501247.49796414,81501247.49796414,81501247.49796414,81501247.49796414,81501247.49796414,81501247.49796414,81501247.49796414,81501247.49796414,81501247.49796414,81501247.49796414,81501247.49796414,81501247.49796414,81501247.49796414,81501247.49796414,81501247.49796414,81501247.49796414,81501247.49796414,81501247.49796414,81501247.49796414,81501247.49796414,81501247.49796414,81501247.49796414,81501247.49796414,81501247.49796414,81501247.49796414,81501247.49796414,81501247.49796414,81501247.49796414,86502432.97672558,86502432.97672558,86502432.97672558,86502432.97672558,86502432.97672558,86502432.97672558,86502432.97672558,86502432.97672558,86502432.97672558,86502432.97672558,86502432.97672558,86502432.97672558,86502432.97672558,86502432.97672558,86502432.97672558,86502432.97672558,86502432.97672558,86502432.97672558,86502432.97672558,86502432.97672558,86502432.97672558,86502432.97672558,86502432.97672558,86502432.97672558,86502432.97672558,86502432.97672558,86502432.97672558,86502432.97672558,86502432.97672558,86502432.97672558,86502432.97672558,86502432.97672558,86502432.97672558,86502432.97672558,86502432.97672558,86502432.97672558,86502432.97672558,86502432.97672558,86502432.97672558,86502432.97672558,86502432.97672558,86502432.97672558,86502432.97672558,86502432.97672558,86502432.97672558,86502432.97672558,86502432.97672558,86502432.97672558,86502432.97672558,86502432.97672558,86502432.97672558,86502432.97672558,86502432.97672558,86502432.97672558,86502432.97672558,86502432.97672558,86502432.97672558,86502432.97672558,86502432.97672558,86502432.97672558,86502432.97672558,86502432.97672558,86502432.97672558,86502432.97672558,86502432.97672558,86502432.97672558,86502432.97672558,86502432.97672558,86502432.97672558,86502432.97672558,86502432.97672558,86502432.97672558,91503618.45548701,91503618.45548701,91503618.45548701,91503618.45548701,91503618.45548701,91503618.45548701,91503618.45548701,91503618.45548701,91503618.45548701,91503618.45548701,91503618.45548701,91503618.45548701,91503618.45548701,91503618.45548701,91503618.45548701,91503618.45548701,91503618.45548701,91503618.45548701,91503618.45548701,91503618.45548701,91503618.45548701,91503618.45548701,91503618.45548701,91503618.45548701,91503618.45548701,91503618.45548701,91503618.45548701,91503618.45548701,91503618.45548701,91503618.45548701,91503618.45548701,91503618.45548701,96504803.93424839,96504803.93424839,96504803.93424839,96504803.93424839,96504803.93424839,96504803.93424839,96504803.93424839,96504803.93424839,96504803.93424839,96504803.93424839,96504803.93424839,96504803.93424839,96504803.93424839,96504803.93424839,96504803.93424839,96504803.93424839,96504803.93424839,96504803.93424839,96504803.93424839,96504803.93424839,96504803.93424839,96504803.93424839,96504803.93424839,96504803.93424839,96504803.93424839,96504803.93424839,96504803.93424839,96504803.93424839,96504803.93424839,96504803.93424839,96504803.93424839,96504803.93424839,96504803.93424839,101505989.41300982,101505989.41300982,101505989.41300982,101505989.41300982,101505989.41300982,101505989.41300982,101505989.41300982,101505989.41300982,101505989.41300982,101505989.41300982,101505989.41300982,101505989.41300982,101505989.41300982,101505989.41300982,101505989.41300982,101505989.41300982,101505989.41300982,101505989.41300982,101505989.41300982,101505989.41300982,106507174.8917712,106507174.8917712,106507174.8917712,106507174.8917712,106507174.8917712,106507174.8917712,106507174.8917712,106507174.8917712,106507174.8917712,106507174.8917712,106507174.8917712,106507174.8917712,106507174.8917712,106507174.8917712,106507174.8917712,106507174.8917712,106507174.8917712,106507174.8917712,106507174.8917712,111508360.37053263,111508360.37053263,111508360.37053263,111508360.37053263,111508360.37053263,111508360.37053263,111508360.37053263,111508360.37053263,111508360.37053263,111508360.37053263,111508360.37053263,116509545.849294,116509545.849294,116509545.849294,116509545.849294,116509545.849294,121510731.32805544,121510731.32805544,121510731.32805544,121510731.32805544,121510731.32805544,126511916.80681682,126511916.80681682,126511916.80681682,131513102.28557825,131513102.28557825,131513102.28557825,141515473.24310106,146516658.72186244],\"yaxis\":\"y\",\"type\":\"scatter\"},{\"hovertemplate\":\"Meta_score=%{x}\\u003cbr\\u003eGross=%{y}\\u003cbr\\u003eIMDB_Rating=%{marker.color}\\u003cextra\\u003e\\u003c\\u002fextra\\u003e\",\"legendgroup\":\"\",\"line\":{\"color\":\"black\"},\"marker\":{\"color\":[93.0,92.0,90.0,90.0,90.0,89.0,89.0,89.0,88.0,88.0,88.0,88.0,88.0,87.0,87.0,87.0,87.0,87.0,86.0,86.0,86.0,86.0,86.0,86.0,86.0,86.0,86.0,86.0,86.0,85.0,85.0,85.0,85.0,85.0,85.0,85.0,85.0,85.0,85.0,85.0,85.0,85.0,85.0,85.0,85.0,85.0,85.0,85.0,84.0,84.0,84.0,84.0,84.0,84.0,84.0,84.0,84.0,84.0,84.0,84.0,84.0,84.0,84.0,84.0,84.0,84.0,84.0,84.0,83.0,83.0,83.0,83.0,83.0,83.0,83.0,83.0,83.0,83.0,83.0,83.0,83.0,83.0,83.0,83.0,83.0,83.0,83.0,83.0,83.0,83.0,83.0,83.0,83.0,83.0,83.0,83.0,83.0,83.0,83.0,83.0,83.0,82.0,82.0,82.0,82.0,82.0,82.0,82.0,82.0,82.0,82.0,82.0,82.0,82.0,82.0,82.0,82.0,82.0,82.0,82.0,82.0,82.0,82.0,82.0,82.0,82.0,82.0,82.0,82.0,82.0,82.0,82.0,82.0,81.0,81.0,81.0,81.0,81.0,81.0,81.0,81.0,81.0,81.0,81.0,81.0,81.0,81.0,81.0,81.0,81.0,81.0,81.0,81.0,81.0,81.0,81.0,81.0,81.0,81.0,81.0,81.0,81.0,81.0,81.0,81.0,81.0,81.0,81.0,81.0,81.0,81.0,81.0,81.0,81.0,81.0,81.0,81.0,81.0,81.0,81.0,81.0,81.0,81.0,81.0,81.0,81.0,81.0,81.0,81.0,81.0,81.0,81.0,81.0,81.0,81.0,81.0,81.0,81.0,81.0,81.0,81.0,81.0,81.0,81.0,81.0,80.0,80.0,80.0,80.0,80.0,80.0,80.0,80.0,80.0,80.0,80.0,80.0,80.0,80.0,80.0,80.0,80.0,80.0,80.0,80.0,80.0,80.0,80.0,80.0,80.0,80.0,80.0,80.0,80.0,80.0,80.0,80.0,80.0,80.0,80.0,80.0,80.0,80.0,80.0,80.0,80.0,80.0,80.0,80.0,80.0,80.0,80.0,80.0,80.0,80.0,80.0,80.0,80.0,80.0,80.0,80.0,80.0,80.0,80.0,80.0,80.0,80.0,80.0,80.0,80.0,80.0,80.0,80.0,80.0,80.0,80.0,80.0,80.0,80.0,80.0,80.0,80.0,80.0,80.0,80.0,80.0,80.0,80.0,80.0,80.0,80.0,80.0,80.0,80.0,80.0,80.0,80.0,80.0,80.0,80.0,80.0,80.0,79.0,79.0,79.0,79.0,79.0,79.0,79.0,79.0,79.0,79.0,79.0,79.0,79.0,79.0,79.0,79.0,79.0,79.0,79.0,79.0,79.0,79.0,79.0,79.0,79.0,79.0,79.0,79.0,79.0,79.0,79.0,79.0,79.0,79.0,79.0,79.0,79.0,79.0,79.0,79.0,79.0,79.0,79.0,79.0,79.0,79.0,79.0,79.0,79.0,79.0,79.0,79.0,79.0,79.0,79.0,79.0,79.0,79.0,79.0,79.0,79.0,79.0,79.0,79.0,79.0,79.0,79.0,79.0,79.0,79.0,79.0,79.0,79.0,79.0,79.0,79.0,79.0,78.0,78.0,78.0,78.0,78.0,78.0,78.0,78.0,78.0,78.0,78.0,78.0,78.0,78.0,78.0,78.0,78.0,78.0,78.0,78.0,78.0,78.0,78.0,78.0,78.0,78.0,78.0,78.0,78.0,78.0,78.0,78.0,78.0,78.0,78.0,78.0,78.0,78.0,78.0,78.0,78.0,78.0,78.0,78.0,78.0,78.0,78.0,78.0,78.0,78.0,78.0,78.0,78.0,78.0,78.0,78.0,78.0,78.0,78.0,78.0,78.0,78.0,78.0,78.0,78.0,78.0,78.0,78.0,78.0,78.0,78.0,78.0,78.0,78.0,78.0,78.0,78.0,78.0,78.0,78.0,78.0,78.0,78.0,78.0,78.0,78.0,78.0,78.0,78.0,78.0,78.0,78.0,78.0,78.0,78.0,78.0,78.0,78.0,78.0,78.0,78.0,78.0,78.0,78.0,78.0,78.0,78.0,77.0,77.0,77.0,77.0,77.0,77.0,77.0,77.0,77.0,77.0,77.0,77.0,77.0,77.0,77.0,77.0,77.0,77.0,77.0,77.0,77.0,77.0,77.0,77.0,77.0,77.0,77.0,77.0,77.0,77.0,77.0,77.0,77.0,77.0,77.0,77.0,77.0,77.0,77.0,77.0,77.0,77.0,77.0,77.0,77.0,77.0,77.0,77.0,77.0,77.0,77.0,77.0,77.0,77.0,77.0,77.0,77.0,77.0,77.0,77.0,77.0,77.0,77.0,77.0,77.0,77.0,77.0,77.0,77.0,77.0,77.0,77.0,77.0,77.0,77.0,77.0,77.0,77.0,77.0,77.0,77.0,77.0,77.0,77.0,77.0,77.0,77.0,77.0,77.0,77.0,77.0,77.0,77.0,77.0,77.0,77.0,77.0,77.0,77.0,77.0,77.0,77.0,77.0,77.0,77.0,77.0,77.0,77.0,77.0,77.0,77.0,77.0,77.0,77.0,77.0,77.0,77.0,77.0,77.0,77.0,77.0,76.0,76.0,76.0,76.0,76.0,76.0,76.0,76.0,76.0,76.0,76.0,76.0,76.0,76.0,76.0,76.0,76.0,76.0,76.0,76.0,76.0,76.0,76.0,76.0,76.0,76.0,76.0,76.0,76.0,76.0,76.0,76.0,76.0,76.0,76.0,76.0,76.0,76.0,76.0,76.0,76.0,76.0,76.0,76.0,76.0,76.0,76.0,76.0,76.0,76.0,76.0,76.0,76.0,76.0,76.0,76.0,76.0,76.0,76.0,76.0,76.0,76.0,76.0,76.0,76.0,76.0,76.0,76.0,76.0,76.0,76.0,76.0,76.0,76.0,76.0,76.0,76.0,76.0,76.0,76.0,76.0,76.0,76.0,76.0,76.0,76.0,76.0,76.0,76.0,76.0,76.0,76.0,76.0,76.0,76.0,76.0,76.0,76.0,76.0,76.0,76.0,76.0,76.0,76.0,76.0,76.0],\"coloraxis\":\"coloraxis\",\"symbol\":\"circle\"},\"mode\":\"markers\",\"name\":\"\",\"orientation\":\"v\",\"showlegend\":false,\"x\":[80.0,100.0,84.0,90.0,96.0,94.0,94.0,94.0,74.0,66.0,92.0,82.0,90.0,87.0,73.0,90.0,82.0,83.0,96.0,74.0,79.0,96.0,91.0,61.0,59.0,65.0,85.0,90.0,98.0,59.0,88.0,57.0,66.0,85.0,85.0,67.0,62.0,77.0,64.0,88.0,75.0,80.0,87.0,80.0,97.0,100.0,96.0,99.0,75.0,79.0,87.0,78.0,68.0,81.0,81.0,78.0,67.0,95.0,89.0,77.0,80.0,76.0,85.0,66.0,94.0,89.0,97.0,100.0,78.0,77.0,95.0,80.0,69.0,89.0,69.0,55.0,68.0,84.0,70.0,77.0,95.0,68.0,79.0,76.0,84.0,88.0,65.0,58.0,86.0,94.0,83.0,77.0,84.0,74.0,100.0,94.0,98.0,100.0,99.0,95.0,100.0,69.0,88.0,80.0,71.0,63.0,88.0,75.0,68.0,93.0,98.0,92.0,62.0,70.0,82.0,80.0,72.0,66.0,90.0,76.0,73.0,85.0,65.0,86.0,72.0,96.0,89.0,91.0,86.0,98.0,75.0,98.0,98.0,95.0,84.0,74.0,77.0,86.0,77.0,88.0,79.0,71.0,94.0,96.0,74.0,81.0,93.0,85.0,70.0,90.0,72.0,85.0,68.0,75.0,73.0,91.0,86.0,79.0,64.0,90.0,82.0,69.0,90.0,75.0,83.0,79.0,84.0,64.0,58.0,90.0,73.0,71.0,85.0,83.0,85.0,77.0,100.0,77.0,68.0,84.0,79.0,75.0,92.0,78.0,86.0,57.0,47.0,100.0,84.0,77.0,86.0,70.0,92.0,77.0,92.0,75.0,90.0,87.0,91.0,72.0,97.0,86.0,73.0,97.0,87.0,94.0,69.0,80.0,78.0,89.0,66.0,65.0,82.0,71.0,73.0,76.0,81.0,90.0,49.0,76.0,67.0,88.0,62.0,65.0,87.0,50.0,84.0,79.0,33.0,69.0,90.0,80.0,64.0,64.0,85.0,72.0,74.0,92.0,96.0,80.0,83.0,85.0,74.0,69.0,54.0,75.0,63.0,58.0,90.0,60.0,88.0,77.0,61.0,86.0,82.0,80.0,85.0,84.0,91.0,74.0,76.0,82.0,72.0,47.0,59.0,86.0,72.0,95.0,72.0,93.0,65.0,77.0,79.0,88.0,84.0,79.0,83.0,92.0,87.0,86.0,80.0,58.0,81.0,93.0,67.0,100.0,66.0,79.0,83.0,63.0,69.0,65.0,90.0,95.0,93.0,99.0,84.0,97.0,93.0,96.0,92.0,91.0,82.0,93.0,94.0,93.0,78.0,82.0,81.0,72.0,79.0,74.0,76.0,58.0,81.0,80.0,94.0,75.0,89.0,71.0,94.0,94.0,90.0,67.0,82.0,81.0,80.0,100.0,82.0,67.0,89.0,64.0,79.0,83.0,56.0,79.0,76.0,84.0,82.0,85.0,86.0,84.0,61.0,68.0,80.0,84.0,90.0,85.0,88.0,85.0,77.0,59.0,85.0,65.0,74.0,97.0,77.0,79.0,90.0,84.0,92.0,77.0,60.0,83.0,72.0,71.0,84.0,76.0,93.0,91.0,97.0,75.0,83.0,87.0,89.0,88.0,100.0,97.0,90.0,85.0,94.0,74.0,88.0,84.0,96.0,75.0,65.0,75.0,68.0,91.0,62.0,85.0,76.0,74.0,55.0,83.0,84.0,49.0,84.0,76.0,81.0,71.0,82.0,72.0,79.0,66.0,82.0,76.0,79.0,51.0,55.0,88.0,58.0,85.0,78.0,76.0,83.0,63.0,68.0,80.0,81.0,70.0,67.0,51.0,82.0,68.0,73.0,74.0,72.0,53.0,75.0,82.0,91.0,61.0,83.0,48.0,94.0,87.0,73.0,44.0,84.0,71.0,84.0,75.0,64.0,61.0,76.0,70.0,73.0,50.0,55.0,84.0,87.0,80.0,68.0,86.0,76.0,75.0,74.0,78.0,57.0,65.0,45.0,72.0,61.0,75.0,62.0,78.0,66.0,76.0,71.0,91.0,73.0,91.0,77.0,69.0,85.0,73.0,80.0,80.0,67.0,79.0,95.0,88.0,75.0,88.0,66.0,73.0,85.0,86.0,70.0,76.0,72.0,72.0,60.0,69.0,74.0,87.0,89.0,40.0,70.0,87.0,72.0,70.0,81.0,83.0,96.0,72.0,95.0,65.0,73.0,81.0,81.0,86.0,76.0,65.0,86.0,80.0,81.0,63.0,45.0,78.0,78.0,74.0,78.0,53.0,70.0,78.0,71.0,71.0,87.0,76.0,66.0,78.0,73.0,61.0,73.0,89.0,81.0,47.0,80.0,55.0,83.0,68.0,76.0,28.0,83.0,74.0,72.0,60.0,74.0,85.0,74.0,62.0,69.0,73.0,68.0,69.0,86.0,90.0,67.0,52.0,73.0,76.0,87.0,47.0,83.0,81.0,70.0,79.0,66.0,64.0,73.0,76.0,82.0,62.0,64.0,69.0,66.0,83.0,84.0,76.0,62.0,54.0,76.0,75.0,90.0,77.0,67.0,61.0,86.0,78.0,87.0,71.0,73.0,87.0,83.0,80.0,94.0,90.0,86.0,72.0,87.0,90.0,74.0,91.0,96.0,71.0,83.0,86.0,92.0,60.0,70.0,83.0,67.0,86.0,72.0,81.0,80.0,81.0,82.0,82.0,92.0,88.0,77.0,79.0,73.0,68.0,80.0,88.0,80.0,65.0,72.0,72.0,66.0,87.0,70.0,73.0,57.0,53.0,79.0,36.0,82.0,66.0,76.0,72.0,66.0,70.0,68.0,78.0,52.0,72.0,56.0,62.0,46.0,67.0,73.0,45.0,76.0,81.0,70.0,56.0,67.0,68.0,30.0,73.0,76.0,88.0,64.0,74.0,52.0,53.0,80.0,74.0,64.0,77.0,78.0,71.0,41.0,66.0,49.0,52.0,84.0,58.0,62.0,69.0,88.0,56.0,78.0,68.0,90.0,66.0,63.0,60.0,76.0,88.0,76.0,72.0,68.0,82.0,68.0,77.0,65.0,74.0,76.0,59.0,90.0,87.0,77.0,50.0,65.0,96.0,85.0],\"xaxis\":\"x2\",\"y\":[28341469,134966411,534858444,57300000,4360000,377845905,107928762,96898818,292576195,37030102,315544750,330252182,6100000,342551365,171479930,46836394,290475067,112000000,53367844,188020017,7563397,10055859,216540909,136801374,57598247,100125643,130742922,322740140,269061,335451311,13092000,13182281,53089891,132384315,32572577,187705427,6719864,23341568,19501238,422783777,204843350,11990401,210609762,5321508,32000000,1024560,163245,19181,1661096,5017246,190241310,858373000,678815482,209726015,162805434,448139099,6532908,223808164,11286112,707481,25544867,2375308,248159971,44017374,83471511,78900000,275902,36764313,159227644,687185,7098492,6857096,120540719,34400301,33225499,30328156,3635482,130096601,138433435,933933,191796233,75600000,2832029,46357676,85160248,51973029,45598982,309125409,11487676,28262574,159600000,6207725,56954992,15000000,44824144,18600000,13275000,3200000,8819028,5720000,1585634,85080171,54513740,6391436,13657115,128012934,293004164,116900694,1113541,40222514,37634615,415004880,70511035,206852432,5509040,4711096,170742341,3897569,64616940,67436818,42438300,101157447,197171806,1105564,83008852,4135750,23383987,1229197,12100000,25000000,12562,10177,5014000,3759854,2006788,3492754,226277068,14677674,3107072,59100318,167767189,67209615,356461711,56671993,26947624,117624028,45055776,857524,61002302,154058340,148095302,381011219,1498210,217581231,18354356,74283625,100492203,23530892,1111061,5820649,14131,70099045,380843261,164615351,5383834,289916256,70147,293506292,259127,125618201,348660,17498804,2734044,16501785,24611975,5535405,4043686,600200,402453882,25010410,95860116,52287414,138530565,2181987,495770,13782838,22244207,4971340,32868943,20045115,48979328,117235247,29000000,30933743,16217773,4050000,74700000,44908000,9600000,3969893,449191,4360000,9600000,198676459,4360000,151101803,51739495,228433663,341268248,1506975,132422809,5566534,1010414,2625803,91125683,333176600,92054159,25568251,216428042,183637894,17738570,138797449,169708112,363070709,106662,4018695,141319928,106954678,8060,623279547,4445756,27298285,163566459,57366262,227471070,238507,74103820,5990075,206445654,167445960,66208183,2380788,2086345,61649911,1787378,169659,305413918,66257002,261441092,1530386,1480006,22455976,4184036,6203044,1647780,5595428,23159305,24475416,13417292,57141459,515905,75082668,70906973,4496583,63895607,217350219,70405498,218967620,184208848,27545445,178800000,30857814,3333969,4542825,38400000,52767889,30177511,39200000,260000000,50000000,86300000,53267000,232906145,29133000,80500000,541940,102308889,33395426,104945305,163214286,111722000,14500000,8284000,19516000,12535000,2237659,17570324,8000000,23650000,55000,2076020,3270000,165359751,3313513,2000000,18095701,258168,32015231,5202582,5875006,3237118,315058289,32381218,349555,100546139,936662225,8114627,233921534,44671682,100206256,6739492,7000000,2084637,5009677,2122065,115646235,26236603,25379975,257730019,7757130,13756082,2280348,124987023,21002919,3635164,318412101,13542874,90135191,249358727,53710019,9284265,1059830,1000045,121661683,1221261,35552383,32534850,7220243,245852179,26400640,2201126,12281500,1324974,36948322,56362352,14743391,18254702,76270454,40084041,9929135,188751,20605209,57229890,45700000,37823676,5100000,70600000,61001,198809,61700000,12064472,24379978,13474588,30000000,9450000,7630000,10464000,3981000,10000000,2402067,188373161,169607287,40442052,48023088,47695120,435266,532177324,408084349,54117416,108101214,6735118,1330596,4231500,222527828,15322921,5209580,434038008,85433,45512466,177002924,70259870,102515793,107100855,161197785,547292,258366855,2222647,10095170,93617009,145000989,9030581,9439923,303003568,50927067,35061555,130164645,760507625,3600,50866635,59891098,23637265,127509326,2921738,1305,38405088,5128124,128985,25514517,119519402,81001787,16756372,181655,7002255,54234062,2892011,115654751,128078872,8264530,233632142,25812,28965197,32481825,267665011,659325379,12339633,48323648,4040691,5887457,9170214,56505065,32416586,22954968,183875760,17266971,2015810,1999955,57504069,61276872,52096475,26830000,118500000,34603943,59735548,5923044,70136369,1436000,61503218,98467863,45875171,34700291,238632124,21500000,2500000,435110554,106260000,31800000,4420000,193817,16056255,42765000,4000000,44785053,72000000,102272727,39100000,2616000,324591735,33800859,176040665,220159104,3358518,3333000,765127,35893537,128261724,124872350,6743776,42340598,2199675,1122527,259766572,17654912,189422889,1339152,56816662,257760692,274092705,228778661,96962694,146408305,277322503,304360277,132092958,136025503,32391374,295983305,15090400,18593156,881302,35739802,1752214,25442958,412544,17605861,33080084,22494487,1054361,871577,200821936,4398392,83043761,53606916,54580300,17108591,176241941,1082715,75331600,44585453,290013036,77911774,75286229,111110575,4890878,4064200,15539266,40311852,22245861,108638745,104454762,141072,21995263,3029081,183417150,151086,45512588,52037603,10824921,76631907,17105219,22858926,148478011,63540020,4065116,41909762,35811509,56116183,10019307,21848932,3151130,6110979,77324422,27281507,48169908,75505856,10725228,141340178,82418501,6153939,5080409,156452370,1544889,43984230,22238696,7153487,8551228,10631333,10600000,54000000,78912963,47212904,54800000,83400000,47000000,1924733,119500000,29800000,25000000,7056013,15630710,35900000,44527234,28350000,51081062,11403529,4905000,536118,76408097,26020957,142502728,566356,5904366,24801212,13122642,845464,389813101,107825862,18340051,72313754,608581744,248757044,46889293,109767581,1092800,26862450,37707719,208545589,4105123,41003371,19202743,215288866,171243005,1008098,251513985,35014192,48071303,75605492,3185812,75590286,209028679,255959475,9422422,69951824,17114882,38634938,88513495,20300218,10301706,24633730,39868642,301959197,210614939,23089926,107509799,24149632,56000369,3081925,697181,548707,6167817,5739376,16290476,45289,51680613,13060843,57938693,45064915,52364010,13622333,317575550,96522687,52990775,51401758,132072926,50668906,15070285,7267585,36400491,120620254,10680275,14378331,49100000,3796699,43182776,100012499,1037847,71516617,1464625,40903593,7993039,52929168,453243,1794187,285761243,66666062,92823600,111543479,78756177,49530280,65207127,2150000,119285432,12465371,22490039,76657000,43000000,35000000,132088635,959000,696690,1378435,141843612,13780024,30500000],\"yaxis\":\"y2\",\"type\":\"scatter\"},{\"hovertemplate\":\"\\u003cb\\u003eOLS trendline\\u003c\\u002fb\\u003e\\u003cbr\\u003eGross = -137093 * Meta_score + 8.89577e+07\\u003cbr\\u003eR\\u003csup\\u003e2\\u003c\\u002fsup\\u003e=0.000219\\u003cbr\\u003e\\u003cbr\\u003eMeta_score=%{x}\\u003cbr\\u003eGross=%{y} \\u003cb\\u003e(trend)\\u003c\\u002fb\\u003e\\u003cextra\\u003e\\u003c\\u002fextra\\u003e\",\"legendgroup\":\"\",\"line\":{\"color\":\"black\"},\"marker\":{\"symbol\":\"circle\"},\"mode\":\"lines\",\"name\":\"\",\"showlegend\":false,\"x\":[28.0,30.0,33.0,36.0,40.0,41.0,44.0,45.0,45.0,45.0,46.0,47.0,47.0,47.0,47.0,48.0,49.0,49.0,49.0,50.0,50.0,50.0,51.0,51.0,52.0,52.0,52.0,52.0,53.0,53.0,53.0,53.0,54.0,54.0,55.0,55.0,55.0,55.0,55.0,56.0,56.0,56.0,56.0,57.0,57.0,57.0,57.0,58.0,58.0,58.0,58.0,58.0,58.0,58.0,59.0,59.0,59.0,59.0,59.0,60.0,60.0,60.0,60.0,60.0,60.0,61.0,61.0,61.0,61.0,61.0,61.0,61.0,61.0,62.0,62.0,62.0,62.0,62.0,62.0,62.0,62.0,62.0,62.0,63.0,63.0,63.0,63.0,63.0,63.0,64.0,64.0,64.0,64.0,64.0,64.0,64.0,64.0,64.0,64.0,64.0,65.0,65.0,65.0,65.0,65.0,65.0,65.0,65.0,65.0,65.0,65.0,65.0,65.0,65.0,65.0,66.0,66.0,66.0,66.0,66.0,66.0,66.0,66.0,66.0,66.0,66.0,66.0,66.0,66.0,66.0,66.0,66.0,67.0,67.0,67.0,67.0,67.0,67.0,67.0,67.0,67.0,67.0,67.0,67.0,67.0,68.0,68.0,68.0,68.0,68.0,68.0,68.0,68.0,68.0,68.0,68.0,68.0,68.0,68.0,68.0,68.0,68.0,68.0,68.0,69.0,69.0,69.0,69.0,69.0,69.0,69.0,69.0,69.0,69.0,69.0,69.0,69.0,69.0,70.0,70.0,70.0,70.0,70.0,70.0,70.0,70.0,70.0,70.0,70.0,70.0,70.0,70.0,70.0,71.0,71.0,71.0,71.0,71.0,71.0,71.0,71.0,71.0,71.0,71.0,71.0,71.0,71.0,72.0,72.0,72.0,72.0,72.0,72.0,72.0,72.0,72.0,72.0,72.0,72.0,72.0,72.0,72.0,72.0,72.0,72.0,72.0,72.0,72.0,72.0,72.0,72.0,72.0,73.0,73.0,73.0,73.0,73.0,73.0,73.0,73.0,73.0,73.0,73.0,73.0,73.0,73.0,73.0,73.0,73.0,73.0,73.0,73.0,73.0,73.0,73.0,74.0,74.0,74.0,74.0,74.0,74.0,74.0,74.0,74.0,74.0,74.0,74.0,74.0,74.0,74.0,74.0,74.0,74.0,74.0,74.0,74.0,74.0,74.0,75.0,75.0,75.0,75.0,75.0,75.0,75.0,75.0,75.0,75.0,75.0,75.0,75.0,75.0,75.0,75.0,75.0,75.0,75.0,76.0,76.0,76.0,76.0,76.0,76.0,76.0,76.0,76.0,76.0,76.0,76.0,76.0,76.0,76.0,76.0,76.0,76.0,76.0,76.0,76.0,76.0,76.0,76.0,76.0,76.0,76.0,76.0,76.0,76.0,77.0,77.0,77.0,77.0,77.0,77.0,77.0,77.0,77.0,77.0,77.0,77.0,77.0,77.0,77.0,77.0,77.0,77.0,77.0,77.0,77.0,77.0,78.0,78.0,78.0,78.0,78.0,78.0,78.0,78.0,78.0,78.0,78.0,78.0,78.0,78.0,78.0,78.0,78.0,78.0,79.0,79.0,79.0,79.0,79.0,79.0,79.0,79.0,79.0,79.0,79.0,79.0,79.0,79.0,79.0,79.0,79.0,79.0,79.0,79.0,79.0,80.0,80.0,80.0,80.0,80.0,80.0,80.0,80.0,80.0,80.0,80.0,80.0,80.0,80.0,80.0,80.0,80.0,80.0,80.0,80.0,80.0,80.0,80.0,80.0,80.0,80.0,81.0,81.0,81.0,81.0,81.0,81.0,81.0,81.0,81.0,81.0,81.0,81.0,81.0,81.0,81.0,81.0,81.0,81.0,81.0,82.0,82.0,82.0,82.0,82.0,82.0,82.0,82.0,82.0,82.0,82.0,82.0,82.0,82.0,82.0,82.0,82.0,82.0,82.0,82.0,82.0,83.0,83.0,83.0,83.0,83.0,83.0,83.0,83.0,83.0,83.0,83.0,83.0,83.0,83.0,83.0,83.0,83.0,83.0,83.0,83.0,83.0,84.0,84.0,84.0,84.0,84.0,84.0,84.0,84.0,84.0,84.0,84.0,84.0,84.0,84.0,84.0,84.0,84.0,84.0,84.0,84.0,84.0,84.0,84.0,84.0,84.0,85.0,85.0,85.0,85.0,85.0,85.0,85.0,85.0,85.0,85.0,85.0,85.0,85.0,85.0,85.0,85.0,85.0,85.0,85.0,85.0,85.0,85.0,85.0,86.0,86.0,86.0,86.0,86.0,86.0,86.0,86.0,86.0,86.0,86.0,86.0,86.0,86.0,86.0,86.0,86.0,86.0,86.0,86.0,86.0,87.0,87.0,87.0,87.0,87.0,87.0,87.0,87.0,87.0,87.0,87.0,87.0,87.0,87.0,87.0,87.0,87.0,87.0,87.0,88.0,88.0,88.0,88.0,88.0,88.0,88.0,88.0,88.0,88.0,88.0,88.0,88.0,88.0,88.0,88.0,88.0,88.0,88.0,88.0,89.0,89.0,89.0,89.0,89.0,89.0,89.0,89.0,89.0,89.0,90.0,90.0,90.0,90.0,90.0,90.0,90.0,90.0,90.0,90.0,90.0,90.0,90.0,90.0,90.0,90.0,90.0,90.0,90.0,90.0,90.0,90.0,90.0,90.0,91.0,91.0,91.0,91.0,91.0,91.0,91.0,91.0,91.0,91.0,91.0,91.0,92.0,92.0,92.0,92.0,92.0,92.0,92.0,92.0,92.0,92.0,92.0,93.0,93.0,93.0,93.0,93.0,93.0,93.0,93.0,93.0,94.0,94.0,94.0,94.0,94.0,94.0,94.0,94.0,94.0,94.0,94.0,94.0,94.0,94.0,94.0,95.0,95.0,95.0,95.0,95.0,95.0,95.0,95.0,95.0,96.0,96.0,96.0,96.0,96.0,96.0,96.0,96.0,96.0,96.0,96.0,96.0,97.0,97.0,97.0,97.0,97.0,97.0,97.0,97.0,98.0,98.0,98.0,98.0,98.0,98.0,99.0,99.0,99.0,100.0,100.0,100.0,100.0,100.0,100.0,100.0,100.0,100.0,100.0,100.0],\"xaxis\":\"x2\",\"y\":[85119150.57992138,84844965.56220475,84433688.03562981,84022410.50905485,83474040.4736216,83336947.96476328,82925670.43818834,82788577.92933002,82788577.92933002,82788577.92933002,82651485.42047171,82514392.9116134,82514392.9116134,82514392.9116134,82514392.9116134,82377300.40275508,82240207.89389677,82240207.89389677,82240207.89389677,82103115.38503845,82103115.38503845,82103115.38503845,81966022.87618014,81966022.87618014,81828930.36732182,81828930.36732182,81828930.36732182,81828930.36732182,81691837.85846351,81691837.85846351,81691837.85846351,81691837.85846351,81554745.3496052,81554745.3496052,81417652.84074688,81417652.84074688,81417652.84074688,81417652.84074688,81417652.84074688,81280560.33188857,81280560.33188857,81280560.33188857,81280560.33188857,81143467.82303025,81143467.82303025,81143467.82303025,81143467.82303025,81006375.31417194,81006375.31417194,81006375.31417194,81006375.31417194,81006375.31417194,81006375.31417194,81006375.31417194,80869282.80531362,80869282.80531362,80869282.80531362,80869282.80531362,80869282.80531362,80732190.29645531,80732190.29645531,80732190.29645531,80732190.29645531,80732190.29645531,80732190.29645531,80595097.78759699,80595097.78759699,80595097.78759699,80595097.78759699,80595097.78759699,80595097.78759699,80595097.78759699,80595097.78759699,80458005.27873868,80458005.27873868,80458005.27873868,80458005.27873868,80458005.27873868,80458005.27873868,80458005.27873868,80458005.27873868,80458005.27873868,80458005.27873868,80320912.76988035,80320912.76988035,80320912.76988035,80320912.76988035,80320912.76988035,80320912.76988035,80183820.26102205,80183820.26102205,80183820.26102205,80183820.26102205,80183820.26102205,80183820.26102205,80183820.26102205,80183820.26102205,80183820.26102205,80183820.26102205,80183820.26102205,80046727.75216374,80046727.75216374,80046727.75216374,80046727.75216374,80046727.75216374,80046727.75216374,80046727.75216374,80046727.75216374,80046727.75216374,80046727.75216374,80046727.75216374,80046727.75216374,80046727.75216374,80046727.75216374,80046727.75216374,79909635.24330541,79909635.24330541,79909635.24330541,79909635.24330541,79909635.24330541,79909635.24330541,79909635.24330541,79909635.24330541,79909635.24330541,79909635.24330541,79909635.24330541,79909635.24330541,79909635.24330541,79909635.24330541,79909635.24330541,79909635.24330541,79909635.24330541,79772542.7344471,79772542.7344471,79772542.7344471,79772542.7344471,79772542.7344471,79772542.7344471,79772542.7344471,79772542.7344471,79772542.7344471,79772542.7344471,79772542.7344471,79772542.7344471,79772542.7344471,79635450.22558878,79635450.22558878,79635450.22558878,79635450.22558878,79635450.22558878,79635450.22558878,79635450.22558878,79635450.22558878,79635450.22558878,79635450.22558878,79635450.22558878,79635450.22558878,79635450.22558878,79635450.22558878,79635450.22558878,79635450.22558878,79635450.22558878,79635450.22558878,79635450.22558878,79498357.71673048,79498357.71673048,79498357.71673048,79498357.71673048,79498357.71673048,79498357.71673048,79498357.71673048,79498357.71673048,79498357.71673048,79498357.71673048,79498357.71673048,79498357.71673048,79498357.71673048,79498357.71673048,79361265.20787215,79361265.20787215,79361265.20787215,79361265.20787215,79361265.20787215,79361265.20787215,79361265.20787215,79361265.20787215,79361265.20787215,79361265.20787215,79361265.20787215,79361265.20787215,79361265.20787215,79361265.20787215,79361265.20787215,79224172.69901384,79224172.69901384,79224172.69901384,79224172.69901384,79224172.69901384,79224172.69901384,79224172.69901384,79224172.69901384,79224172.69901384,79224172.69901384,79224172.69901384,79224172.69901384,79224172.69901384,79224172.69901384,79087080.19015554,79087080.19015554,79087080.19015554,79087080.19015554,79087080.19015554,79087080.19015554,79087080.19015554,79087080.19015554,79087080.19015554,79087080.19015554,79087080.19015554,79087080.19015554,79087080.19015554,79087080.19015554,79087080.19015554,79087080.19015554,79087080.19015554,79087080.19015554,79087080.19015554,79087080.19015554,79087080.19015554,79087080.19015554,79087080.19015554,79087080.19015554,79087080.19015554,78949987.68129721,78949987.68129721,78949987.68129721,78949987.68129721,78949987.68129721,78949987.68129721,78949987.68129721,78949987.68129721,78949987.68129721,78949987.68129721,78949987.68129721,78949987.68129721,78949987.68129721,78949987.68129721,78949987.68129721,78949987.68129721,78949987.68129721,78949987.68129721,78949987.68129721,78949987.68129721,78949987.68129721,78949987.68129721,78949987.68129721,78812895.1724389,78812895.1724389,78812895.1724389,78812895.1724389,78812895.1724389,78812895.1724389,78812895.1724389,78812895.1724389,78812895.1724389,78812895.1724389,78812895.1724389,78812895.1724389,78812895.1724389,78812895.1724389,78812895.1724389,78812895.1724389,78812895.1724389,78812895.1724389,78812895.1724389,78812895.1724389,78812895.1724389,78812895.1724389,78812895.1724389,78675802.66358058,78675802.66358058,78675802.66358058,78675802.66358058,78675802.66358058,78675802.66358058,78675802.66358058,78675802.66358058,78675802.66358058,78675802.66358058,78675802.66358058,78675802.66358058,78675802.66358058,78675802.66358058,78675802.66358058,78675802.66358058,78675802.66358058,78675802.66358058,78675802.66358058,78538710.15472227,78538710.15472227,78538710.15472227,78538710.15472227,78538710.15472227,78538710.15472227,78538710.15472227,78538710.15472227,78538710.15472227,78538710.15472227,78538710.15472227,78538710.15472227,78538710.15472227,78538710.15472227,78538710.15472227,78538710.15472227,78538710.15472227,78538710.15472227,78538710.15472227,78538710.15472227,78538710.15472227,78538710.15472227,78538710.15472227,78538710.15472227,78538710.15472227,78538710.15472227,78538710.15472227,78538710.15472227,78538710.15472227,78538710.15472227,78401617.64586395,78401617.64586395,78401617.64586395,78401617.64586395,78401617.64586395,78401617.64586395,78401617.64586395,78401617.64586395,78401617.64586395,78401617.64586395,78401617.64586395,78401617.64586395,78401617.64586395,78401617.64586395,78401617.64586395,78401617.64586395,78401617.64586395,78401617.64586395,78401617.64586395,78401617.64586395,78401617.64586395,78401617.64586395,78264525.13700564,78264525.13700564,78264525.13700564,78264525.13700564,78264525.13700564,78264525.13700564,78264525.13700564,78264525.13700564,78264525.13700564,78264525.13700564,78264525.13700564,78264525.13700564,78264525.13700564,78264525.13700564,78264525.13700564,78264525.13700564,78264525.13700564,78264525.13700564,78127432.62814733,78127432.62814733,78127432.62814733,78127432.62814733,78127432.62814733,78127432.62814733,78127432.62814733,78127432.62814733,78127432.62814733,78127432.62814733,78127432.62814733,78127432.62814733,78127432.62814733,78127432.62814733,78127432.62814733,78127432.62814733,78127432.62814733,78127432.62814733,78127432.62814733,78127432.62814733,78127432.62814733,77990340.11928901,77990340.11928901,77990340.11928901,77990340.11928901,77990340.11928901,77990340.11928901,77990340.11928901,77990340.11928901,77990340.11928901,77990340.11928901,77990340.11928901,77990340.11928901,77990340.11928901,77990340.11928901,77990340.11928901,77990340.11928901,77990340.11928901,77990340.11928901,77990340.11928901,77990340.11928901,77990340.11928901,77990340.11928901,77990340.11928901,77990340.11928901,77990340.11928901,77990340.11928901,77853247.6104307,77853247.6104307,77853247.6104307,77853247.6104307,77853247.6104307,77853247.6104307,77853247.6104307,77853247.6104307,77853247.6104307,77853247.6104307,77853247.6104307,77853247.6104307,77853247.6104307,77853247.6104307,77853247.6104307,77853247.6104307,77853247.6104307,77853247.6104307,77853247.6104307,77716155.10157238,77716155.10157238,77716155.10157238,77716155.10157238,77716155.10157238,77716155.10157238,77716155.10157238,77716155.10157238,77716155.10157238,77716155.10157238,77716155.10157238,77716155.10157238,77716155.10157238,77716155.10157238,77716155.10157238,77716155.10157238,77716155.10157238,77716155.10157238,77716155.10157238,77716155.10157238,77716155.10157238,77579062.59271407,77579062.59271407,77579062.59271407,77579062.59271407,77579062.59271407,77579062.59271407,77579062.59271407,77579062.59271407,77579062.59271407,77579062.59271407,77579062.59271407,77579062.59271407,77579062.59271407,77579062.59271407,77579062.59271407,77579062.59271407,77579062.59271407,77579062.59271407,77579062.59271407,77579062.59271407,77579062.59271407,77441970.08385575,77441970.08385575,77441970.08385575,77441970.08385575,77441970.08385575,77441970.08385575,77441970.08385575,77441970.08385575,77441970.08385575,77441970.08385575,77441970.08385575,77441970.08385575,77441970.08385575,77441970.08385575,77441970.08385575,77441970.08385575,77441970.08385575,77441970.08385575,77441970.08385575,77441970.08385575,77441970.08385575,77441970.08385575,77441970.08385575,77441970.08385575,77441970.08385575,77304877.57499744,77304877.57499744,77304877.57499744,77304877.57499744,77304877.57499744,77304877.57499744,77304877.57499744,77304877.57499744,77304877.57499744,77304877.57499744,77304877.57499744,77304877.57499744,77304877.57499744,77304877.57499744,77304877.57499744,77304877.57499744,77304877.57499744,77304877.57499744,77304877.57499744,77304877.57499744,77304877.57499744,77304877.57499744,77304877.57499744,77167785.06613913,77167785.06613913,77167785.06613913,77167785.06613913,77167785.06613913,77167785.06613913,77167785.06613913,77167785.06613913,77167785.06613913,77167785.06613913,77167785.06613913,77167785.06613913,77167785.06613913,77167785.06613913,77167785.06613913,77167785.06613913,77167785.06613913,77167785.06613913,77167785.06613913,77167785.06613913,77167785.06613913,77030692.55728081,77030692.55728081,77030692.55728081,77030692.55728081,77030692.55728081,77030692.55728081,77030692.55728081,77030692.55728081,77030692.55728081,77030692.55728081,77030692.55728081,77030692.55728081,77030692.55728081,77030692.55728081,77030692.55728081,77030692.55728081,77030692.55728081,77030692.55728081,77030692.55728081,76893600.0484225,76893600.0484225,76893600.0484225,76893600.0484225,76893600.0484225,76893600.0484225,76893600.0484225,76893600.0484225,76893600.0484225,76893600.0484225,76893600.0484225,76893600.0484225,76893600.0484225,76893600.0484225,76893600.0484225,76893600.0484225,76893600.0484225,76893600.0484225,76893600.0484225,76893600.0484225,76756507.53956418,76756507.53956418,76756507.53956418,76756507.53956418,76756507.53956418,76756507.53956418,76756507.53956418,76756507.53956418,76756507.53956418,76756507.53956418,76619415.03070587,76619415.03070587,76619415.03070587,76619415.03070587,76619415.03070587,76619415.03070587,76619415.03070587,76619415.03070587,76619415.03070587,76619415.03070587,76619415.03070587,76619415.03070587,76619415.03070587,76619415.03070587,76619415.03070587,76619415.03070587,76619415.03070587,76619415.03070587,76619415.03070587,76619415.03070587,76619415.03070587,76619415.03070587,76619415.03070587,76619415.03070587,76482322.52184755,76482322.52184755,76482322.52184755,76482322.52184755,76482322.52184755,76482322.52184755,76482322.52184755,76482322.52184755,76482322.52184755,76482322.52184755,76482322.52184755,76482322.52184755,76345230.01298924,76345230.01298924,76345230.01298924,76345230.01298924,76345230.01298924,76345230.01298924,76345230.01298924,76345230.01298924,76345230.01298924,76345230.01298924,76345230.01298924,76208137.50413093,76208137.50413093,76208137.50413093,76208137.50413093,76208137.50413093,76208137.50413093,76208137.50413093,76208137.50413093,76208137.50413093,76071044.9952726,76071044.9952726,76071044.9952726,76071044.9952726,76071044.9952726,76071044.9952726,76071044.9952726,76071044.9952726,76071044.9952726,76071044.9952726,76071044.9952726,76071044.9952726,76071044.9952726,76071044.9952726,76071044.9952726,75933952.4864143,75933952.4864143,75933952.4864143,75933952.4864143,75933952.4864143,75933952.4864143,75933952.4864143,75933952.4864143,75933952.4864143,75796859.97755598,75796859.97755598,75796859.97755598,75796859.97755598,75796859.97755598,75796859.97755598,75796859.97755598,75796859.97755598,75796859.97755598,75796859.97755598,75796859.97755598,75796859.97755598,75659767.46869767,75659767.46869767,75659767.46869767,75659767.46869767,75659767.46869767,75659767.46869767,75659767.46869767,75659767.46869767,75522674.95983934,75522674.95983934,75522674.95983934,75522674.95983934,75522674.95983934,75522674.95983934,75385582.45098104,75385582.45098104,75385582.45098104,75248489.94212273,75248489.94212273,75248489.94212273,75248489.94212273,75248489.94212273,75248489.94212273,75248489.94212273,75248489.94212273,75248489.94212273,75248489.94212273,75248489.94212273],\"yaxis\":\"y2\",\"type\":\"scatter\"}],                        {\"template\":{\"data\":{\"histogram2dcontour\":[{\"type\":\"histogram2dcontour\",\"colorbar\":{\"outlinewidth\":0,\"ticks\":\"\"},\"colorscale\":[[0.0,\"#0d0887\"],[0.1111111111111111,\"#46039f\"],[0.2222222222222222,\"#7201a8\"],[0.3333333333333333,\"#9c179e\"],[0.4444444444444444,\"#bd3786\"],[0.5555555555555556,\"#d8576b\"],[0.6666666666666666,\"#ed7953\"],[0.7777777777777778,\"#fb9f3a\"],[0.8888888888888888,\"#fdca26\"],[1.0,\"#f0f921\"]]}],\"choropleth\":[{\"type\":\"choropleth\",\"colorbar\":{\"outlinewidth\":0,\"ticks\":\"\"}}],\"histogram2d\":[{\"type\":\"histogram2d\",\"colorbar\":{\"outlinewidth\":0,\"ticks\":\"\"},\"colorscale\":[[0.0,\"#0d0887\"],[0.1111111111111111,\"#46039f\"],[0.2222222222222222,\"#7201a8\"],[0.3333333333333333,\"#9c179e\"],[0.4444444444444444,\"#bd3786\"],[0.5555555555555556,\"#d8576b\"],[0.6666666666666666,\"#ed7953\"],[0.7777777777777778,\"#fb9f3a\"],[0.8888888888888888,\"#fdca26\"],[1.0,\"#f0f921\"]]}],\"heatmap\":[{\"type\":\"heatmap\",\"colorbar\":{\"outlinewidth\":0,\"ticks\":\"\"},\"colorscale\":[[0.0,\"#0d0887\"],[0.1111111111111111,\"#46039f\"],[0.2222222222222222,\"#7201a8\"],[0.3333333333333333,\"#9c179e\"],[0.4444444444444444,\"#bd3786\"],[0.5555555555555556,\"#d8576b\"],[0.6666666666666666,\"#ed7953\"],[0.7777777777777778,\"#fb9f3a\"],[0.8888888888888888,\"#fdca26\"],[1.0,\"#f0f921\"]]}],\"heatmapgl\":[{\"type\":\"heatmapgl\",\"colorbar\":{\"outlinewidth\":0,\"ticks\":\"\"},\"colorscale\":[[0.0,\"#0d0887\"],[0.1111111111111111,\"#46039f\"],[0.2222222222222222,\"#7201a8\"],[0.3333333333333333,\"#9c179e\"],[0.4444444444444444,\"#bd3786\"],[0.5555555555555556,\"#d8576b\"],[0.6666666666666666,\"#ed7953\"],[0.7777777777777778,\"#fb9f3a\"],[0.8888888888888888,\"#fdca26\"],[1.0,\"#f0f921\"]]}],\"contourcarpet\":[{\"type\":\"contourcarpet\",\"colorbar\":{\"outlinewidth\":0,\"ticks\":\"\"}}],\"contour\":[{\"type\":\"contour\",\"colorbar\":{\"outlinewidth\":0,\"ticks\":\"\"},\"colorscale\":[[0.0,\"#0d0887\"],[0.1111111111111111,\"#46039f\"],[0.2222222222222222,\"#7201a8\"],[0.3333333333333333,\"#9c179e\"],[0.4444444444444444,\"#bd3786\"],[0.5555555555555556,\"#d8576b\"],[0.6666666666666666,\"#ed7953\"],[0.7777777777777778,\"#fb9f3a\"],[0.8888888888888888,\"#fdca26\"],[1.0,\"#f0f921\"]]}],\"surface\":[{\"type\":\"surface\",\"colorbar\":{\"outlinewidth\":0,\"ticks\":\"\"},\"colorscale\":[[0.0,\"#0d0887\"],[0.1111111111111111,\"#46039f\"],[0.2222222222222222,\"#7201a8\"],[0.3333333333333333,\"#9c179e\"],[0.4444444444444444,\"#bd3786\"],[0.5555555555555556,\"#d8576b\"],[0.6666666666666666,\"#ed7953\"],[0.7777777777777778,\"#fb9f3a\"],[0.8888888888888888,\"#fdca26\"],[1.0,\"#f0f921\"]]}],\"mesh3d\":[{\"type\":\"mesh3d\",\"colorbar\":{\"outlinewidth\":0,\"ticks\":\"\"}}],\"scatter\":[{\"fillpattern\":{\"fillmode\":\"overlay\",\"size\":10,\"solidity\":0.2},\"type\":\"scatter\"}],\"parcoords\":[{\"type\":\"parcoords\",\"line\":{\"colorbar\":{\"outlinewidth\":0,\"ticks\":\"\"}}}],\"scatterpolargl\":[{\"type\":\"scatterpolargl\",\"marker\":{\"colorbar\":{\"outlinewidth\":0,\"ticks\":\"\"}}}],\"bar\":[{\"error_x\":{\"color\":\"#2a3f5f\"},\"error_y\":{\"color\":\"#2a3f5f\"},\"marker\":{\"line\":{\"color\":\"#E5ECF6\",\"width\":0.5},\"pattern\":{\"fillmode\":\"overlay\",\"size\":10,\"solidity\":0.2}},\"type\":\"bar\"}],\"scattergeo\":[{\"type\":\"scattergeo\",\"marker\":{\"colorbar\":{\"outlinewidth\":0,\"ticks\":\"\"}}}],\"scatterpolar\":[{\"type\":\"scatterpolar\",\"marker\":{\"colorbar\":{\"outlinewidth\":0,\"ticks\":\"\"}}}],\"histogram\":[{\"marker\":{\"pattern\":{\"fillmode\":\"overlay\",\"size\":10,\"solidity\":0.2}},\"type\":\"histogram\"}],\"scattergl\":[{\"type\":\"scattergl\",\"marker\":{\"colorbar\":{\"outlinewidth\":0,\"ticks\":\"\"}}}],\"scatter3d\":[{\"type\":\"scatter3d\",\"line\":{\"colorbar\":{\"outlinewidth\":0,\"ticks\":\"\"}},\"marker\":{\"colorbar\":{\"outlinewidth\":0,\"ticks\":\"\"}}}],\"scattermapbox\":[{\"type\":\"scattermapbox\",\"marker\":{\"colorbar\":{\"outlinewidth\":0,\"ticks\":\"\"}}}],\"scatterternary\":[{\"type\":\"scatterternary\",\"marker\":{\"colorbar\":{\"outlinewidth\":0,\"ticks\":\"\"}}}],\"scattercarpet\":[{\"type\":\"scattercarpet\",\"marker\":{\"colorbar\":{\"outlinewidth\":0,\"ticks\":\"\"}}}],\"carpet\":[{\"aaxis\":{\"endlinecolor\":\"#2a3f5f\",\"gridcolor\":\"white\",\"linecolor\":\"white\",\"minorgridcolor\":\"white\",\"startlinecolor\":\"#2a3f5f\"},\"baxis\":{\"endlinecolor\":\"#2a3f5f\",\"gridcolor\":\"white\",\"linecolor\":\"white\",\"minorgridcolor\":\"white\",\"startlinecolor\":\"#2a3f5f\"},\"type\":\"carpet\"}],\"table\":[{\"cells\":{\"fill\":{\"color\":\"#EBF0F8\"},\"line\":{\"color\":\"white\"}},\"header\":{\"fill\":{\"color\":\"#C8D4E3\"},\"line\":{\"color\":\"white\"}},\"type\":\"table\"}],\"barpolar\":[{\"marker\":{\"line\":{\"color\":\"#E5ECF6\",\"width\":0.5},\"pattern\":{\"fillmode\":\"overlay\",\"size\":10,\"solidity\":0.2}},\"type\":\"barpolar\"}],\"pie\":[{\"automargin\":true,\"type\":\"pie\"}]},\"layout\":{\"autotypenumbers\":\"strict\",\"colorway\":[\"#636efa\",\"#EF553B\",\"#00cc96\",\"#ab63fa\",\"#FFA15A\",\"#19d3f3\",\"#FF6692\",\"#B6E880\",\"#FF97FF\",\"#FECB52\"],\"font\":{\"color\":\"#2a3f5f\"},\"hovermode\":\"closest\",\"hoverlabel\":{\"align\":\"left\"},\"paper_bgcolor\":\"white\",\"plot_bgcolor\":\"#E5ECF6\",\"polar\":{\"bgcolor\":\"#E5ECF6\",\"angularaxis\":{\"gridcolor\":\"white\",\"linecolor\":\"white\",\"ticks\":\"\"},\"radialaxis\":{\"gridcolor\":\"white\",\"linecolor\":\"white\",\"ticks\":\"\"}},\"ternary\":{\"bgcolor\":\"#E5ECF6\",\"aaxis\":{\"gridcolor\":\"white\",\"linecolor\":\"white\",\"ticks\":\"\"},\"baxis\":{\"gridcolor\":\"white\",\"linecolor\":\"white\",\"ticks\":\"\"},\"caxis\":{\"gridcolor\":\"white\",\"linecolor\":\"white\",\"ticks\":\"\"}},\"coloraxis\":{\"colorbar\":{\"outlinewidth\":0,\"ticks\":\"\"}},\"colorscale\":{\"sequential\":[[0.0,\"#0d0887\"],[0.1111111111111111,\"#46039f\"],[0.2222222222222222,\"#7201a8\"],[0.3333333333333333,\"#9c179e\"],[0.4444444444444444,\"#bd3786\"],[0.5555555555555556,\"#d8576b\"],[0.6666666666666666,\"#ed7953\"],[0.7777777777777778,\"#fb9f3a\"],[0.8888888888888888,\"#fdca26\"],[1.0,\"#f0f921\"]],\"sequentialminus\":[[0.0,\"#0d0887\"],[0.1111111111111111,\"#46039f\"],[0.2222222222222222,\"#7201a8\"],[0.3333333333333333,\"#9c179e\"],[0.4444444444444444,\"#bd3786\"],[0.5555555555555556,\"#d8576b\"],[0.6666666666666666,\"#ed7953\"],[0.7777777777777778,\"#fb9f3a\"],[0.8888888888888888,\"#fdca26\"],[1.0,\"#f0f921\"]],\"diverging\":[[0,\"#8e0152\"],[0.1,\"#c51b7d\"],[0.2,\"#de77ae\"],[0.3,\"#f1b6da\"],[0.4,\"#fde0ef\"],[0.5,\"#f7f7f7\"],[0.6,\"#e6f5d0\"],[0.7,\"#b8e186\"],[0.8,\"#7fbc41\"],[0.9,\"#4d9221\"],[1,\"#276419\"]]},\"xaxis\":{\"gridcolor\":\"white\",\"linecolor\":\"white\",\"ticks\":\"\",\"title\":{\"standoff\":15},\"zerolinecolor\":\"white\",\"automargin\":true,\"zerolinewidth\":2},\"yaxis\":{\"gridcolor\":\"white\",\"linecolor\":\"white\",\"ticks\":\"\",\"title\":{\"standoff\":15},\"zerolinecolor\":\"white\",\"automargin\":true,\"zerolinewidth\":2},\"scene\":{\"xaxis\":{\"backgroundcolor\":\"#E5ECF6\",\"gridcolor\":\"white\",\"linecolor\":\"white\",\"showbackground\":true,\"ticks\":\"\",\"zerolinecolor\":\"white\",\"gridwidth\":2},\"yaxis\":{\"backgroundcolor\":\"#E5ECF6\",\"gridcolor\":\"white\",\"linecolor\":\"white\",\"showbackground\":true,\"ticks\":\"\",\"zerolinecolor\":\"white\",\"gridwidth\":2},\"zaxis\":{\"backgroundcolor\":\"#E5ECF6\",\"gridcolor\":\"white\",\"linecolor\":\"white\",\"showbackground\":true,\"ticks\":\"\",\"zerolinecolor\":\"white\",\"gridwidth\":2}},\"shapedefaults\":{\"line\":{\"color\":\"#2a3f5f\"}},\"annotationdefaults\":{\"arrowcolor\":\"#2a3f5f\",\"arrowhead\":0,\"arrowwidth\":1},\"geo\":{\"bgcolor\":\"white\",\"landcolor\":\"#E5ECF6\",\"subunitcolor\":\"white\",\"showland\":true,\"showlakes\":true,\"lakecolor\":\"white\"},\"title\":{\"x\":0.05},\"mapbox\":{\"style\":\"light\"}}},\"xaxis\":{\"anchor\":\"y\",\"domain\":[0.0,0.45],\"range\":[1,100]},\"yaxis\":{\"anchor\":\"x\",\"domain\":[0.0,1.0]},\"xaxis2\":{\"anchor\":\"y2\",\"domain\":[0.55,1.0],\"range\":[1,100]},\"yaxis2\":{\"anchor\":\"x2\",\"domain\":[0.0,1.0]},\"annotations\":[{\"font\":{\"size\":16},\"showarrow\":false,\"text\":\"coerr=0.155\",\"x\":0.225,\"xanchor\":\"center\",\"xref\":\"paper\",\"y\":1.0,\"yanchor\":\"bottom\",\"yref\":\"paper\"},{\"font\":{\"size\":16},\"showarrow\":false,\"text\":\"coerr=0.092\",\"x\":0.775,\"xanchor\":\"center\",\"xref\":\"paper\",\"y\":1.0,\"yanchor\":\"bottom\",\"yref\":\"paper\"}],\"title\":{\"text\":\"IMDB and Meta Ration to gross\"}},                        {\"responsive\": true}                    ).then(function(){\n",
              "                            \n",
              "var gd = document.getElementById('a7f28414-0d6d-4845-a960-be17a78cfa17');\n",
              "var x = new MutationObserver(function (mutations, observer) {{\n",
              "        var display = window.getComputedStyle(gd).display;\n",
              "        if (!display || display === 'none') {{\n",
              "            console.log([gd, 'removed!']);\n",
              "            Plotly.purge(gd);\n",
              "            observer.disconnect();\n",
              "        }}\n",
              "}});\n",
              "\n",
              "// Listen for the removal of the full notebook cells\n",
              "var notebookContainer = gd.closest('#notebook-container');\n",
              "if (notebookContainer) {{\n",
              "    x.observe(notebookContainer, {childList: true});\n",
              "}}\n",
              "\n",
              "// Listen for the clearing of the current output cell\n",
              "var outputEl = gd.closest('.output');\n",
              "if (outputEl) {{\n",
              "    x.observe(outputEl, {childList: true});\n",
              "}}\n",
              "\n",
              "                        })                };                            </script>        </div>\n",
              "</body>\n",
              "</html>"
            ]
          },
          "metadata": {}
        }
      ]
    },
    {
      "cell_type": "markdown",
      "source": [
        "Hypthesis has not been confirmed, there are very little correlations between rating and gross"
      ],
      "metadata": {
        "id": "-s-OwWDj0MKK"
      }
    }
  ]
}